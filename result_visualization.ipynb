{
 "cells": [
  {
   "cell_type": "code",
   "id": "initial_id",
   "metadata": {
    "collapsed": true,
    "ExecuteTime": {
     "end_time": "2025-03-12T13:57:41.959984Z",
     "start_time": "2025-03-12T13:57:41.938868Z"
    }
   },
   "source": [
    "import pandas as pd\n",
    "import numpy as np\n",
    "import plotly.express as plt\n",
    "import seaborn as sns\n",
    "import plotly.express as px\n",
    "import plotly.graph_objects as go\n",
    "from plotly.subplots import make_subplots\n",
    "import plotly.io as pio\n",
    "\n",
    "pio.templates.default = \"plotly_white\""
   ],
   "outputs": [],
   "execution_count": 23
  },
  {
   "metadata": {},
   "cell_type": "markdown",
   "source": "# Matching result import",
   "id": "9c4dbb1241ea576a"
  },
  {
   "metadata": {
    "ExecuteTime": {
     "end_time": "2025-03-12T13:58:13.765390Z",
     "start_time": "2025-03-12T13:57:42.014283Z"
    }
   },
   "cell_type": "code",
   "source": [
    "matched_spectra_df = pd.read_csv(\"results/matched_spectra_df.csv\")\n",
    "matched_spectra_df['scoring_function'] = matched_spectra_df['scoring_function'].replace('optimize_q_wrapper', 'Andromeda')\n",
    "matched_spectra_df['scoring_function'] = matched_spectra_df['scoring_function'].replace('simple_scoring_function', 'Simple Scoring')\n",
    "matched_spectra_df['experiment_name'] = matched_spectra_df['experiment_name'].str.replace('new_', '')\n",
    "matched_spectra_df.head()\n"
   ],
   "id": "175dbb81470dd86c",
   "outputs": [
    {
     "data": {
      "text/plain": [
       "   Unnamed: 0          experiment_name protein_id  precursor_mass  \\\n",
       "0      265627  CTR45_BA46_INSOLUBLE_01   Q92752-2     2216.063415   \n",
       "1      205776  CTR08_BA46_INSOLUBLE_01     Q16555     2376.183497   \n",
       "2      261788  CTR45_BA46_INSOLUBLE_01     Q16555     2149.904383   \n",
       "3      261615  CTR45_BA46_INSOLUBLE_01     Q16555     2149.908256   \n",
       "4      215618  CTR08_BA46_INSOLUBLE_01     Q16555     2149.925062   \n",
       "\n",
       "   precursor_mz                                           mz_array  \\\n",
       "0   1109.038984  [ 155.0414851  155.0433163  155.0451474 ... 19...   \n",
       "1   1189.099025  [ 168.0583574  168.0604239  168.0624904  168.0...   \n",
       "2   1075.959468  [ 155.3422645  155.3441009  155.3459374 ... 20...   \n",
       "3   1075.961404  [ 155.3418346  155.3436711  155.3455076 ... 20...   \n",
       "4   1075.969808  [ 155.0520131  155.0538444  155.0556757  155.0...   \n",
       "\n",
       "                                     intensity_array                sequence  \\\n",
       "0  [ 3031.17358398  5204.18652344  5612.05322266 ...     VGFGNVEDEFWLGLDNIHR   \n",
       "1  [  368.80072021  1290.04040527  2300.48828125 ...  DIGAIAQVHAENGDIIAEEQQR   \n",
       "2  [ 14112.66699219  48678.359375    94077.273437...     FQMPDQGMTSADDFFQGTK   \n",
       "3  [ 852.85089111 1357.58056641 1541.8482666  ......     FQMPDQGMTSADDFFQGTK   \n",
       "4  [6.63858643e+02 1.45439624e+03 1.99269617e+03 ...     FQMPDQGMTSADDFFQGTK   \n",
       "\n",
       "   peptide_mass                                          fragments  \\\n",
       "0   2216.065066  [ 100.07569038 2118.00392892  157.0971541  206...   \n",
       "1   2376.166965  [ 116.03421949 2262.14729868  229.11828347 214...   \n",
       "2   2149.908491  [ 148.07569038 2003.84735382  276.13426789 187...   \n",
       "3   2149.908491  [ 148.07569038 2003.84735382  276.13426789 187...   \n",
       "4   2149.908491  [ 148.07569038 2003.84735382  276.13426789 187...   \n",
       "\n",
       "   match_score  scan_id  is_target scoring_function  \n",
       "0   159.545898    54004       True        Andromeda  \n",
       "1   159.545898    39356       True        Andromeda  \n",
       "2   159.545898    49528       True        Andromeda  \n",
       "3   159.545898    49329       True        Andromeda  \n",
       "4   159.545898    50470       True        Andromeda  "
      ],
      "text/html": [
       "<div>\n",
       "<style scoped>\n",
       "    .dataframe tbody tr th:only-of-type {\n",
       "        vertical-align: middle;\n",
       "    }\n",
       "\n",
       "    .dataframe tbody tr th {\n",
       "        vertical-align: top;\n",
       "    }\n",
       "\n",
       "    .dataframe thead th {\n",
       "        text-align: right;\n",
       "    }\n",
       "</style>\n",
       "<table border=\"1\" class=\"dataframe\">\n",
       "  <thead>\n",
       "    <tr style=\"text-align: right;\">\n",
       "      <th></th>\n",
       "      <th>Unnamed: 0</th>\n",
       "      <th>experiment_name</th>\n",
       "      <th>protein_id</th>\n",
       "      <th>precursor_mass</th>\n",
       "      <th>precursor_mz</th>\n",
       "      <th>mz_array</th>\n",
       "      <th>intensity_array</th>\n",
       "      <th>sequence</th>\n",
       "      <th>peptide_mass</th>\n",
       "      <th>fragments</th>\n",
       "      <th>match_score</th>\n",
       "      <th>scan_id</th>\n",
       "      <th>is_target</th>\n",
       "      <th>scoring_function</th>\n",
       "    </tr>\n",
       "  </thead>\n",
       "  <tbody>\n",
       "    <tr>\n",
       "      <th>0</th>\n",
       "      <td>265627</td>\n",
       "      <td>CTR45_BA46_INSOLUBLE_01</td>\n",
       "      <td>Q92752-2</td>\n",
       "      <td>2216.063415</td>\n",
       "      <td>1109.038984</td>\n",
       "      <td>[ 155.0414851  155.0433163  155.0451474 ... 19...</td>\n",
       "      <td>[ 3031.17358398  5204.18652344  5612.05322266 ...</td>\n",
       "      <td>VGFGNVEDEFWLGLDNIHR</td>\n",
       "      <td>2216.065066</td>\n",
       "      <td>[ 100.07569038 2118.00392892  157.0971541  206...</td>\n",
       "      <td>159.545898</td>\n",
       "      <td>54004</td>\n",
       "      <td>True</td>\n",
       "      <td>Andromeda</td>\n",
       "    </tr>\n",
       "    <tr>\n",
       "      <th>1</th>\n",
       "      <td>205776</td>\n",
       "      <td>CTR08_BA46_INSOLUBLE_01</td>\n",
       "      <td>Q16555</td>\n",
       "      <td>2376.183497</td>\n",
       "      <td>1189.099025</td>\n",
       "      <td>[ 168.0583574  168.0604239  168.0624904  168.0...</td>\n",
       "      <td>[  368.80072021  1290.04040527  2300.48828125 ...</td>\n",
       "      <td>DIGAIAQVHAENGDIIAEEQQR</td>\n",
       "      <td>2376.166965</td>\n",
       "      <td>[ 116.03421949 2262.14729868  229.11828347 214...</td>\n",
       "      <td>159.545898</td>\n",
       "      <td>39356</td>\n",
       "      <td>True</td>\n",
       "      <td>Andromeda</td>\n",
       "    </tr>\n",
       "    <tr>\n",
       "      <th>2</th>\n",
       "      <td>261788</td>\n",
       "      <td>CTR45_BA46_INSOLUBLE_01</td>\n",
       "      <td>Q16555</td>\n",
       "      <td>2149.904383</td>\n",
       "      <td>1075.959468</td>\n",
       "      <td>[ 155.3422645  155.3441009  155.3459374 ... 20...</td>\n",
       "      <td>[ 14112.66699219  48678.359375    94077.273437...</td>\n",
       "      <td>FQMPDQGMTSADDFFQGTK</td>\n",
       "      <td>2149.908491</td>\n",
       "      <td>[ 148.07569038 2003.84735382  276.13426789 187...</td>\n",
       "      <td>159.545898</td>\n",
       "      <td>49528</td>\n",
       "      <td>True</td>\n",
       "      <td>Andromeda</td>\n",
       "    </tr>\n",
       "    <tr>\n",
       "      <th>3</th>\n",
       "      <td>261615</td>\n",
       "      <td>CTR45_BA46_INSOLUBLE_01</td>\n",
       "      <td>Q16555</td>\n",
       "      <td>2149.908256</td>\n",
       "      <td>1075.961404</td>\n",
       "      <td>[ 155.3418346  155.3436711  155.3455076 ... 20...</td>\n",
       "      <td>[ 852.85089111 1357.58056641 1541.8482666  ......</td>\n",
       "      <td>FQMPDQGMTSADDFFQGTK</td>\n",
       "      <td>2149.908491</td>\n",
       "      <td>[ 148.07569038 2003.84735382  276.13426789 187...</td>\n",
       "      <td>159.545898</td>\n",
       "      <td>49329</td>\n",
       "      <td>True</td>\n",
       "      <td>Andromeda</td>\n",
       "    </tr>\n",
       "    <tr>\n",
       "      <th>4</th>\n",
       "      <td>215618</td>\n",
       "      <td>CTR08_BA46_INSOLUBLE_01</td>\n",
       "      <td>Q16555</td>\n",
       "      <td>2149.925062</td>\n",
       "      <td>1075.969808</td>\n",
       "      <td>[ 155.0520131  155.0538444  155.0556757  155.0...</td>\n",
       "      <td>[6.63858643e+02 1.45439624e+03 1.99269617e+03 ...</td>\n",
       "      <td>FQMPDQGMTSADDFFQGTK</td>\n",
       "      <td>2149.908491</td>\n",
       "      <td>[ 148.07569038 2003.84735382  276.13426789 187...</td>\n",
       "      <td>159.545898</td>\n",
       "      <td>50470</td>\n",
       "      <td>True</td>\n",
       "      <td>Andromeda</td>\n",
       "    </tr>\n",
       "  </tbody>\n",
       "</table>\n",
       "</div>"
      ]
     },
     "execution_count": 24,
     "metadata": {},
     "output_type": "execute_result"
    }
   ],
   "execution_count": 24
  },
  {
   "metadata": {},
   "cell_type": "markdown",
   "source": "# FDR calculation",
   "id": "b0e92f51d9f19445"
  },
  {
   "metadata": {
    "ExecuteTime": {
     "end_time": "2025-03-12T13:58:15.285502Z",
     "start_time": "2025-03-12T13:58:13.846095Z"
    }
   },
   "cell_type": "code",
   "source": [
    "from utils import calculate_fdr\n",
    "fdr_df = calculate_fdr(matched_spectra_df)\n",
    "fdr_df.head()"
   ],
   "id": "87e133f190904319",
   "outputs": [
    {
     "data": {
      "text/plain": [
       "   Unnamed: 0          experiment_name protein_id  precursor_mass  \\\n",
       "0      163317  CTR03_BA46_INSOLUBLE_01     P09972     2272.124851   \n",
       "1      172088  CTR03_BA46_INSOLUBLE_01   P09104-2     2701.320481   \n",
       "2      160792  CTR03_BA46_INSOLUBLE_01     P30086     1948.938425   \n",
       "3      171220  CTR03_BA46_INSOLUBLE_01   P12111-5     2226.099744   \n",
       "4      171274  CTR03_BA46_INSOLUBLE_01     P17174     2233.119230   \n",
       "\n",
       "   precursor_mz                                           mz_array  \\\n",
       "0   1137.069702  [ 157.0887767  157.0906443  157.0925118  157.0...   \n",
       "1   1351.667517  [ 186.0700293  186.0724368  186.0748443 ... 26...   \n",
       "2    975.476489  [ 136.069712   136.0712175  136.0727231  136.0...   \n",
       "3    743.040524  [ 153.0603278  153.0621239  153.0639201 ... 16...   \n",
       "4   1117.566892  [ 155.0755184  155.0773501  155.0791819 ... 20...   \n",
       "\n",
       "                                     intensity_array  \\\n",
       "0  [6.01765564e+02 1.59785742e+03 4.56201562e+03 ...   \n",
       "1  [1017.04943848 1812.46777344 2114.83935547 ......   \n",
       "2  [  337.62692261  1016.75518799  1748.67541504 ...   \n",
       "3  [ 638.46685791 1251.93847656 1548.97753906 ......   \n",
       "4  [ 999.34832764 1811.73571777 2152.11035156 ......   \n",
       "\n",
       "                     sequence  peptide_mass  \\\n",
       "0     GVVPLAGTDGETTTQGLDGLSER   2272.118284   \n",
       "1  DATNVGDEGGFAPNILENSEALELVK   2701.308269   \n",
       "2        GNDISSGTVLSDYVGSGPPK   1948.937800   \n",
       "3        DVVFLIDGSQSAGPEFQYVR   2226.095698   \n",
       "4        IVASTLSNPELFEEWTGNVK   2233.126664   \n",
       "\n",
       "                                           fragments  match_score  scan_id  \\\n",
       "0  [  58.02874019 2216.10409645  157.0971541  211...   159.545898    38356   \n",
       "1  [ 116.03421949 2587.28860275  187.07133328 251...   159.545898    48520   \n",
       "2  [  58.02874019 1892.92361291  172.07166763 177...   154.774685    35404   \n",
       "3  [ 116.03421949 2112.07603123  215.1026334  201...   154.774685    47567   \n",
       "4  [ 114.09134044 2121.04987605  213.15975436 202...   154.774685    47626   \n",
       "\n",
       "   is_target scoring_function  cumulative_targets  cumulative_decoys  fdr  \\\n",
       "0       True        Andromeda                   1                  0  0.0   \n",
       "1       True        Andromeda                   2                  0  0.0   \n",
       "2       True        Andromeda                   3                  0  0.0   \n",
       "3       True        Andromeda                   4                  0  0.0   \n",
       "4       True        Andromeda                   5                  0  0.0   \n",
       "\n",
       "   score_threshold  achieved_fdr  \n",
       "0        44.135151      0.009834  \n",
       "1        44.135151      0.009834  \n",
       "2        44.135151      0.009834  \n",
       "3        44.135151      0.009834  \n",
       "4        44.135151      0.009834  "
      ],
      "text/html": [
       "<div>\n",
       "<style scoped>\n",
       "    .dataframe tbody tr th:only-of-type {\n",
       "        vertical-align: middle;\n",
       "    }\n",
       "\n",
       "    .dataframe tbody tr th {\n",
       "        vertical-align: top;\n",
       "    }\n",
       "\n",
       "    .dataframe thead th {\n",
       "        text-align: right;\n",
       "    }\n",
       "</style>\n",
       "<table border=\"1\" class=\"dataframe\">\n",
       "  <thead>\n",
       "    <tr style=\"text-align: right;\">\n",
       "      <th></th>\n",
       "      <th>Unnamed: 0</th>\n",
       "      <th>experiment_name</th>\n",
       "      <th>protein_id</th>\n",
       "      <th>precursor_mass</th>\n",
       "      <th>precursor_mz</th>\n",
       "      <th>mz_array</th>\n",
       "      <th>intensity_array</th>\n",
       "      <th>sequence</th>\n",
       "      <th>peptide_mass</th>\n",
       "      <th>fragments</th>\n",
       "      <th>match_score</th>\n",
       "      <th>scan_id</th>\n",
       "      <th>is_target</th>\n",
       "      <th>scoring_function</th>\n",
       "      <th>cumulative_targets</th>\n",
       "      <th>cumulative_decoys</th>\n",
       "      <th>fdr</th>\n",
       "      <th>score_threshold</th>\n",
       "      <th>achieved_fdr</th>\n",
       "    </tr>\n",
       "  </thead>\n",
       "  <tbody>\n",
       "    <tr>\n",
       "      <th>0</th>\n",
       "      <td>163317</td>\n",
       "      <td>CTR03_BA46_INSOLUBLE_01</td>\n",
       "      <td>P09972</td>\n",
       "      <td>2272.124851</td>\n",
       "      <td>1137.069702</td>\n",
       "      <td>[ 157.0887767  157.0906443  157.0925118  157.0...</td>\n",
       "      <td>[6.01765564e+02 1.59785742e+03 4.56201562e+03 ...</td>\n",
       "      <td>GVVPLAGTDGETTTQGLDGLSER</td>\n",
       "      <td>2272.118284</td>\n",
       "      <td>[  58.02874019 2216.10409645  157.0971541  211...</td>\n",
       "      <td>159.545898</td>\n",
       "      <td>38356</td>\n",
       "      <td>True</td>\n",
       "      <td>Andromeda</td>\n",
       "      <td>1</td>\n",
       "      <td>0</td>\n",
       "      <td>0.0</td>\n",
       "      <td>44.135151</td>\n",
       "      <td>0.009834</td>\n",
       "    </tr>\n",
       "    <tr>\n",
       "      <th>1</th>\n",
       "      <td>172088</td>\n",
       "      <td>CTR03_BA46_INSOLUBLE_01</td>\n",
       "      <td>P09104-2</td>\n",
       "      <td>2701.320481</td>\n",
       "      <td>1351.667517</td>\n",
       "      <td>[ 186.0700293  186.0724368  186.0748443 ... 26...</td>\n",
       "      <td>[1017.04943848 1812.46777344 2114.83935547 ......</td>\n",
       "      <td>DATNVGDEGGFAPNILENSEALELVK</td>\n",
       "      <td>2701.308269</td>\n",
       "      <td>[ 116.03421949 2587.28860275  187.07133328 251...</td>\n",
       "      <td>159.545898</td>\n",
       "      <td>48520</td>\n",
       "      <td>True</td>\n",
       "      <td>Andromeda</td>\n",
       "      <td>2</td>\n",
       "      <td>0</td>\n",
       "      <td>0.0</td>\n",
       "      <td>44.135151</td>\n",
       "      <td>0.009834</td>\n",
       "    </tr>\n",
       "    <tr>\n",
       "      <th>2</th>\n",
       "      <td>160792</td>\n",
       "      <td>CTR03_BA46_INSOLUBLE_01</td>\n",
       "      <td>P30086</td>\n",
       "      <td>1948.938425</td>\n",
       "      <td>975.476489</td>\n",
       "      <td>[ 136.069712   136.0712175  136.0727231  136.0...</td>\n",
       "      <td>[  337.62692261  1016.75518799  1748.67541504 ...</td>\n",
       "      <td>GNDISSGTVLSDYVGSGPPK</td>\n",
       "      <td>1948.937800</td>\n",
       "      <td>[  58.02874019 1892.92361291  172.07166763 177...</td>\n",
       "      <td>154.774685</td>\n",
       "      <td>35404</td>\n",
       "      <td>True</td>\n",
       "      <td>Andromeda</td>\n",
       "      <td>3</td>\n",
       "      <td>0</td>\n",
       "      <td>0.0</td>\n",
       "      <td>44.135151</td>\n",
       "      <td>0.009834</td>\n",
       "    </tr>\n",
       "    <tr>\n",
       "      <th>3</th>\n",
       "      <td>171220</td>\n",
       "      <td>CTR03_BA46_INSOLUBLE_01</td>\n",
       "      <td>P12111-5</td>\n",
       "      <td>2226.099744</td>\n",
       "      <td>743.040524</td>\n",
       "      <td>[ 153.0603278  153.0621239  153.0639201 ... 16...</td>\n",
       "      <td>[ 638.46685791 1251.93847656 1548.97753906 ......</td>\n",
       "      <td>DVVFLIDGSQSAGPEFQYVR</td>\n",
       "      <td>2226.095698</td>\n",
       "      <td>[ 116.03421949 2112.07603123  215.1026334  201...</td>\n",
       "      <td>154.774685</td>\n",
       "      <td>47567</td>\n",
       "      <td>True</td>\n",
       "      <td>Andromeda</td>\n",
       "      <td>4</td>\n",
       "      <td>0</td>\n",
       "      <td>0.0</td>\n",
       "      <td>44.135151</td>\n",
       "      <td>0.009834</td>\n",
       "    </tr>\n",
       "    <tr>\n",
       "      <th>4</th>\n",
       "      <td>171274</td>\n",
       "      <td>CTR03_BA46_INSOLUBLE_01</td>\n",
       "      <td>P17174</td>\n",
       "      <td>2233.119230</td>\n",
       "      <td>1117.566892</td>\n",
       "      <td>[ 155.0755184  155.0773501  155.0791819 ... 20...</td>\n",
       "      <td>[ 999.34832764 1811.73571777 2152.11035156 ......</td>\n",
       "      <td>IVASTLSNPELFEEWTGNVK</td>\n",
       "      <td>2233.126664</td>\n",
       "      <td>[ 114.09134044 2121.04987605  213.15975436 202...</td>\n",
       "      <td>154.774685</td>\n",
       "      <td>47626</td>\n",
       "      <td>True</td>\n",
       "      <td>Andromeda</td>\n",
       "      <td>5</td>\n",
       "      <td>0</td>\n",
       "      <td>0.0</td>\n",
       "      <td>44.135151</td>\n",
       "      <td>0.009834</td>\n",
       "    </tr>\n",
       "  </tbody>\n",
       "</table>\n",
       "</div>"
      ]
     },
     "execution_count": 25,
     "metadata": {},
     "output_type": "execute_result"
    }
   ],
   "execution_count": 25
  },
  {
   "metadata": {},
   "cell_type": "markdown",
   "source": [
    "# Pie chart for target database showing identifications for FDR <= 0.01\n",
    "\n",
    "\n"
   ],
   "id": "5b90f2dfe037f45a"
  },
  {
   "metadata": {
    "ExecuteTime": {
     "end_time": "2025-03-12T13:58:21.674546Z",
     "start_time": "2025-03-12T13:58:15.755374Z"
    }
   },
   "cell_type": "code",
   "source": [
    "# =====================================================\n",
    "# Second set of charts: 2x3 grid with scoring functions as rows and experiments as columns\n",
    "# =====================================================\n",
    "\n",
    "# Prepare data for pie charts using cumulative threshold logic (same as before)\n",
    "results = []\n",
    "for (experiment, scoring_func), group in fdr_df.groupby(['experiment_name', 'scoring_function']):\n",
    "    valid_fdr = group[group['fdr'] <= 0.01]\n",
    "    threshold_idx = valid_fdr.index.max() if not valid_fdr.empty else None\n",
    "\n",
    "    if threshold_idx is not None:\n",
    "        passing_targets = int(group.loc[threshold_idx, 'cumulative_targets'])\n",
    "    else:\n",
    "        passing_targets = 0\n",
    "\n",
    "    total_targets = group['is_target'].sum()\n",
    "    failing_targets = total_targets - passing_targets\n",
    "\n",
    "    results.append({\n",
    "        'experiment': experiment,\n",
    "        'scoring_function': scoring_func,\n",
    "        'passing': passing_targets,\n",
    "        'failing': failing_targets\n",
    "    })\n",
    "\n",
    "pie_data = pd.DataFrame(results)\n",
    "\n",
    "# Create subplot grid with original title formatting\n",
    "scoring_functions = pie_data['scoring_function'].unique()\n",
    "experiments = pie_data['experiment'].unique()\n",
    "\n",
    "rows = len(scoring_functions)\n",
    "cols = len(experiments)\n",
    "\n",
    "# Create shortened experiment names matching original formatting\n",
    "def format_experiment_name(name):\n",
    "    return (name.replace(\"new_\", \"\")\n",
    "              .replace(\"_INSOLUBLE_01\", \"\")\n",
    "              .replace(\"_\", \" \"))\n",
    "\n",
    "# Generate subplot titles matching first chart style\n",
    "subplot_titles = []\n",
    "for func in scoring_functions:\n",
    "    for exp in experiments:\n",
    "        short_exp = format_experiment_name(exp)\n",
    "        subplot_titles.append(f\"{func}: {short_exp}\")\n",
    "\n",
    "fig2 = make_subplots(\n",
    "    rows=rows,\n",
    "    cols=cols,\n",
    "    specs=[[{'type':'domain'} for _ in range(cols)] for _ in range(rows)],\n",
    "    subplot_titles=subplot_titles,\n",
    "    vertical_spacing=0.2,\n",
    "    horizontal_spacing=0.1  # Increased for better spacing\n",
    ")\n",
    "\n",
    "# This stores whether this is the first trace (used for legend)\n",
    "first_trace = True\n",
    "\n",
    "for i, scoring_func in enumerate(scoring_functions):\n",
    "    for j, exp in enumerate(experiments):\n",
    "        # Get data for this specific combination\n",
    "        data = pie_data[(pie_data['scoring_function'] == scoring_func) &\n",
    "                        (pie_data['experiment'] == exp)]\n",
    "\n",
    "        # Continue even if data is empty - this ensures all subplots are filled\n",
    "        passing = data['passing'].values[0] if not data.empty else 0\n",
    "        failing = data['failing'].values[0] if not data.empty else 0\n",
    "\n",
    "        # Add trace even if both values are zero\n",
    "        values = [passing, failing]\n",
    "        if passing == 0 and failing == 0:\n",
    "            # Set a dummy value to show a full red circle for empty experiments\n",
    "            values = [0, 1]\n",
    "            textinfo = 'none'  # Don't show text for empty data\n",
    "        else:\n",
    "            textinfo = 'value+percent'\n",
    "\n",
    "        # For the first trace only, set showlegend=True to create the legend\n",
    "        # For all other traces, set showlegend=False to avoid duplicate legends\n",
    "        show_this_legend = first_trace\n",
    "        first_trace = False\n",
    "\n",
    "        fig2.add_trace(\n",
    "            go.Pie(\n",
    "                labels=['FDR ≤ 0.01', 'FDR > 0.01'],\n",
    "                values=values,\n",
    "                textinfo=textinfo,\n",
    "                marker=dict(\n",
    "                    colors=['#2ca02c', '#d62728'],\n",
    "                ),\n",
    "                hoverinfo='label+percent+value',\n",
    "                textfont_size=12,\n",
    "                showlegend=show_this_legend  # Show legend only for first trace\n",
    "            ),\n",
    "            row=i+1, col=j+1\n",
    "        )\n",
    "\n",
    "fig2.update_layout(\n",
    "    title={\n",
    "        'text': \"Peptide Identifications by Scoring Function and Experiment (Target Database, FDR <= 0.01)\",\n",
    "        'y':0.98,\n",
    "        'x':0.5,\n",
    "        'xanchor': 'center',\n",
    "        'yanchor': 'top',\n",
    "        'font': {'size': 20}  # Match font size of first chart\n",
    "    },\n",
    "    height=400 * rows,  # Reduced height to match first chart proportions\n",
    "    width=400 * cols,\n",
    "    showlegend=True,  # Enable the legend display\n",
    "    legend=dict(\n",
    "        orientation=\"h\",  # Horizontal legend\n",
    "        yanchor=\"bottom\",\n",
    "        y=-0.1,  # Position below the chart\n",
    "        xanchor=\"center\",\n",
    "        x=0.5\n",
    "    ),\n",
    "    margin=dict(t=100, b=100),  # Increased bottom margin to accommodate legend\n",
    "    template=\"plotly_white\"\n",
    ")\n",
    "\n",
    "# Adjust title positions to match first chart\n",
    "for annotation in fig2.layout.annotations:\n",
    "    annotation.font.size = 14  # Match font size from first chart\n",
    "    annotation.y += 0.05  # Match the title positioning from first chart\n",
    "\n",
    "fig2.show()\n",
    "pio.kaleido.scope.mathjax = None  # Disables MathJax loading issues\n",
    "fig2.write_image(\"results/peptide_identifications_by_experiment.pdf\")"
   ],
   "id": "6196e95714ee4b7a",
   "outputs": [
    {
     "data": {
      "application/vnd.plotly.v1+json": {
       "data": [
        {
         "hoverinfo": "label+percent+value",
         "labels": [
          "FDR ≤ 0.01",
          "FDR > 0.01"
         ],
         "marker": {
          "colors": [
           "#2ca02c",
           "#d62728"
          ]
         },
         "showlegend": true,
         "textfont": {
          "size": 12
         },
         "textinfo": "value+percent",
         "values": [
          5538,
          34679
         ],
         "type": "pie",
         "domain": {
          "x": [
           0.0,
           0.26666666666666666
          ],
          "y": [
           0.6000000000000001,
           1.0
          ]
         }
        },
        {
         "hoverinfo": "label+percent+value",
         "labels": [
          "FDR ≤ 0.01",
          "FDR > 0.01"
         ],
         "marker": {
          "colors": [
           "#2ca02c",
           "#d62728"
          ]
         },
         "showlegend": false,
         "textfont": {
          "size": 12
         },
         "textinfo": "value+percent",
         "values": [
          6781,
          40430
         ],
         "type": "pie",
         "domain": {
          "x": [
           0.3666666666666667,
           0.6333333333333333
          ],
          "y": [
           0.6000000000000001,
           1.0
          ]
         }
        },
        {
         "hoverinfo": "label+percent+value",
         "labels": [
          "FDR ≤ 0.01",
          "FDR > 0.01"
         ],
         "marker": {
          "colors": [
           "#2ca02c",
           "#d62728"
          ]
         },
         "showlegend": false,
         "textfont": {
          "size": 12
         },
         "textinfo": "value+percent",
         "values": [
          4693,
          41738
         ],
         "type": "pie",
         "domain": {
          "x": [
           0.7333333333333334,
           1.0
          ],
          "y": [
           0.6000000000000001,
           1.0
          ]
         }
        },
        {
         "hoverinfo": "label+percent+value",
         "labels": [
          "FDR ≤ 0.01",
          "FDR > 0.01"
         ],
         "marker": {
          "colors": [
           "#2ca02c",
           "#d62728"
          ]
         },
         "showlegend": false,
         "textfont": {
          "size": 12
         },
         "textinfo": "value+percent",
         "values": [
          0,
          40217
         ],
         "type": "pie",
         "domain": {
          "x": [
           0.0,
           0.26666666666666666
          ],
          "y": [
           0.0,
           0.4
          ]
         }
        },
        {
         "hoverinfo": "label+percent+value",
         "labels": [
          "FDR ≤ 0.01",
          "FDR > 0.01"
         ],
         "marker": {
          "colors": [
           "#2ca02c",
           "#d62728"
          ]
         },
         "showlegend": false,
         "textfont": {
          "size": 12
         },
         "textinfo": "value+percent",
         "values": [
          1,
          47210
         ],
         "type": "pie",
         "domain": {
          "x": [
           0.3666666666666667,
           0.6333333333333333
          ],
          "y": [
           0.0,
           0.4
          ]
         }
        },
        {
         "hoverinfo": "label+percent+value",
         "labels": [
          "FDR ≤ 0.01",
          "FDR > 0.01"
         ],
         "marker": {
          "colors": [
           "#2ca02c",
           "#d62728"
          ]
         },
         "showlegend": false,
         "textfont": {
          "size": 12
         },
         "textinfo": "value+percent",
         "values": [
          0,
          46431
         ],
         "type": "pie",
         "domain": {
          "x": [
           0.7333333333333334,
           1.0
          ],
          "y": [
           0.0,
           0.4
          ]
         }
        }
       ],
       "layout": {
        "template": {
         "data": {
          "histogram2dcontour": [
           {
            "type": "histogram2dcontour",
            "colorbar": {
             "outlinewidth": 0,
             "ticks": ""
            },
            "colorscale": [
             [
              0.0,
              "#0d0887"
             ],
             [
              0.1111111111111111,
              "#46039f"
             ],
             [
              0.2222222222222222,
              "#7201a8"
             ],
             [
              0.3333333333333333,
              "#9c179e"
             ],
             [
              0.4444444444444444,
              "#bd3786"
             ],
             [
              0.5555555555555556,
              "#d8576b"
             ],
             [
              0.6666666666666666,
              "#ed7953"
             ],
             [
              0.7777777777777778,
              "#fb9f3a"
             ],
             [
              0.8888888888888888,
              "#fdca26"
             ],
             [
              1.0,
              "#f0f921"
             ]
            ]
           }
          ],
          "choropleth": [
           {
            "type": "choropleth",
            "colorbar": {
             "outlinewidth": 0,
             "ticks": ""
            }
           }
          ],
          "histogram2d": [
           {
            "type": "histogram2d",
            "colorbar": {
             "outlinewidth": 0,
             "ticks": ""
            },
            "colorscale": [
             [
              0.0,
              "#0d0887"
             ],
             [
              0.1111111111111111,
              "#46039f"
             ],
             [
              0.2222222222222222,
              "#7201a8"
             ],
             [
              0.3333333333333333,
              "#9c179e"
             ],
             [
              0.4444444444444444,
              "#bd3786"
             ],
             [
              0.5555555555555556,
              "#d8576b"
             ],
             [
              0.6666666666666666,
              "#ed7953"
             ],
             [
              0.7777777777777778,
              "#fb9f3a"
             ],
             [
              0.8888888888888888,
              "#fdca26"
             ],
             [
              1.0,
              "#f0f921"
             ]
            ]
           }
          ],
          "heatmap": [
           {
            "type": "heatmap",
            "colorbar": {
             "outlinewidth": 0,
             "ticks": ""
            },
            "colorscale": [
             [
              0.0,
              "#0d0887"
             ],
             [
              0.1111111111111111,
              "#46039f"
             ],
             [
              0.2222222222222222,
              "#7201a8"
             ],
             [
              0.3333333333333333,
              "#9c179e"
             ],
             [
              0.4444444444444444,
              "#bd3786"
             ],
             [
              0.5555555555555556,
              "#d8576b"
             ],
             [
              0.6666666666666666,
              "#ed7953"
             ],
             [
              0.7777777777777778,
              "#fb9f3a"
             ],
             [
              0.8888888888888888,
              "#fdca26"
             ],
             [
              1.0,
              "#f0f921"
             ]
            ]
           }
          ],
          "heatmapgl": [
           {
            "type": "heatmapgl",
            "colorbar": {
             "outlinewidth": 0,
             "ticks": ""
            },
            "colorscale": [
             [
              0.0,
              "#0d0887"
             ],
             [
              0.1111111111111111,
              "#46039f"
             ],
             [
              0.2222222222222222,
              "#7201a8"
             ],
             [
              0.3333333333333333,
              "#9c179e"
             ],
             [
              0.4444444444444444,
              "#bd3786"
             ],
             [
              0.5555555555555556,
              "#d8576b"
             ],
             [
              0.6666666666666666,
              "#ed7953"
             ],
             [
              0.7777777777777778,
              "#fb9f3a"
             ],
             [
              0.8888888888888888,
              "#fdca26"
             ],
             [
              1.0,
              "#f0f921"
             ]
            ]
           }
          ],
          "contourcarpet": [
           {
            "type": "contourcarpet",
            "colorbar": {
             "outlinewidth": 0,
             "ticks": ""
            }
           }
          ],
          "contour": [
           {
            "type": "contour",
            "colorbar": {
             "outlinewidth": 0,
             "ticks": ""
            },
            "colorscale": [
             [
              0.0,
              "#0d0887"
             ],
             [
              0.1111111111111111,
              "#46039f"
             ],
             [
              0.2222222222222222,
              "#7201a8"
             ],
             [
              0.3333333333333333,
              "#9c179e"
             ],
             [
              0.4444444444444444,
              "#bd3786"
             ],
             [
              0.5555555555555556,
              "#d8576b"
             ],
             [
              0.6666666666666666,
              "#ed7953"
             ],
             [
              0.7777777777777778,
              "#fb9f3a"
             ],
             [
              0.8888888888888888,
              "#fdca26"
             ],
             [
              1.0,
              "#f0f921"
             ]
            ]
           }
          ],
          "surface": [
           {
            "type": "surface",
            "colorbar": {
             "outlinewidth": 0,
             "ticks": ""
            },
            "colorscale": [
             [
              0.0,
              "#0d0887"
             ],
             [
              0.1111111111111111,
              "#46039f"
             ],
             [
              0.2222222222222222,
              "#7201a8"
             ],
             [
              0.3333333333333333,
              "#9c179e"
             ],
             [
              0.4444444444444444,
              "#bd3786"
             ],
             [
              0.5555555555555556,
              "#d8576b"
             ],
             [
              0.6666666666666666,
              "#ed7953"
             ],
             [
              0.7777777777777778,
              "#fb9f3a"
             ],
             [
              0.8888888888888888,
              "#fdca26"
             ],
             [
              1.0,
              "#f0f921"
             ]
            ]
           }
          ],
          "mesh3d": [
           {
            "type": "mesh3d",
            "colorbar": {
             "outlinewidth": 0,
             "ticks": ""
            }
           }
          ],
          "scatter": [
           {
            "fillpattern": {
             "fillmode": "overlay",
             "size": 10,
             "solidity": 0.2
            },
            "type": "scatter"
           }
          ],
          "parcoords": [
           {
            "type": "parcoords",
            "line": {
             "colorbar": {
              "outlinewidth": 0,
              "ticks": ""
             }
            }
           }
          ],
          "scatterpolargl": [
           {
            "type": "scatterpolargl",
            "marker": {
             "colorbar": {
              "outlinewidth": 0,
              "ticks": ""
             }
            }
           }
          ],
          "bar": [
           {
            "error_x": {
             "color": "#2a3f5f"
            },
            "error_y": {
             "color": "#2a3f5f"
            },
            "marker": {
             "line": {
              "color": "white",
              "width": 0.5
             },
             "pattern": {
              "fillmode": "overlay",
              "size": 10,
              "solidity": 0.2
             }
            },
            "type": "bar"
           }
          ],
          "scattergeo": [
           {
            "type": "scattergeo",
            "marker": {
             "colorbar": {
              "outlinewidth": 0,
              "ticks": ""
             }
            }
           }
          ],
          "scatterpolar": [
           {
            "type": "scatterpolar",
            "marker": {
             "colorbar": {
              "outlinewidth": 0,
              "ticks": ""
             }
            }
           }
          ],
          "histogram": [
           {
            "marker": {
             "pattern": {
              "fillmode": "overlay",
              "size": 10,
              "solidity": 0.2
             }
            },
            "type": "histogram"
           }
          ],
          "scattergl": [
           {
            "type": "scattergl",
            "marker": {
             "colorbar": {
              "outlinewidth": 0,
              "ticks": ""
             }
            }
           }
          ],
          "scatter3d": [
           {
            "type": "scatter3d",
            "line": {
             "colorbar": {
              "outlinewidth": 0,
              "ticks": ""
             }
            },
            "marker": {
             "colorbar": {
              "outlinewidth": 0,
              "ticks": ""
             }
            }
           }
          ],
          "scattermapbox": [
           {
            "type": "scattermapbox",
            "marker": {
             "colorbar": {
              "outlinewidth": 0,
              "ticks": ""
             }
            }
           }
          ],
          "scatterternary": [
           {
            "type": "scatterternary",
            "marker": {
             "colorbar": {
              "outlinewidth": 0,
              "ticks": ""
             }
            }
           }
          ],
          "scattercarpet": [
           {
            "type": "scattercarpet",
            "marker": {
             "colorbar": {
              "outlinewidth": 0,
              "ticks": ""
             }
            }
           }
          ],
          "carpet": [
           {
            "aaxis": {
             "endlinecolor": "#2a3f5f",
             "gridcolor": "#C8D4E3",
             "linecolor": "#C8D4E3",
             "minorgridcolor": "#C8D4E3",
             "startlinecolor": "#2a3f5f"
            },
            "baxis": {
             "endlinecolor": "#2a3f5f",
             "gridcolor": "#C8D4E3",
             "linecolor": "#C8D4E3",
             "minorgridcolor": "#C8D4E3",
             "startlinecolor": "#2a3f5f"
            },
            "type": "carpet"
           }
          ],
          "table": [
           {
            "cells": {
             "fill": {
              "color": "#EBF0F8"
             },
             "line": {
              "color": "white"
             }
            },
            "header": {
             "fill": {
              "color": "#C8D4E3"
             },
             "line": {
              "color": "white"
             }
            },
            "type": "table"
           }
          ],
          "barpolar": [
           {
            "marker": {
             "line": {
              "color": "white",
              "width": 0.5
             },
             "pattern": {
              "fillmode": "overlay",
              "size": 10,
              "solidity": 0.2
             }
            },
            "type": "barpolar"
           }
          ],
          "pie": [
           {
            "automargin": true,
            "type": "pie"
           }
          ]
         },
         "layout": {
          "autotypenumbers": "strict",
          "colorway": [
           "#636efa",
           "#EF553B",
           "#00cc96",
           "#ab63fa",
           "#FFA15A",
           "#19d3f3",
           "#FF6692",
           "#B6E880",
           "#FF97FF",
           "#FECB52"
          ],
          "font": {
           "color": "#2a3f5f"
          },
          "hovermode": "closest",
          "hoverlabel": {
           "align": "left"
          },
          "paper_bgcolor": "white",
          "plot_bgcolor": "white",
          "polar": {
           "bgcolor": "white",
           "angularaxis": {
            "gridcolor": "#EBF0F8",
            "linecolor": "#EBF0F8",
            "ticks": ""
           },
           "radialaxis": {
            "gridcolor": "#EBF0F8",
            "linecolor": "#EBF0F8",
            "ticks": ""
           }
          },
          "ternary": {
           "bgcolor": "white",
           "aaxis": {
            "gridcolor": "#DFE8F3",
            "linecolor": "#A2B1C6",
            "ticks": ""
           },
           "baxis": {
            "gridcolor": "#DFE8F3",
            "linecolor": "#A2B1C6",
            "ticks": ""
           },
           "caxis": {
            "gridcolor": "#DFE8F3",
            "linecolor": "#A2B1C6",
            "ticks": ""
           }
          },
          "coloraxis": {
           "colorbar": {
            "outlinewidth": 0,
            "ticks": ""
           }
          },
          "colorscale": {
           "sequential": [
            [
             0.0,
             "#0d0887"
            ],
            [
             0.1111111111111111,
             "#46039f"
            ],
            [
             0.2222222222222222,
             "#7201a8"
            ],
            [
             0.3333333333333333,
             "#9c179e"
            ],
            [
             0.4444444444444444,
             "#bd3786"
            ],
            [
             0.5555555555555556,
             "#d8576b"
            ],
            [
             0.6666666666666666,
             "#ed7953"
            ],
            [
             0.7777777777777778,
             "#fb9f3a"
            ],
            [
             0.8888888888888888,
             "#fdca26"
            ],
            [
             1.0,
             "#f0f921"
            ]
           ],
           "sequentialminus": [
            [
             0.0,
             "#0d0887"
            ],
            [
             0.1111111111111111,
             "#46039f"
            ],
            [
             0.2222222222222222,
             "#7201a8"
            ],
            [
             0.3333333333333333,
             "#9c179e"
            ],
            [
             0.4444444444444444,
             "#bd3786"
            ],
            [
             0.5555555555555556,
             "#d8576b"
            ],
            [
             0.6666666666666666,
             "#ed7953"
            ],
            [
             0.7777777777777778,
             "#fb9f3a"
            ],
            [
             0.8888888888888888,
             "#fdca26"
            ],
            [
             1.0,
             "#f0f921"
            ]
           ],
           "diverging": [
            [
             0,
             "#8e0152"
            ],
            [
             0.1,
             "#c51b7d"
            ],
            [
             0.2,
             "#de77ae"
            ],
            [
             0.3,
             "#f1b6da"
            ],
            [
             0.4,
             "#fde0ef"
            ],
            [
             0.5,
             "#f7f7f7"
            ],
            [
             0.6,
             "#e6f5d0"
            ],
            [
             0.7,
             "#b8e186"
            ],
            [
             0.8,
             "#7fbc41"
            ],
            [
             0.9,
             "#4d9221"
            ],
            [
             1,
             "#276419"
            ]
           ]
          },
          "xaxis": {
           "gridcolor": "#EBF0F8",
           "linecolor": "#EBF0F8",
           "ticks": "",
           "title": {
            "standoff": 15
           },
           "zerolinecolor": "#EBF0F8",
           "automargin": true,
           "zerolinewidth": 2
          },
          "yaxis": {
           "gridcolor": "#EBF0F8",
           "linecolor": "#EBF0F8",
           "ticks": "",
           "title": {
            "standoff": 15
           },
           "zerolinecolor": "#EBF0F8",
           "automargin": true,
           "zerolinewidth": 2
          },
          "scene": {
           "xaxis": {
            "backgroundcolor": "white",
            "gridcolor": "#DFE8F3",
            "linecolor": "#EBF0F8",
            "showbackground": true,
            "ticks": "",
            "zerolinecolor": "#EBF0F8",
            "gridwidth": 2
           },
           "yaxis": {
            "backgroundcolor": "white",
            "gridcolor": "#DFE8F3",
            "linecolor": "#EBF0F8",
            "showbackground": true,
            "ticks": "",
            "zerolinecolor": "#EBF0F8",
            "gridwidth": 2
           },
           "zaxis": {
            "backgroundcolor": "white",
            "gridcolor": "#DFE8F3",
            "linecolor": "#EBF0F8",
            "showbackground": true,
            "ticks": "",
            "zerolinecolor": "#EBF0F8",
            "gridwidth": 2
           }
          },
          "shapedefaults": {
           "line": {
            "color": "#2a3f5f"
           }
          },
          "annotationdefaults": {
           "arrowcolor": "#2a3f5f",
           "arrowhead": 0,
           "arrowwidth": 1
          },
          "geo": {
           "bgcolor": "white",
           "landcolor": "white",
           "subunitcolor": "#C8D4E3",
           "showland": true,
           "showlakes": true,
           "lakecolor": "white"
          },
          "title": {
           "x": 0.05
          },
          "mapbox": {
           "style": "light"
          }
         }
        },
        "annotations": [
         {
          "font": {
           "size": 14
          },
          "showarrow": false,
          "text": "Andromeda: CTR03 BA46",
          "x": 0.13333333333333333,
          "xanchor": "center",
          "xref": "paper",
          "y": 1.05,
          "yanchor": "bottom",
          "yref": "paper"
         },
         {
          "font": {
           "size": 14
          },
          "showarrow": false,
          "text": "Andromeda: CTR08 BA46",
          "x": 0.5,
          "xanchor": "center",
          "xref": "paper",
          "y": 1.05,
          "yanchor": "bottom",
          "yref": "paper"
         },
         {
          "font": {
           "size": 14
          },
          "showarrow": false,
          "text": "Andromeda: CTR45 BA46",
          "x": 0.8666666666666667,
          "xanchor": "center",
          "xref": "paper",
          "y": 1.05,
          "yanchor": "bottom",
          "yref": "paper"
         },
         {
          "font": {
           "size": 14
          },
          "showarrow": false,
          "text": "Simple Scoring: CTR03 BA46",
          "x": 0.13333333333333333,
          "xanchor": "center",
          "xref": "paper",
          "y": 0.45,
          "yanchor": "bottom",
          "yref": "paper"
         },
         {
          "font": {
           "size": 14
          },
          "showarrow": false,
          "text": "Simple Scoring: CTR08 BA46",
          "x": 0.5,
          "xanchor": "center",
          "xref": "paper",
          "y": 0.45,
          "yanchor": "bottom",
          "yref": "paper"
         },
         {
          "font": {
           "size": 14
          },
          "showarrow": false,
          "text": "Simple Scoring: CTR45 BA46",
          "x": 0.8666666666666667,
          "xanchor": "center",
          "xref": "paper",
          "y": 0.45,
          "yanchor": "bottom",
          "yref": "paper"
         }
        ],
        "title": {
         "font": {
          "size": 20
         },
         "text": "Peptide Identifications by Scoring Function and Experiment (Target Database, FDR <= 0.01)",
         "y": 0.98,
         "x": 0.5,
         "xanchor": "center",
         "yanchor": "top"
        },
        "legend": {
         "orientation": "h",
         "yanchor": "bottom",
         "y": -0.1,
         "xanchor": "center",
         "x": 0.5
        },
        "margin": {
         "t": 100,
         "b": 100
        },
        "height": 800,
        "width": 1200,
        "showlegend": true
       },
       "config": {
        "plotlyServerURL": "https://plot.ly"
       }
      },
      "text/html": [
       "<div>                            <div id=\"e2b8b4c2-c931-4dcd-8b26-0ba87a6ff956\" class=\"plotly-graph-div\" style=\"height:800px; width:1200px;\"></div>            <script type=\"text/javascript\">                require([\"plotly\"], function(Plotly) {                    window.PLOTLYENV=window.PLOTLYENV || {};                                    if (document.getElementById(\"e2b8b4c2-c931-4dcd-8b26-0ba87a6ff956\")) {                    Plotly.newPlot(                        \"e2b8b4c2-c931-4dcd-8b26-0ba87a6ff956\",                        [{\"hoverinfo\":\"label+percent+value\",\"labels\":[\"FDR \\u2264 0.01\",\"FDR \\u003e 0.01\"],\"marker\":{\"colors\":[\"#2ca02c\",\"#d62728\"]},\"showlegend\":true,\"textfont\":{\"size\":12},\"textinfo\":\"value+percent\",\"values\":[5538,34679],\"type\":\"pie\",\"domain\":{\"x\":[0.0,0.26666666666666666],\"y\":[0.6000000000000001,1.0]}},{\"hoverinfo\":\"label+percent+value\",\"labels\":[\"FDR \\u2264 0.01\",\"FDR \\u003e 0.01\"],\"marker\":{\"colors\":[\"#2ca02c\",\"#d62728\"]},\"showlegend\":false,\"textfont\":{\"size\":12},\"textinfo\":\"value+percent\",\"values\":[6781,40430],\"type\":\"pie\",\"domain\":{\"x\":[0.3666666666666667,0.6333333333333333],\"y\":[0.6000000000000001,1.0]}},{\"hoverinfo\":\"label+percent+value\",\"labels\":[\"FDR \\u2264 0.01\",\"FDR \\u003e 0.01\"],\"marker\":{\"colors\":[\"#2ca02c\",\"#d62728\"]},\"showlegend\":false,\"textfont\":{\"size\":12},\"textinfo\":\"value+percent\",\"values\":[4693,41738],\"type\":\"pie\",\"domain\":{\"x\":[0.7333333333333334,1.0],\"y\":[0.6000000000000001,1.0]}},{\"hoverinfo\":\"label+percent+value\",\"labels\":[\"FDR \\u2264 0.01\",\"FDR \\u003e 0.01\"],\"marker\":{\"colors\":[\"#2ca02c\",\"#d62728\"]},\"showlegend\":false,\"textfont\":{\"size\":12},\"textinfo\":\"value+percent\",\"values\":[0,40217],\"type\":\"pie\",\"domain\":{\"x\":[0.0,0.26666666666666666],\"y\":[0.0,0.4]}},{\"hoverinfo\":\"label+percent+value\",\"labels\":[\"FDR \\u2264 0.01\",\"FDR \\u003e 0.01\"],\"marker\":{\"colors\":[\"#2ca02c\",\"#d62728\"]},\"showlegend\":false,\"textfont\":{\"size\":12},\"textinfo\":\"value+percent\",\"values\":[1,47210],\"type\":\"pie\",\"domain\":{\"x\":[0.3666666666666667,0.6333333333333333],\"y\":[0.0,0.4]}},{\"hoverinfo\":\"label+percent+value\",\"labels\":[\"FDR \\u2264 0.01\",\"FDR \\u003e 0.01\"],\"marker\":{\"colors\":[\"#2ca02c\",\"#d62728\"]},\"showlegend\":false,\"textfont\":{\"size\":12},\"textinfo\":\"value+percent\",\"values\":[0,46431],\"type\":\"pie\",\"domain\":{\"x\":[0.7333333333333334,1.0],\"y\":[0.0,0.4]}}],                        {\"template\":{\"data\":{\"histogram2dcontour\":[{\"type\":\"histogram2dcontour\",\"colorbar\":{\"outlinewidth\":0,\"ticks\":\"\"},\"colorscale\":[[0.0,\"#0d0887\"],[0.1111111111111111,\"#46039f\"],[0.2222222222222222,\"#7201a8\"],[0.3333333333333333,\"#9c179e\"],[0.4444444444444444,\"#bd3786\"],[0.5555555555555556,\"#d8576b\"],[0.6666666666666666,\"#ed7953\"],[0.7777777777777778,\"#fb9f3a\"],[0.8888888888888888,\"#fdca26\"],[1.0,\"#f0f921\"]]}],\"choropleth\":[{\"type\":\"choropleth\",\"colorbar\":{\"outlinewidth\":0,\"ticks\":\"\"}}],\"histogram2d\":[{\"type\":\"histogram2d\",\"colorbar\":{\"outlinewidth\":0,\"ticks\":\"\"},\"colorscale\":[[0.0,\"#0d0887\"],[0.1111111111111111,\"#46039f\"],[0.2222222222222222,\"#7201a8\"],[0.3333333333333333,\"#9c179e\"],[0.4444444444444444,\"#bd3786\"],[0.5555555555555556,\"#d8576b\"],[0.6666666666666666,\"#ed7953\"],[0.7777777777777778,\"#fb9f3a\"],[0.8888888888888888,\"#fdca26\"],[1.0,\"#f0f921\"]]}],\"heatmap\":[{\"type\":\"heatmap\",\"colorbar\":{\"outlinewidth\":0,\"ticks\":\"\"},\"colorscale\":[[0.0,\"#0d0887\"],[0.1111111111111111,\"#46039f\"],[0.2222222222222222,\"#7201a8\"],[0.3333333333333333,\"#9c179e\"],[0.4444444444444444,\"#bd3786\"],[0.5555555555555556,\"#d8576b\"],[0.6666666666666666,\"#ed7953\"],[0.7777777777777778,\"#fb9f3a\"],[0.8888888888888888,\"#fdca26\"],[1.0,\"#f0f921\"]]}],\"heatmapgl\":[{\"type\":\"heatmapgl\",\"colorbar\":{\"outlinewidth\":0,\"ticks\":\"\"},\"colorscale\":[[0.0,\"#0d0887\"],[0.1111111111111111,\"#46039f\"],[0.2222222222222222,\"#7201a8\"],[0.3333333333333333,\"#9c179e\"],[0.4444444444444444,\"#bd3786\"],[0.5555555555555556,\"#d8576b\"],[0.6666666666666666,\"#ed7953\"],[0.7777777777777778,\"#fb9f3a\"],[0.8888888888888888,\"#fdca26\"],[1.0,\"#f0f921\"]]}],\"contourcarpet\":[{\"type\":\"contourcarpet\",\"colorbar\":{\"outlinewidth\":0,\"ticks\":\"\"}}],\"contour\":[{\"type\":\"contour\",\"colorbar\":{\"outlinewidth\":0,\"ticks\":\"\"},\"colorscale\":[[0.0,\"#0d0887\"],[0.1111111111111111,\"#46039f\"],[0.2222222222222222,\"#7201a8\"],[0.3333333333333333,\"#9c179e\"],[0.4444444444444444,\"#bd3786\"],[0.5555555555555556,\"#d8576b\"],[0.6666666666666666,\"#ed7953\"],[0.7777777777777778,\"#fb9f3a\"],[0.8888888888888888,\"#fdca26\"],[1.0,\"#f0f921\"]]}],\"surface\":[{\"type\":\"surface\",\"colorbar\":{\"outlinewidth\":0,\"ticks\":\"\"},\"colorscale\":[[0.0,\"#0d0887\"],[0.1111111111111111,\"#46039f\"],[0.2222222222222222,\"#7201a8\"],[0.3333333333333333,\"#9c179e\"],[0.4444444444444444,\"#bd3786\"],[0.5555555555555556,\"#d8576b\"],[0.6666666666666666,\"#ed7953\"],[0.7777777777777778,\"#fb9f3a\"],[0.8888888888888888,\"#fdca26\"],[1.0,\"#f0f921\"]]}],\"mesh3d\":[{\"type\":\"mesh3d\",\"colorbar\":{\"outlinewidth\":0,\"ticks\":\"\"}}],\"scatter\":[{\"fillpattern\":{\"fillmode\":\"overlay\",\"size\":10,\"solidity\":0.2},\"type\":\"scatter\"}],\"parcoords\":[{\"type\":\"parcoords\",\"line\":{\"colorbar\":{\"outlinewidth\":0,\"ticks\":\"\"}}}],\"scatterpolargl\":[{\"type\":\"scatterpolargl\",\"marker\":{\"colorbar\":{\"outlinewidth\":0,\"ticks\":\"\"}}}],\"bar\":[{\"error_x\":{\"color\":\"#2a3f5f\"},\"error_y\":{\"color\":\"#2a3f5f\"},\"marker\":{\"line\":{\"color\":\"white\",\"width\":0.5},\"pattern\":{\"fillmode\":\"overlay\",\"size\":10,\"solidity\":0.2}},\"type\":\"bar\"}],\"scattergeo\":[{\"type\":\"scattergeo\",\"marker\":{\"colorbar\":{\"outlinewidth\":0,\"ticks\":\"\"}}}],\"scatterpolar\":[{\"type\":\"scatterpolar\",\"marker\":{\"colorbar\":{\"outlinewidth\":0,\"ticks\":\"\"}}}],\"histogram\":[{\"marker\":{\"pattern\":{\"fillmode\":\"overlay\",\"size\":10,\"solidity\":0.2}},\"type\":\"histogram\"}],\"scattergl\":[{\"type\":\"scattergl\",\"marker\":{\"colorbar\":{\"outlinewidth\":0,\"ticks\":\"\"}}}],\"scatter3d\":[{\"type\":\"scatter3d\",\"line\":{\"colorbar\":{\"outlinewidth\":0,\"ticks\":\"\"}},\"marker\":{\"colorbar\":{\"outlinewidth\":0,\"ticks\":\"\"}}}],\"scattermapbox\":[{\"type\":\"scattermapbox\",\"marker\":{\"colorbar\":{\"outlinewidth\":0,\"ticks\":\"\"}}}],\"scatterternary\":[{\"type\":\"scatterternary\",\"marker\":{\"colorbar\":{\"outlinewidth\":0,\"ticks\":\"\"}}}],\"scattercarpet\":[{\"type\":\"scattercarpet\",\"marker\":{\"colorbar\":{\"outlinewidth\":0,\"ticks\":\"\"}}}],\"carpet\":[{\"aaxis\":{\"endlinecolor\":\"#2a3f5f\",\"gridcolor\":\"#C8D4E3\",\"linecolor\":\"#C8D4E3\",\"minorgridcolor\":\"#C8D4E3\",\"startlinecolor\":\"#2a3f5f\"},\"baxis\":{\"endlinecolor\":\"#2a3f5f\",\"gridcolor\":\"#C8D4E3\",\"linecolor\":\"#C8D4E3\",\"minorgridcolor\":\"#C8D4E3\",\"startlinecolor\":\"#2a3f5f\"},\"type\":\"carpet\"}],\"table\":[{\"cells\":{\"fill\":{\"color\":\"#EBF0F8\"},\"line\":{\"color\":\"white\"}},\"header\":{\"fill\":{\"color\":\"#C8D4E3\"},\"line\":{\"color\":\"white\"}},\"type\":\"table\"}],\"barpolar\":[{\"marker\":{\"line\":{\"color\":\"white\",\"width\":0.5},\"pattern\":{\"fillmode\":\"overlay\",\"size\":10,\"solidity\":0.2}},\"type\":\"barpolar\"}],\"pie\":[{\"automargin\":true,\"type\":\"pie\"}]},\"layout\":{\"autotypenumbers\":\"strict\",\"colorway\":[\"#636efa\",\"#EF553B\",\"#00cc96\",\"#ab63fa\",\"#FFA15A\",\"#19d3f3\",\"#FF6692\",\"#B6E880\",\"#FF97FF\",\"#FECB52\"],\"font\":{\"color\":\"#2a3f5f\"},\"hovermode\":\"closest\",\"hoverlabel\":{\"align\":\"left\"},\"paper_bgcolor\":\"white\",\"plot_bgcolor\":\"white\",\"polar\":{\"bgcolor\":\"white\",\"angularaxis\":{\"gridcolor\":\"#EBF0F8\",\"linecolor\":\"#EBF0F8\",\"ticks\":\"\"},\"radialaxis\":{\"gridcolor\":\"#EBF0F8\",\"linecolor\":\"#EBF0F8\",\"ticks\":\"\"}},\"ternary\":{\"bgcolor\":\"white\",\"aaxis\":{\"gridcolor\":\"#DFE8F3\",\"linecolor\":\"#A2B1C6\",\"ticks\":\"\"},\"baxis\":{\"gridcolor\":\"#DFE8F3\",\"linecolor\":\"#A2B1C6\",\"ticks\":\"\"},\"caxis\":{\"gridcolor\":\"#DFE8F3\",\"linecolor\":\"#A2B1C6\",\"ticks\":\"\"}},\"coloraxis\":{\"colorbar\":{\"outlinewidth\":0,\"ticks\":\"\"}},\"colorscale\":{\"sequential\":[[0.0,\"#0d0887\"],[0.1111111111111111,\"#46039f\"],[0.2222222222222222,\"#7201a8\"],[0.3333333333333333,\"#9c179e\"],[0.4444444444444444,\"#bd3786\"],[0.5555555555555556,\"#d8576b\"],[0.6666666666666666,\"#ed7953\"],[0.7777777777777778,\"#fb9f3a\"],[0.8888888888888888,\"#fdca26\"],[1.0,\"#f0f921\"]],\"sequentialminus\":[[0.0,\"#0d0887\"],[0.1111111111111111,\"#46039f\"],[0.2222222222222222,\"#7201a8\"],[0.3333333333333333,\"#9c179e\"],[0.4444444444444444,\"#bd3786\"],[0.5555555555555556,\"#d8576b\"],[0.6666666666666666,\"#ed7953\"],[0.7777777777777778,\"#fb9f3a\"],[0.8888888888888888,\"#fdca26\"],[1.0,\"#f0f921\"]],\"diverging\":[[0,\"#8e0152\"],[0.1,\"#c51b7d\"],[0.2,\"#de77ae\"],[0.3,\"#f1b6da\"],[0.4,\"#fde0ef\"],[0.5,\"#f7f7f7\"],[0.6,\"#e6f5d0\"],[0.7,\"#b8e186\"],[0.8,\"#7fbc41\"],[0.9,\"#4d9221\"],[1,\"#276419\"]]},\"xaxis\":{\"gridcolor\":\"#EBF0F8\",\"linecolor\":\"#EBF0F8\",\"ticks\":\"\",\"title\":{\"standoff\":15},\"zerolinecolor\":\"#EBF0F8\",\"automargin\":true,\"zerolinewidth\":2},\"yaxis\":{\"gridcolor\":\"#EBF0F8\",\"linecolor\":\"#EBF0F8\",\"ticks\":\"\",\"title\":{\"standoff\":15},\"zerolinecolor\":\"#EBF0F8\",\"automargin\":true,\"zerolinewidth\":2},\"scene\":{\"xaxis\":{\"backgroundcolor\":\"white\",\"gridcolor\":\"#DFE8F3\",\"linecolor\":\"#EBF0F8\",\"showbackground\":true,\"ticks\":\"\",\"zerolinecolor\":\"#EBF0F8\",\"gridwidth\":2},\"yaxis\":{\"backgroundcolor\":\"white\",\"gridcolor\":\"#DFE8F3\",\"linecolor\":\"#EBF0F8\",\"showbackground\":true,\"ticks\":\"\",\"zerolinecolor\":\"#EBF0F8\",\"gridwidth\":2},\"zaxis\":{\"backgroundcolor\":\"white\",\"gridcolor\":\"#DFE8F3\",\"linecolor\":\"#EBF0F8\",\"showbackground\":true,\"ticks\":\"\",\"zerolinecolor\":\"#EBF0F8\",\"gridwidth\":2}},\"shapedefaults\":{\"line\":{\"color\":\"#2a3f5f\"}},\"annotationdefaults\":{\"arrowcolor\":\"#2a3f5f\",\"arrowhead\":0,\"arrowwidth\":1},\"geo\":{\"bgcolor\":\"white\",\"landcolor\":\"white\",\"subunitcolor\":\"#C8D4E3\",\"showland\":true,\"showlakes\":true,\"lakecolor\":\"white\"},\"title\":{\"x\":0.05},\"mapbox\":{\"style\":\"light\"}}},\"annotations\":[{\"font\":{\"size\":14},\"showarrow\":false,\"text\":\"Andromeda: CTR03 BA46\",\"x\":0.13333333333333333,\"xanchor\":\"center\",\"xref\":\"paper\",\"y\":1.05,\"yanchor\":\"bottom\",\"yref\":\"paper\"},{\"font\":{\"size\":14},\"showarrow\":false,\"text\":\"Andromeda: CTR08 BA46\",\"x\":0.5,\"xanchor\":\"center\",\"xref\":\"paper\",\"y\":1.05,\"yanchor\":\"bottom\",\"yref\":\"paper\"},{\"font\":{\"size\":14},\"showarrow\":false,\"text\":\"Andromeda: CTR45 BA46\",\"x\":0.8666666666666667,\"xanchor\":\"center\",\"xref\":\"paper\",\"y\":1.05,\"yanchor\":\"bottom\",\"yref\":\"paper\"},{\"font\":{\"size\":14},\"showarrow\":false,\"text\":\"Simple Scoring: CTR03 BA46\",\"x\":0.13333333333333333,\"xanchor\":\"center\",\"xref\":\"paper\",\"y\":0.45,\"yanchor\":\"bottom\",\"yref\":\"paper\"},{\"font\":{\"size\":14},\"showarrow\":false,\"text\":\"Simple Scoring: CTR08 BA46\",\"x\":0.5,\"xanchor\":\"center\",\"xref\":\"paper\",\"y\":0.45,\"yanchor\":\"bottom\",\"yref\":\"paper\"},{\"font\":{\"size\":14},\"showarrow\":false,\"text\":\"Simple Scoring: CTR45 BA46\",\"x\":0.8666666666666667,\"xanchor\":\"center\",\"xref\":\"paper\",\"y\":0.45,\"yanchor\":\"bottom\",\"yref\":\"paper\"}],\"title\":{\"font\":{\"size\":20},\"text\":\"Peptide Identifications by Scoring Function and Experiment (Target Database, FDR \\u003c= 0.01)\",\"y\":0.98,\"x\":0.5,\"xanchor\":\"center\",\"yanchor\":\"top\"},\"legend\":{\"orientation\":\"h\",\"yanchor\":\"bottom\",\"y\":-0.1,\"xanchor\":\"center\",\"x\":0.5},\"margin\":{\"t\":100,\"b\":100},\"height\":800,\"width\":1200,\"showlegend\":true},                        {\"responsive\": true}                    ).then(function(){\n",
       "                            \n",
       "var gd = document.getElementById('e2b8b4c2-c931-4dcd-8b26-0ba87a6ff956');\n",
       "var x = new MutationObserver(function (mutations, observer) {{\n",
       "        var display = window.getComputedStyle(gd).display;\n",
       "        if (!display || display === 'none') {{\n",
       "            console.log([gd, 'removed!']);\n",
       "            Plotly.purge(gd);\n",
       "            observer.disconnect();\n",
       "        }}\n",
       "}});\n",
       "\n",
       "// Listen for the removal of the full notebook cells\n",
       "var notebookContainer = gd.closest('#notebook-container');\n",
       "if (notebookContainer) {{\n",
       "    x.observe(notebookContainer, {childList: true});\n",
       "}}\n",
       "\n",
       "// Listen for the clearing of the current output cell\n",
       "var outputEl = gd.closest('.output');\n",
       "if (outputEl) {{\n",
       "    x.observe(outputEl, {childList: true});\n",
       "}}\n",
       "\n",
       "                        })                };                });            </script>        </div>"
      ]
     },
     "metadata": {},
     "output_type": "display_data"
    }
   ],
   "execution_count": 26
  },
  {
   "metadata": {
    "ExecuteTime": {
     "end_time": "2025-03-12T13:58:21.825160Z",
     "start_time": "2025-03-12T13:58:21.729478Z"
    }
   },
   "cell_type": "code",
   "source": [
    "# =====================================================\n",
    "# First set of charts: Overall comparison by scoring function (fixed)\n",
    "# =====================================================\n",
    "\n",
    "# Reuse the pie_data from the second set of charts\n",
    "overall_data = pie_data.groupby('scoring_function').agg({\n",
    "    'passing': 'sum',\n",
    "    'failing': 'sum'\n",
    "}).reset_index()\n",
    "\n",
    "# Create updated figure\n",
    "fig1 = make_subplots(rows=1, cols=len(scoring_functions),\n",
    "                    specs=[[{'type':'domain'} for _ in scoring_functions]],\n",
    "                    subplot_titles=[f\"{func}\" for func in scoring_functions])\n",
    "\n",
    "for i, func in enumerate(scoring_functions):\n",
    "    func_data = overall_data[overall_data['scoring_function'] == func]\n",
    "\n",
    "    # Get values from pre-calculated data\n",
    "    passing = func_data['passing'].values[0] if not func_data.empty else 0\n",
    "    failing = func_data['failing'].values[0] if not func_data.empty else 0\n",
    "\n",
    "    # Ensure we include even empty data\n",
    "    if passing == 0 and failing == 0:\n",
    "        # If there's absolutely no data, show a full red circle\n",
    "        fig1.add_trace(\n",
    "            go.Pie(\n",
    "                labels=['FDR ≤ 0.01', 'FDR > 0.01'],\n",
    "                values=[0, 1],\n",
    "                textinfo='none',\n",
    "                marker=dict(colors=['#2ca02c', '#d62728']),\n",
    "            ),\n",
    "            row=1, col=i+1\n",
    "        )\n",
    "    else:\n",
    "        fig1.add_trace(\n",
    "            go.Pie(\n",
    "                labels=['FDR ≤ 0.01', 'FDR > 0.01'],\n",
    "                values=[passing, failing],\n",
    "                textinfo='value+percent',\n",
    "                marker=dict(colors=['#2ca02c', '#d62728']),\n",
    "            ),\n",
    "            row=1, col=i+1\n",
    "        )\n",
    "\n",
    "# Maintain original layout configuration\n",
    "fig1.update_layout(\n",
    "    title={\n",
    "        'text': \"Peptide Identifications by Scoring Function (Target Database, FDR <= 0.01)\",\n",
    "        'y':0.98,\n",
    "        'x':0.5,\n",
    "        'xanchor': 'center',\n",
    "        'yanchor': 'top',\n",
    "        'font': {'size': 20}  # Match font size of first chart\n",
    "    },\n",
    "    height=500,\n",
    "    width=800 * len(scoring_functions) // 2,\n",
    "    margin=dict(t=120),\n",
    "    template=\"plotly_white\",\n",
    "    showlegend=True,  # Enable the legend display\n",
    "    legend=dict(\n",
    "        orientation=\"h\",  # Horizontal legend\n",
    "        yanchor=\"bottom\",\n",
    "        y=-0.1,  # Position below the chart\n",
    "        xanchor=\"center\",\n",
    "        x=0.5\n",
    "    ),\n",
    ")\n",
    "\n",
    "# Adjust title positions\n",
    "for annotation in fig1.layout.annotations:\n",
    "    annotation.y += 0.1\n",
    "\n",
    "fig1.show()\n",
    "fig1.write_image(\"results/peptide_identifications_overall.pdf\")"
   ],
   "id": "700aa7578d637b97",
   "outputs": [
    {
     "data": {
      "application/vnd.plotly.v1+json": {
       "data": [
        {
         "labels": [
          "FDR ≤ 0.01",
          "FDR > 0.01"
         ],
         "marker": {
          "colors": [
           "#2ca02c",
           "#d62728"
          ]
         },
         "textinfo": "value+percent",
         "values": [
          17012,
          116847
         ],
         "type": "pie",
         "domain": {
          "x": [
           0.0,
           0.45
          ],
          "y": [
           0.0,
           1.0
          ]
         }
        },
        {
         "labels": [
          "FDR ≤ 0.01",
          "FDR > 0.01"
         ],
         "marker": {
          "colors": [
           "#2ca02c",
           "#d62728"
          ]
         },
         "textinfo": "value+percent",
         "values": [
          1,
          133858
         ],
         "type": "pie",
         "domain": {
          "x": [
           0.55,
           1.0
          ],
          "y": [
           0.0,
           1.0
          ]
         }
        }
       ],
       "layout": {
        "template": {
         "data": {
          "histogram2dcontour": [
           {
            "type": "histogram2dcontour",
            "colorbar": {
             "outlinewidth": 0,
             "ticks": ""
            },
            "colorscale": [
             [
              0.0,
              "#0d0887"
             ],
             [
              0.1111111111111111,
              "#46039f"
             ],
             [
              0.2222222222222222,
              "#7201a8"
             ],
             [
              0.3333333333333333,
              "#9c179e"
             ],
             [
              0.4444444444444444,
              "#bd3786"
             ],
             [
              0.5555555555555556,
              "#d8576b"
             ],
             [
              0.6666666666666666,
              "#ed7953"
             ],
             [
              0.7777777777777778,
              "#fb9f3a"
             ],
             [
              0.8888888888888888,
              "#fdca26"
             ],
             [
              1.0,
              "#f0f921"
             ]
            ]
           }
          ],
          "choropleth": [
           {
            "type": "choropleth",
            "colorbar": {
             "outlinewidth": 0,
             "ticks": ""
            }
           }
          ],
          "histogram2d": [
           {
            "type": "histogram2d",
            "colorbar": {
             "outlinewidth": 0,
             "ticks": ""
            },
            "colorscale": [
             [
              0.0,
              "#0d0887"
             ],
             [
              0.1111111111111111,
              "#46039f"
             ],
             [
              0.2222222222222222,
              "#7201a8"
             ],
             [
              0.3333333333333333,
              "#9c179e"
             ],
             [
              0.4444444444444444,
              "#bd3786"
             ],
             [
              0.5555555555555556,
              "#d8576b"
             ],
             [
              0.6666666666666666,
              "#ed7953"
             ],
             [
              0.7777777777777778,
              "#fb9f3a"
             ],
             [
              0.8888888888888888,
              "#fdca26"
             ],
             [
              1.0,
              "#f0f921"
             ]
            ]
           }
          ],
          "heatmap": [
           {
            "type": "heatmap",
            "colorbar": {
             "outlinewidth": 0,
             "ticks": ""
            },
            "colorscale": [
             [
              0.0,
              "#0d0887"
             ],
             [
              0.1111111111111111,
              "#46039f"
             ],
             [
              0.2222222222222222,
              "#7201a8"
             ],
             [
              0.3333333333333333,
              "#9c179e"
             ],
             [
              0.4444444444444444,
              "#bd3786"
             ],
             [
              0.5555555555555556,
              "#d8576b"
             ],
             [
              0.6666666666666666,
              "#ed7953"
             ],
             [
              0.7777777777777778,
              "#fb9f3a"
             ],
             [
              0.8888888888888888,
              "#fdca26"
             ],
             [
              1.0,
              "#f0f921"
             ]
            ]
           }
          ],
          "heatmapgl": [
           {
            "type": "heatmapgl",
            "colorbar": {
             "outlinewidth": 0,
             "ticks": ""
            },
            "colorscale": [
             [
              0.0,
              "#0d0887"
             ],
             [
              0.1111111111111111,
              "#46039f"
             ],
             [
              0.2222222222222222,
              "#7201a8"
             ],
             [
              0.3333333333333333,
              "#9c179e"
             ],
             [
              0.4444444444444444,
              "#bd3786"
             ],
             [
              0.5555555555555556,
              "#d8576b"
             ],
             [
              0.6666666666666666,
              "#ed7953"
             ],
             [
              0.7777777777777778,
              "#fb9f3a"
             ],
             [
              0.8888888888888888,
              "#fdca26"
             ],
             [
              1.0,
              "#f0f921"
             ]
            ]
           }
          ],
          "contourcarpet": [
           {
            "type": "contourcarpet",
            "colorbar": {
             "outlinewidth": 0,
             "ticks": ""
            }
           }
          ],
          "contour": [
           {
            "type": "contour",
            "colorbar": {
             "outlinewidth": 0,
             "ticks": ""
            },
            "colorscale": [
             [
              0.0,
              "#0d0887"
             ],
             [
              0.1111111111111111,
              "#46039f"
             ],
             [
              0.2222222222222222,
              "#7201a8"
             ],
             [
              0.3333333333333333,
              "#9c179e"
             ],
             [
              0.4444444444444444,
              "#bd3786"
             ],
             [
              0.5555555555555556,
              "#d8576b"
             ],
             [
              0.6666666666666666,
              "#ed7953"
             ],
             [
              0.7777777777777778,
              "#fb9f3a"
             ],
             [
              0.8888888888888888,
              "#fdca26"
             ],
             [
              1.0,
              "#f0f921"
             ]
            ]
           }
          ],
          "surface": [
           {
            "type": "surface",
            "colorbar": {
             "outlinewidth": 0,
             "ticks": ""
            },
            "colorscale": [
             [
              0.0,
              "#0d0887"
             ],
             [
              0.1111111111111111,
              "#46039f"
             ],
             [
              0.2222222222222222,
              "#7201a8"
             ],
             [
              0.3333333333333333,
              "#9c179e"
             ],
             [
              0.4444444444444444,
              "#bd3786"
             ],
             [
              0.5555555555555556,
              "#d8576b"
             ],
             [
              0.6666666666666666,
              "#ed7953"
             ],
             [
              0.7777777777777778,
              "#fb9f3a"
             ],
             [
              0.8888888888888888,
              "#fdca26"
             ],
             [
              1.0,
              "#f0f921"
             ]
            ]
           }
          ],
          "mesh3d": [
           {
            "type": "mesh3d",
            "colorbar": {
             "outlinewidth": 0,
             "ticks": ""
            }
           }
          ],
          "scatter": [
           {
            "fillpattern": {
             "fillmode": "overlay",
             "size": 10,
             "solidity": 0.2
            },
            "type": "scatter"
           }
          ],
          "parcoords": [
           {
            "type": "parcoords",
            "line": {
             "colorbar": {
              "outlinewidth": 0,
              "ticks": ""
             }
            }
           }
          ],
          "scatterpolargl": [
           {
            "type": "scatterpolargl",
            "marker": {
             "colorbar": {
              "outlinewidth": 0,
              "ticks": ""
             }
            }
           }
          ],
          "bar": [
           {
            "error_x": {
             "color": "#2a3f5f"
            },
            "error_y": {
             "color": "#2a3f5f"
            },
            "marker": {
             "line": {
              "color": "white",
              "width": 0.5
             },
             "pattern": {
              "fillmode": "overlay",
              "size": 10,
              "solidity": 0.2
             }
            },
            "type": "bar"
           }
          ],
          "scattergeo": [
           {
            "type": "scattergeo",
            "marker": {
             "colorbar": {
              "outlinewidth": 0,
              "ticks": ""
             }
            }
           }
          ],
          "scatterpolar": [
           {
            "type": "scatterpolar",
            "marker": {
             "colorbar": {
              "outlinewidth": 0,
              "ticks": ""
             }
            }
           }
          ],
          "histogram": [
           {
            "marker": {
             "pattern": {
              "fillmode": "overlay",
              "size": 10,
              "solidity": 0.2
             }
            },
            "type": "histogram"
           }
          ],
          "scattergl": [
           {
            "type": "scattergl",
            "marker": {
             "colorbar": {
              "outlinewidth": 0,
              "ticks": ""
             }
            }
           }
          ],
          "scatter3d": [
           {
            "type": "scatter3d",
            "line": {
             "colorbar": {
              "outlinewidth": 0,
              "ticks": ""
             }
            },
            "marker": {
             "colorbar": {
              "outlinewidth": 0,
              "ticks": ""
             }
            }
           }
          ],
          "scattermapbox": [
           {
            "type": "scattermapbox",
            "marker": {
             "colorbar": {
              "outlinewidth": 0,
              "ticks": ""
             }
            }
           }
          ],
          "scatterternary": [
           {
            "type": "scatterternary",
            "marker": {
             "colorbar": {
              "outlinewidth": 0,
              "ticks": ""
             }
            }
           }
          ],
          "scattercarpet": [
           {
            "type": "scattercarpet",
            "marker": {
             "colorbar": {
              "outlinewidth": 0,
              "ticks": ""
             }
            }
           }
          ],
          "carpet": [
           {
            "aaxis": {
             "endlinecolor": "#2a3f5f",
             "gridcolor": "#C8D4E3",
             "linecolor": "#C8D4E3",
             "minorgridcolor": "#C8D4E3",
             "startlinecolor": "#2a3f5f"
            },
            "baxis": {
             "endlinecolor": "#2a3f5f",
             "gridcolor": "#C8D4E3",
             "linecolor": "#C8D4E3",
             "minorgridcolor": "#C8D4E3",
             "startlinecolor": "#2a3f5f"
            },
            "type": "carpet"
           }
          ],
          "table": [
           {
            "cells": {
             "fill": {
              "color": "#EBF0F8"
             },
             "line": {
              "color": "white"
             }
            },
            "header": {
             "fill": {
              "color": "#C8D4E3"
             },
             "line": {
              "color": "white"
             }
            },
            "type": "table"
           }
          ],
          "barpolar": [
           {
            "marker": {
             "line": {
              "color": "white",
              "width": 0.5
             },
             "pattern": {
              "fillmode": "overlay",
              "size": 10,
              "solidity": 0.2
             }
            },
            "type": "barpolar"
           }
          ],
          "pie": [
           {
            "automargin": true,
            "type": "pie"
           }
          ]
         },
         "layout": {
          "autotypenumbers": "strict",
          "colorway": [
           "#636efa",
           "#EF553B",
           "#00cc96",
           "#ab63fa",
           "#FFA15A",
           "#19d3f3",
           "#FF6692",
           "#B6E880",
           "#FF97FF",
           "#FECB52"
          ],
          "font": {
           "color": "#2a3f5f"
          },
          "hovermode": "closest",
          "hoverlabel": {
           "align": "left"
          },
          "paper_bgcolor": "white",
          "plot_bgcolor": "white",
          "polar": {
           "bgcolor": "white",
           "angularaxis": {
            "gridcolor": "#EBF0F8",
            "linecolor": "#EBF0F8",
            "ticks": ""
           },
           "radialaxis": {
            "gridcolor": "#EBF0F8",
            "linecolor": "#EBF0F8",
            "ticks": ""
           }
          },
          "ternary": {
           "bgcolor": "white",
           "aaxis": {
            "gridcolor": "#DFE8F3",
            "linecolor": "#A2B1C6",
            "ticks": ""
           },
           "baxis": {
            "gridcolor": "#DFE8F3",
            "linecolor": "#A2B1C6",
            "ticks": ""
           },
           "caxis": {
            "gridcolor": "#DFE8F3",
            "linecolor": "#A2B1C6",
            "ticks": ""
           }
          },
          "coloraxis": {
           "colorbar": {
            "outlinewidth": 0,
            "ticks": ""
           }
          },
          "colorscale": {
           "sequential": [
            [
             0.0,
             "#0d0887"
            ],
            [
             0.1111111111111111,
             "#46039f"
            ],
            [
             0.2222222222222222,
             "#7201a8"
            ],
            [
             0.3333333333333333,
             "#9c179e"
            ],
            [
             0.4444444444444444,
             "#bd3786"
            ],
            [
             0.5555555555555556,
             "#d8576b"
            ],
            [
             0.6666666666666666,
             "#ed7953"
            ],
            [
             0.7777777777777778,
             "#fb9f3a"
            ],
            [
             0.8888888888888888,
             "#fdca26"
            ],
            [
             1.0,
             "#f0f921"
            ]
           ],
           "sequentialminus": [
            [
             0.0,
             "#0d0887"
            ],
            [
             0.1111111111111111,
             "#46039f"
            ],
            [
             0.2222222222222222,
             "#7201a8"
            ],
            [
             0.3333333333333333,
             "#9c179e"
            ],
            [
             0.4444444444444444,
             "#bd3786"
            ],
            [
             0.5555555555555556,
             "#d8576b"
            ],
            [
             0.6666666666666666,
             "#ed7953"
            ],
            [
             0.7777777777777778,
             "#fb9f3a"
            ],
            [
             0.8888888888888888,
             "#fdca26"
            ],
            [
             1.0,
             "#f0f921"
            ]
           ],
           "diverging": [
            [
             0,
             "#8e0152"
            ],
            [
             0.1,
             "#c51b7d"
            ],
            [
             0.2,
             "#de77ae"
            ],
            [
             0.3,
             "#f1b6da"
            ],
            [
             0.4,
             "#fde0ef"
            ],
            [
             0.5,
             "#f7f7f7"
            ],
            [
             0.6,
             "#e6f5d0"
            ],
            [
             0.7,
             "#b8e186"
            ],
            [
             0.8,
             "#7fbc41"
            ],
            [
             0.9,
             "#4d9221"
            ],
            [
             1,
             "#276419"
            ]
           ]
          },
          "xaxis": {
           "gridcolor": "#EBF0F8",
           "linecolor": "#EBF0F8",
           "ticks": "",
           "title": {
            "standoff": 15
           },
           "zerolinecolor": "#EBF0F8",
           "automargin": true,
           "zerolinewidth": 2
          },
          "yaxis": {
           "gridcolor": "#EBF0F8",
           "linecolor": "#EBF0F8",
           "ticks": "",
           "title": {
            "standoff": 15
           },
           "zerolinecolor": "#EBF0F8",
           "automargin": true,
           "zerolinewidth": 2
          },
          "scene": {
           "xaxis": {
            "backgroundcolor": "white",
            "gridcolor": "#DFE8F3",
            "linecolor": "#EBF0F8",
            "showbackground": true,
            "ticks": "",
            "zerolinecolor": "#EBF0F8",
            "gridwidth": 2
           },
           "yaxis": {
            "backgroundcolor": "white",
            "gridcolor": "#DFE8F3",
            "linecolor": "#EBF0F8",
            "showbackground": true,
            "ticks": "",
            "zerolinecolor": "#EBF0F8",
            "gridwidth": 2
           },
           "zaxis": {
            "backgroundcolor": "white",
            "gridcolor": "#DFE8F3",
            "linecolor": "#EBF0F8",
            "showbackground": true,
            "ticks": "",
            "zerolinecolor": "#EBF0F8",
            "gridwidth": 2
           }
          },
          "shapedefaults": {
           "line": {
            "color": "#2a3f5f"
           }
          },
          "annotationdefaults": {
           "arrowcolor": "#2a3f5f",
           "arrowhead": 0,
           "arrowwidth": 1
          },
          "geo": {
           "bgcolor": "white",
           "landcolor": "white",
           "subunitcolor": "#C8D4E3",
           "showland": true,
           "showlakes": true,
           "lakecolor": "white"
          },
          "title": {
           "x": 0.05
          },
          "mapbox": {
           "style": "light"
          }
         }
        },
        "annotations": [
         {
          "font": {
           "size": 16
          },
          "showarrow": false,
          "text": "Andromeda",
          "x": 0.225,
          "xanchor": "center",
          "xref": "paper",
          "y": 1.1,
          "yanchor": "bottom",
          "yref": "paper"
         },
         {
          "font": {
           "size": 16
          },
          "showarrow": false,
          "text": "Simple Scoring",
          "x": 0.775,
          "xanchor": "center",
          "xref": "paper",
          "y": 1.1,
          "yanchor": "bottom",
          "yref": "paper"
         }
        ],
        "title": {
         "font": {
          "size": 20
         },
         "text": "Peptide Identifications by Scoring Function (Target Database, FDR <= 0.01)",
         "y": 0.98,
         "x": 0.5,
         "xanchor": "center",
         "yanchor": "top"
        },
        "margin": {
         "t": 120
        },
        "legend": {
         "orientation": "h",
         "yanchor": "bottom",
         "y": -0.1,
         "xanchor": "center",
         "x": 0.5
        },
        "height": 500,
        "width": 800,
        "showlegend": true
       },
       "config": {
        "plotlyServerURL": "https://plot.ly"
       }
      },
      "text/html": [
       "<div>                            <div id=\"d00cf3fb-bfde-4ac0-9e03-787cd9cc6a44\" class=\"plotly-graph-div\" style=\"height:500px; width:800px;\"></div>            <script type=\"text/javascript\">                require([\"plotly\"], function(Plotly) {                    window.PLOTLYENV=window.PLOTLYENV || {};                                    if (document.getElementById(\"d00cf3fb-bfde-4ac0-9e03-787cd9cc6a44\")) {                    Plotly.newPlot(                        \"d00cf3fb-bfde-4ac0-9e03-787cd9cc6a44\",                        [{\"labels\":[\"FDR \\u2264 0.01\",\"FDR \\u003e 0.01\"],\"marker\":{\"colors\":[\"#2ca02c\",\"#d62728\"]},\"textinfo\":\"value+percent\",\"values\":[17012,116847],\"type\":\"pie\",\"domain\":{\"x\":[0.0,0.45],\"y\":[0.0,1.0]}},{\"labels\":[\"FDR \\u2264 0.01\",\"FDR \\u003e 0.01\"],\"marker\":{\"colors\":[\"#2ca02c\",\"#d62728\"]},\"textinfo\":\"value+percent\",\"values\":[1,133858],\"type\":\"pie\",\"domain\":{\"x\":[0.55,1.0],\"y\":[0.0,1.0]}}],                        {\"template\":{\"data\":{\"histogram2dcontour\":[{\"type\":\"histogram2dcontour\",\"colorbar\":{\"outlinewidth\":0,\"ticks\":\"\"},\"colorscale\":[[0.0,\"#0d0887\"],[0.1111111111111111,\"#46039f\"],[0.2222222222222222,\"#7201a8\"],[0.3333333333333333,\"#9c179e\"],[0.4444444444444444,\"#bd3786\"],[0.5555555555555556,\"#d8576b\"],[0.6666666666666666,\"#ed7953\"],[0.7777777777777778,\"#fb9f3a\"],[0.8888888888888888,\"#fdca26\"],[1.0,\"#f0f921\"]]}],\"choropleth\":[{\"type\":\"choropleth\",\"colorbar\":{\"outlinewidth\":0,\"ticks\":\"\"}}],\"histogram2d\":[{\"type\":\"histogram2d\",\"colorbar\":{\"outlinewidth\":0,\"ticks\":\"\"},\"colorscale\":[[0.0,\"#0d0887\"],[0.1111111111111111,\"#46039f\"],[0.2222222222222222,\"#7201a8\"],[0.3333333333333333,\"#9c179e\"],[0.4444444444444444,\"#bd3786\"],[0.5555555555555556,\"#d8576b\"],[0.6666666666666666,\"#ed7953\"],[0.7777777777777778,\"#fb9f3a\"],[0.8888888888888888,\"#fdca26\"],[1.0,\"#f0f921\"]]}],\"heatmap\":[{\"type\":\"heatmap\",\"colorbar\":{\"outlinewidth\":0,\"ticks\":\"\"},\"colorscale\":[[0.0,\"#0d0887\"],[0.1111111111111111,\"#46039f\"],[0.2222222222222222,\"#7201a8\"],[0.3333333333333333,\"#9c179e\"],[0.4444444444444444,\"#bd3786\"],[0.5555555555555556,\"#d8576b\"],[0.6666666666666666,\"#ed7953\"],[0.7777777777777778,\"#fb9f3a\"],[0.8888888888888888,\"#fdca26\"],[1.0,\"#f0f921\"]]}],\"heatmapgl\":[{\"type\":\"heatmapgl\",\"colorbar\":{\"outlinewidth\":0,\"ticks\":\"\"},\"colorscale\":[[0.0,\"#0d0887\"],[0.1111111111111111,\"#46039f\"],[0.2222222222222222,\"#7201a8\"],[0.3333333333333333,\"#9c179e\"],[0.4444444444444444,\"#bd3786\"],[0.5555555555555556,\"#d8576b\"],[0.6666666666666666,\"#ed7953\"],[0.7777777777777778,\"#fb9f3a\"],[0.8888888888888888,\"#fdca26\"],[1.0,\"#f0f921\"]]}],\"contourcarpet\":[{\"type\":\"contourcarpet\",\"colorbar\":{\"outlinewidth\":0,\"ticks\":\"\"}}],\"contour\":[{\"type\":\"contour\",\"colorbar\":{\"outlinewidth\":0,\"ticks\":\"\"},\"colorscale\":[[0.0,\"#0d0887\"],[0.1111111111111111,\"#46039f\"],[0.2222222222222222,\"#7201a8\"],[0.3333333333333333,\"#9c179e\"],[0.4444444444444444,\"#bd3786\"],[0.5555555555555556,\"#d8576b\"],[0.6666666666666666,\"#ed7953\"],[0.7777777777777778,\"#fb9f3a\"],[0.8888888888888888,\"#fdca26\"],[1.0,\"#f0f921\"]]}],\"surface\":[{\"type\":\"surface\",\"colorbar\":{\"outlinewidth\":0,\"ticks\":\"\"},\"colorscale\":[[0.0,\"#0d0887\"],[0.1111111111111111,\"#46039f\"],[0.2222222222222222,\"#7201a8\"],[0.3333333333333333,\"#9c179e\"],[0.4444444444444444,\"#bd3786\"],[0.5555555555555556,\"#d8576b\"],[0.6666666666666666,\"#ed7953\"],[0.7777777777777778,\"#fb9f3a\"],[0.8888888888888888,\"#fdca26\"],[1.0,\"#f0f921\"]]}],\"mesh3d\":[{\"type\":\"mesh3d\",\"colorbar\":{\"outlinewidth\":0,\"ticks\":\"\"}}],\"scatter\":[{\"fillpattern\":{\"fillmode\":\"overlay\",\"size\":10,\"solidity\":0.2},\"type\":\"scatter\"}],\"parcoords\":[{\"type\":\"parcoords\",\"line\":{\"colorbar\":{\"outlinewidth\":0,\"ticks\":\"\"}}}],\"scatterpolargl\":[{\"type\":\"scatterpolargl\",\"marker\":{\"colorbar\":{\"outlinewidth\":0,\"ticks\":\"\"}}}],\"bar\":[{\"error_x\":{\"color\":\"#2a3f5f\"},\"error_y\":{\"color\":\"#2a3f5f\"},\"marker\":{\"line\":{\"color\":\"white\",\"width\":0.5},\"pattern\":{\"fillmode\":\"overlay\",\"size\":10,\"solidity\":0.2}},\"type\":\"bar\"}],\"scattergeo\":[{\"type\":\"scattergeo\",\"marker\":{\"colorbar\":{\"outlinewidth\":0,\"ticks\":\"\"}}}],\"scatterpolar\":[{\"type\":\"scatterpolar\",\"marker\":{\"colorbar\":{\"outlinewidth\":0,\"ticks\":\"\"}}}],\"histogram\":[{\"marker\":{\"pattern\":{\"fillmode\":\"overlay\",\"size\":10,\"solidity\":0.2}},\"type\":\"histogram\"}],\"scattergl\":[{\"type\":\"scattergl\",\"marker\":{\"colorbar\":{\"outlinewidth\":0,\"ticks\":\"\"}}}],\"scatter3d\":[{\"type\":\"scatter3d\",\"line\":{\"colorbar\":{\"outlinewidth\":0,\"ticks\":\"\"}},\"marker\":{\"colorbar\":{\"outlinewidth\":0,\"ticks\":\"\"}}}],\"scattermapbox\":[{\"type\":\"scattermapbox\",\"marker\":{\"colorbar\":{\"outlinewidth\":0,\"ticks\":\"\"}}}],\"scatterternary\":[{\"type\":\"scatterternary\",\"marker\":{\"colorbar\":{\"outlinewidth\":0,\"ticks\":\"\"}}}],\"scattercarpet\":[{\"type\":\"scattercarpet\",\"marker\":{\"colorbar\":{\"outlinewidth\":0,\"ticks\":\"\"}}}],\"carpet\":[{\"aaxis\":{\"endlinecolor\":\"#2a3f5f\",\"gridcolor\":\"#C8D4E3\",\"linecolor\":\"#C8D4E3\",\"minorgridcolor\":\"#C8D4E3\",\"startlinecolor\":\"#2a3f5f\"},\"baxis\":{\"endlinecolor\":\"#2a3f5f\",\"gridcolor\":\"#C8D4E3\",\"linecolor\":\"#C8D4E3\",\"minorgridcolor\":\"#C8D4E3\",\"startlinecolor\":\"#2a3f5f\"},\"type\":\"carpet\"}],\"table\":[{\"cells\":{\"fill\":{\"color\":\"#EBF0F8\"},\"line\":{\"color\":\"white\"}},\"header\":{\"fill\":{\"color\":\"#C8D4E3\"},\"line\":{\"color\":\"white\"}},\"type\":\"table\"}],\"barpolar\":[{\"marker\":{\"line\":{\"color\":\"white\",\"width\":0.5},\"pattern\":{\"fillmode\":\"overlay\",\"size\":10,\"solidity\":0.2}},\"type\":\"barpolar\"}],\"pie\":[{\"automargin\":true,\"type\":\"pie\"}]},\"layout\":{\"autotypenumbers\":\"strict\",\"colorway\":[\"#636efa\",\"#EF553B\",\"#00cc96\",\"#ab63fa\",\"#FFA15A\",\"#19d3f3\",\"#FF6692\",\"#B6E880\",\"#FF97FF\",\"#FECB52\"],\"font\":{\"color\":\"#2a3f5f\"},\"hovermode\":\"closest\",\"hoverlabel\":{\"align\":\"left\"},\"paper_bgcolor\":\"white\",\"plot_bgcolor\":\"white\",\"polar\":{\"bgcolor\":\"white\",\"angularaxis\":{\"gridcolor\":\"#EBF0F8\",\"linecolor\":\"#EBF0F8\",\"ticks\":\"\"},\"radialaxis\":{\"gridcolor\":\"#EBF0F8\",\"linecolor\":\"#EBF0F8\",\"ticks\":\"\"}},\"ternary\":{\"bgcolor\":\"white\",\"aaxis\":{\"gridcolor\":\"#DFE8F3\",\"linecolor\":\"#A2B1C6\",\"ticks\":\"\"},\"baxis\":{\"gridcolor\":\"#DFE8F3\",\"linecolor\":\"#A2B1C6\",\"ticks\":\"\"},\"caxis\":{\"gridcolor\":\"#DFE8F3\",\"linecolor\":\"#A2B1C6\",\"ticks\":\"\"}},\"coloraxis\":{\"colorbar\":{\"outlinewidth\":0,\"ticks\":\"\"}},\"colorscale\":{\"sequential\":[[0.0,\"#0d0887\"],[0.1111111111111111,\"#46039f\"],[0.2222222222222222,\"#7201a8\"],[0.3333333333333333,\"#9c179e\"],[0.4444444444444444,\"#bd3786\"],[0.5555555555555556,\"#d8576b\"],[0.6666666666666666,\"#ed7953\"],[0.7777777777777778,\"#fb9f3a\"],[0.8888888888888888,\"#fdca26\"],[1.0,\"#f0f921\"]],\"sequentialminus\":[[0.0,\"#0d0887\"],[0.1111111111111111,\"#46039f\"],[0.2222222222222222,\"#7201a8\"],[0.3333333333333333,\"#9c179e\"],[0.4444444444444444,\"#bd3786\"],[0.5555555555555556,\"#d8576b\"],[0.6666666666666666,\"#ed7953\"],[0.7777777777777778,\"#fb9f3a\"],[0.8888888888888888,\"#fdca26\"],[1.0,\"#f0f921\"]],\"diverging\":[[0,\"#8e0152\"],[0.1,\"#c51b7d\"],[0.2,\"#de77ae\"],[0.3,\"#f1b6da\"],[0.4,\"#fde0ef\"],[0.5,\"#f7f7f7\"],[0.6,\"#e6f5d0\"],[0.7,\"#b8e186\"],[0.8,\"#7fbc41\"],[0.9,\"#4d9221\"],[1,\"#276419\"]]},\"xaxis\":{\"gridcolor\":\"#EBF0F8\",\"linecolor\":\"#EBF0F8\",\"ticks\":\"\",\"title\":{\"standoff\":15},\"zerolinecolor\":\"#EBF0F8\",\"automargin\":true,\"zerolinewidth\":2},\"yaxis\":{\"gridcolor\":\"#EBF0F8\",\"linecolor\":\"#EBF0F8\",\"ticks\":\"\",\"title\":{\"standoff\":15},\"zerolinecolor\":\"#EBF0F8\",\"automargin\":true,\"zerolinewidth\":2},\"scene\":{\"xaxis\":{\"backgroundcolor\":\"white\",\"gridcolor\":\"#DFE8F3\",\"linecolor\":\"#EBF0F8\",\"showbackground\":true,\"ticks\":\"\",\"zerolinecolor\":\"#EBF0F8\",\"gridwidth\":2},\"yaxis\":{\"backgroundcolor\":\"white\",\"gridcolor\":\"#DFE8F3\",\"linecolor\":\"#EBF0F8\",\"showbackground\":true,\"ticks\":\"\",\"zerolinecolor\":\"#EBF0F8\",\"gridwidth\":2},\"zaxis\":{\"backgroundcolor\":\"white\",\"gridcolor\":\"#DFE8F3\",\"linecolor\":\"#EBF0F8\",\"showbackground\":true,\"ticks\":\"\",\"zerolinecolor\":\"#EBF0F8\",\"gridwidth\":2}},\"shapedefaults\":{\"line\":{\"color\":\"#2a3f5f\"}},\"annotationdefaults\":{\"arrowcolor\":\"#2a3f5f\",\"arrowhead\":0,\"arrowwidth\":1},\"geo\":{\"bgcolor\":\"white\",\"landcolor\":\"white\",\"subunitcolor\":\"#C8D4E3\",\"showland\":true,\"showlakes\":true,\"lakecolor\":\"white\"},\"title\":{\"x\":0.05},\"mapbox\":{\"style\":\"light\"}}},\"annotations\":[{\"font\":{\"size\":16},\"showarrow\":false,\"text\":\"Andromeda\",\"x\":0.225,\"xanchor\":\"center\",\"xref\":\"paper\",\"y\":1.1,\"yanchor\":\"bottom\",\"yref\":\"paper\"},{\"font\":{\"size\":16},\"showarrow\":false,\"text\":\"Simple Scoring\",\"x\":0.775,\"xanchor\":\"center\",\"xref\":\"paper\",\"y\":1.1,\"yanchor\":\"bottom\",\"yref\":\"paper\"}],\"title\":{\"font\":{\"size\":20},\"text\":\"Peptide Identifications by Scoring Function (Target Database, FDR \\u003c= 0.01)\",\"y\":0.98,\"x\":0.5,\"xanchor\":\"center\",\"yanchor\":\"top\"},\"margin\":{\"t\":120},\"legend\":{\"orientation\":\"h\",\"yanchor\":\"bottom\",\"y\":-0.1,\"xanchor\":\"center\",\"x\":0.5},\"height\":500,\"width\":800,\"showlegend\":true},                        {\"responsive\": true}                    ).then(function(){\n",
       "                            \n",
       "var gd = document.getElementById('d00cf3fb-bfde-4ac0-9e03-787cd9cc6a44');\n",
       "var x = new MutationObserver(function (mutations, observer) {{\n",
       "        var display = window.getComputedStyle(gd).display;\n",
       "        if (!display || display === 'none') {{\n",
       "            console.log([gd, 'removed!']);\n",
       "            Plotly.purge(gd);\n",
       "            observer.disconnect();\n",
       "        }}\n",
       "}});\n",
       "\n",
       "// Listen for the removal of the full notebook cells\n",
       "var notebookContainer = gd.closest('#notebook-container');\n",
       "if (notebookContainer) {{\n",
       "    x.observe(notebookContainer, {childList: true});\n",
       "}}\n",
       "\n",
       "// Listen for the clearing of the current output cell\n",
       "var outputEl = gd.closest('.output');\n",
       "if (outputEl) {{\n",
       "    x.observe(outputEl, {childList: true});\n",
       "}}\n",
       "\n",
       "                        })                };                });            </script>        </div>"
      ]
     },
     "metadata": {},
     "output_type": "display_data"
    }
   ],
   "execution_count": 27
  },
  {
   "metadata": {},
   "cell_type": "markdown",
   "source": "# Density plot for match scores",
   "id": "da78a95984f3b299"
  },
  {
   "metadata": {
    "ExecuteTime": {
     "end_time": "2025-03-12T14:15:47.057716Z",
     "start_time": "2025-03-12T14:15:41.658680Z"
    }
   },
   "cell_type": "code",
   "source": [
    "# Density plot for match scores\n",
    "from visualization import SpectrumVisualizer\n",
    "import matplotlib.pyplot as plt\n",
    "total_sv = SpectrumVisualizer(matched_spectra_df)\n",
    "kde_plot = total_sv.plot_score_distributions(\"Match Score Score Distributions by Scoring Function and Experiment\", custom_xlims={'Andromeda': (-2, 8), 'Simple Scoring': (-5, 0.5)}, custom_ylims={'Andromeda': (0, 1), 'Simple Scoring': (0, 1)})\n",
    "plt.savefig(\"results/density_plot.png\", dpi=300)\n"
   ],
   "id": "f4e7cbecf0f3593e",
   "outputs": [
    {
     "name": "stderr",
     "output_type": "stream",
     "text": [
      "/opt/homebrew/Caskroom/miniconda/base/envs/bmdt_new/lib/python3.11/site-packages/pandas/core/arraylike.py:399: RuntimeWarning:\n",
      "\n",
      "divide by zero encountered in log2\n",
      "\n"
     ]
    },
    {
     "data": {
      "text/plain": [
       "<Figure size 1896.38x800 with 6 Axes>"
      ],
      "image/png": "[encoded data removed]"
     },
     "metadata": {},
     "output_type": "display_data"
    }
   ],
   "execution_count": 32
  },
  {
   "metadata": {},
   "cell_type": "markdown",
   "source": "# Bar plots for FDR-calibrated hit counts",
   "id": "1d26aa763e48d08"
  },
  {
   "metadata": {
    "ExecuteTime": {
     "end_time": "2025-03-12T13:58:28.723665Z",
     "start_time": "2025-03-12T13:58:28.106346Z"
    }
   },
   "cell_type": "code",
   "source": [
    "import pandas as pd\n",
    "import plotly.graph_objects as go\n",
    "from plotly.subplots import make_subplots\n",
    "\n",
    "# Create shortened experiment names matching original formatting\n",
    "def format_experiment_name(name):\n",
    "    return (name.replace(\"new_\", \"\")\n",
    "            .replace(\"_INSOLUBLE_01\", \"\")\n",
    "            .replace(\"_\", \" \"))\n",
    "\n",
    "# Define constants\n",
    "FDR_THRESHOLDS = [0.01, 0.1, 0.25]\n",
    "SCORING_FUNCTIONS = ['Andromeda', 'Simple Scoring']\n",
    "EXPERIMENTS = list(fdr_df['experiment_name'].unique())\n",
    "\n",
    "# Initialize subplot grid\n",
    "fig = make_subplots(\n",
    "    rows=2,\n",
    "    cols=3,\n",
    "    subplot_titles=[f\"{sf}<br>{format_experiment_name(exp)}\" for sf in SCORING_FUNCTIONS for exp in EXPERIMENTS],\n",
    "    vertical_spacing=0.3,\n",
    "    horizontal_spacing=0.1,\n",
    "    specs=[[{\"type\": \"bar\"}, {\"type\": \"bar\"}, {\"type\": \"bar\"}],\n",
    "           [{\"type\": \"bar\"}, {\"type\": \"bar\"}, {\"type\": \"bar\"}]]\n",
    ")\n",
    "\n",
    "# Create mapping for subplot positions\n",
    "subplot_positions = {\n",
    "    (sf, exp): (row, col)\n",
    "    for row, sf in enumerate(SCORING_FUNCTIONS, 1)\n",
    "    for col, exp in enumerate(EXPERIMENTS, 1)\n",
    "}\n",
    "\n",
    "# Process data and create plots\n",
    "for (scoring_func, experiment), group_df in fdr_df[fdr_df['is_target'] == True].groupby(['scoring_function', 'experiment_name']):\n",
    "    # Sort by achieved_fdr ascending (best thresholds first)\n",
    "    sorted_df = group_df.sort_values('fdr', ascending=True)\n",
    "\n",
    "    # Calculate hits at each FDR threshold\n",
    "    hit_counts = []\n",
    "    for threshold in FDR_THRESHOLDS:\n",
    "        valid = sorted_df[sorted_df['fdr'] <= threshold]\n",
    "        hit_counts.append(valid['cumulative_targets'].max() if not valid.empty else 0)\n",
    "\n",
    "    # Get subplot position\n",
    "    row, col = subplot_positions.get((scoring_func, experiment), (1, 1))\n",
    "\n",
    "    # Create bar trace\n",
    "    fig.add_trace(\n",
    "        go.Bar(\n",
    "            x=[f'{t*100}%' for t in FDR_THRESHOLDS],\n",
    "            y=hit_counts,\n",
    "            name=f'{experiment} - {scoring_func}',\n",
    "            text=hit_counts,\n",
    "            textposition='auto'\n",
    "        ),\n",
    "        row=row,\n",
    "        col=col\n",
    "    )\n",
    "\n",
    "# Update layout\n",
    "fig.update_layout(\n",
    "    template=\"plotly_white\",\n",
    "    height=800,\n",
    "    width=1200,\n",
    "    title={\n",
    "        \"text\": \"FDR-Calibrated Hit Counts by Experiment and Scoring Function\",\n",
    "        \"font\": {\"size\": 24},\n",
    "        \"x\": 0.5,\n",
    "    },\n",
    "    showlegend=False,\n",
    "    margin=dict(t=150)\n",
    ")\n",
    "\n",
    "# Add axis labels\n",
    "for row in [1, 2]:\n",
    "    for col in [1, 2, 3]:\n",
    "        fig.update_xaxes(title_text=\"FDR Threshold\", row=row, col=col)\n",
    "        fig.update_yaxes(title_text=\"Number of Identifications\", row=row, col=col)\n",
    "\n",
    "fig.show()\n",
    "fig.write_image(\"results/fdr_calibrated_hit_counts.pdf\")"
   ],
   "id": "4490b7af6782b926",
   "outputs": [
    {
     "data": {
      "application/vnd.plotly.v1+json": {
       "data": [
        {
         "name": "CTR03_BA46_INSOLUBLE_01 - Andromeda",
         "text": [
          "5538",
          "8557",
          "10860"
         ],
         "textposition": "auto",
         "x": [
          "1.0%",
          "10.0%",
          "25.0%"
         ],
         "y": [
          5538,
          8557,
          10860
         ],
         "type": "bar",
         "xaxis": "x",
         "yaxis": "y"
        },
        {
         "name": "CTR08_BA46_INSOLUBLE_01 - Andromeda",
         "text": [
          "6781",
          "10005",
          "12469"
         ],
         "textposition": "auto",
         "x": [
          "1.0%",
          "10.0%",
          "25.0%"
         ],
         "y": [
          6781,
          10005,
          12469
         ],
         "type": "bar",
         "xaxis": "x2",
         "yaxis": "y2"
        },
        {
         "name": "CTR45_BA46_INSOLUBLE_01 - Andromeda",
         "text": [
          "4693",
          "6785",
          "8490"
         ],
         "textposition": "auto",
         "x": [
          "1.0%",
          "10.0%",
          "25.0%"
         ],
         "y": [
          4693,
          6785,
          8490
         ],
         "type": "bar",
         "xaxis": "x3",
         "yaxis": "y3"
        },
        {
         "name": "CTR03_BA46_INSOLUBLE_01 - Simple Scoring",
         "text": [
          "0",
          "74",
          "76"
         ],
         "textposition": "auto",
         "x": [
          "1.0%",
          "10.0%",
          "25.0%"
         ],
         "y": [
          0,
          74,
          76
         ],
         "type": "bar",
         "xaxis": "x4",
         "yaxis": "y4"
        },
        {
         "name": "CTR08_BA46_INSOLUBLE_01 - Simple Scoring",
         "text": [
          "1",
          "1",
          "3"
         ],
         "textposition": "auto",
         "x": [
          "1.0%",
          "10.0%",
          "25.0%"
         ],
         "y": [
          1,
          1,
          3
         ],
         "type": "bar",
         "xaxis": "x5",
         "yaxis": "y5"
        },
        {
         "name": "CTR45_BA46_INSOLUBLE_01 - Simple Scoring",
         "text": [
          "0",
          "0",
          "0"
         ],
         "textposition": "auto",
         "x": [
          "1.0%",
          "10.0%",
          "25.0%"
         ],
         "y": [
          0,
          0,
          0
         ],
         "type": "bar",
         "xaxis": "x6",
         "yaxis": "y6"
        }
       ],
       "layout": {
        "template": {
         "data": {
          "histogram2dcontour": [
           {
            "type": "histogram2dcontour",
            "colorbar": {
             "outlinewidth": 0,
             "ticks": ""
            },
            "colorscale": [
             [
              0.0,
              "#0d0887"
             ],
             [
              0.1111111111111111,
              "#46039f"
             ],
             [
              0.2222222222222222,
              "#7201a8"
             ],
             [
              0.3333333333333333,
              "#9c179e"
             ],
             [
              0.4444444444444444,
              "#bd3786"
             ],
             [
              0.5555555555555556,
              "#d8576b"
             ],
             [
              0.6666666666666666,
              "#ed7953"
             ],
             [
              0.7777777777777778,
              "#fb9f3a"
             ],
             [
              0.8888888888888888,
              "#fdca26"
             ],
             [
              1.0,
              "#f0f921"
             ]
            ]
           }
          ],
          "choropleth": [
           {
            "type": "choropleth",
            "colorbar": {
             "outlinewidth": 0,
             "ticks": ""
            }
           }
          ],
          "histogram2d": [
           {
            "type": "histogram2d",
            "colorbar": {
             "outlinewidth": 0,
             "ticks": ""
            },
            "colorscale": [
             [
              0.0,
              "#0d0887"
             ],
             [
              0.1111111111111111,
              "#46039f"
             ],
             [
              0.2222222222222222,
              "#7201a8"
             ],
             [
              0.3333333333333333,
              "#9c179e"
             ],
             [
              0.4444444444444444,
              "#bd3786"
             ],
             [
              0.5555555555555556,
              "#d8576b"
             ],
             [
              0.6666666666666666,
              "#ed7953"
             ],
             [
              0.7777777777777778,
              "#fb9f3a"
             ],
             [
              0.8888888888888888,
              "#fdca26"
             ],
             [
              1.0,
              "#f0f921"
             ]
            ]
           }
          ],
          "heatmap": [
           {
            "type": "heatmap",
            "colorbar": {
             "outlinewidth": 0,
             "ticks": ""
            },
            "colorscale": [
             [
              0.0,
              "#0d0887"
             ],
             [
              0.1111111111111111,
              "#46039f"
             ],
             [
              0.2222222222222222,
              "#7201a8"
             ],
             [
              0.3333333333333333,
              "#9c179e"
             ],
             [
              0.4444444444444444,
              "#bd3786"
             ],
             [
              0.5555555555555556,
              "#d8576b"
             ],
             [
              0.6666666666666666,
              "#ed7953"
             ],
             [
              0.7777777777777778,
              "#fb9f3a"
             ],
             [
              0.8888888888888888,
              "#fdca26"
             ],
             [
              1.0,
              "#f0f921"
             ]
            ]
           }
          ],
          "heatmapgl": [
           {
            "type": "heatmapgl",
            "colorbar": {
             "outlinewidth": 0,
             "ticks": ""
            },
            "colorscale": [
             [
              0.0,
              "#0d0887"
             ],
             [
              0.1111111111111111,
              "#46039f"
             ],
             [
              0.2222222222222222,
              "#7201a8"
             ],
             [
              0.3333333333333333,
              "#9c179e"
             ],
             [
              0.4444444444444444,
              "#bd3786"
             ],
             [
              0.5555555555555556,
              "#d8576b"
             ],
             [
              0.6666666666666666,
              "#ed7953"
             ],
             [
              0.7777777777777778,
              "#fb9f3a"
             ],
             [
              0.8888888888888888,
              "#fdca26"
             ],
             [
              1.0,
              "#f0f921"
             ]
            ]
           }
          ],
          "contourcarpet": [
           {
            "type": "contourcarpet",
            "colorbar": {
             "outlinewidth": 0,
             "ticks": ""
            }
           }
          ],
          "contour": [
           {
            "type": "contour",
            "colorbar": {
             "outlinewidth": 0,
             "ticks": ""
            },
            "colorscale": [
             [
              0.0,
              "#0d0887"
             ],
             [
              0.1111111111111111,
              "#46039f"
             ],
             [
              0.2222222222222222,
              "#7201a8"
             ],
             [
              0.3333333333333333,
              "#9c179e"
             ],
             [
              0.4444444444444444,
              "#bd3786"
             ],
             [
              0.5555555555555556,
              "#d8576b"
             ],
             [
              0.6666666666666666,
              "#ed7953"
             ],
             [
              0.7777777777777778,
              "#fb9f3a"
             ],
             [
              0.8888888888888888,
              "#fdca26"
             ],
             [
              1.0,
              "#f0f921"
             ]
            ]
           }
          ],
          "surface": [
           {
            "type": "surface",
            "colorbar": {
             "outlinewidth": 0,
             "ticks": ""
            },
            "colorscale": [
             [
              0.0,
              "#0d0887"
             ],
             [
              0.1111111111111111,
              "#46039f"
             ],
             [
              0.2222222222222222,
              "#7201a8"
             ],
             [
              0.3333333333333333,
              "#9c179e"
             ],
             [
              0.4444444444444444,
              "#bd3786"
             ],
             [
              0.5555555555555556,
              "#d8576b"
             ],
             [
              0.6666666666666666,
              "#ed7953"
             ],
             [
              0.7777777777777778,
              "#fb9f3a"
             ],
             [
              0.8888888888888888,
              "#fdca26"
             ],
             [
              1.0,
              "#f0f921"
             ]
            ]
           }
          ],
          "mesh3d": [
           {
            "type": "mesh3d",
            "colorbar": {
             "outlinewidth": 0,
             "ticks": ""
            }
           }
          ],
          "scatter": [
           {
            "fillpattern": {
             "fillmode": "overlay",
             "size": 10,
             "solidity": 0.2
            },
            "type": "scatter"
           }
          ],
          "parcoords": [
           {
            "type": "parcoords",
            "line": {
             "colorbar": {
              "outlinewidth": 0,
              "ticks": ""
             }
            }
           }
          ],
          "scatterpolargl": [
           {
            "type": "scatterpolargl",
            "marker": {
             "colorbar": {
              "outlinewidth": 0,
              "ticks": ""
             }
            }
           }
          ],
          "bar": [
           {
            "error_x": {
             "color": "#2a3f5f"
            },
            "error_y": {
             "color": "#2a3f5f"
            },
            "marker": {
             "line": {
              "color": "white",
              "width": 0.5
             },
             "pattern": {
              "fillmode": "overlay",
              "size": 10,
              "solidity": 0.2
             }
            },
            "type": "bar"
           }
          ],
          "scattergeo": [
           {
            "type": "scattergeo",
            "marker": {
             "colorbar": {
              "outlinewidth": 0,
              "ticks": ""
             }
            }
           }
          ],
          "scatterpolar": [
           {
            "type": "scatterpolar",
            "marker": {
             "colorbar": {
              "outlinewidth": 0,
              "ticks": ""
             }
            }
           }
          ],
          "histogram": [
           {
            "marker": {
             "pattern": {
              "fillmode": "overlay",
              "size": 10,
              "solidity": 0.2
             }
            },
            "type": "histogram"
           }
          ],
          "scattergl": [
           {
            "type": "scattergl",
            "marker": {
             "colorbar": {
              "outlinewidth": 0,
              "ticks": ""
             }
            }
           }
          ],
          "scatter3d": [
           {
            "type": "scatter3d",
            "line": {
             "colorbar": {
              "outlinewidth": 0,
              "ticks": ""
             }
            },
            "marker": {
             "colorbar": {
              "outlinewidth": 0,
              "ticks": ""
             }
            }
           }
          ],
          "scattermapbox": [
           {
            "type": "scattermapbox",
            "marker": {
             "colorbar": {
              "outlinewidth": 0,
              "ticks": ""
             }
            }
           }
          ],
          "scatterternary": [
           {
            "type": "scatterternary",
            "marker": {
             "colorbar": {
              "outlinewidth": 0,
              "ticks": ""
             }
            }
           }
          ],
          "scattercarpet": [
           {
            "type": "scattercarpet",
            "marker": {
             "colorbar": {
              "outlinewidth": 0,
              "ticks": ""
             }
            }
           }
          ],
          "carpet": [
           {
            "aaxis": {
             "endlinecolor": "#2a3f5f",
             "gridcolor": "#C8D4E3",
             "linecolor": "#C8D4E3",
             "minorgridcolor": "#C8D4E3",
             "startlinecolor": "#2a3f5f"
            },
            "baxis": {
             "endlinecolor": "#2a3f5f",
             "gridcolor": "#C8D4E3",
             "linecolor": "#C8D4E3",
             "minorgridcolor": "#C8D4E3",
             "startlinecolor": "#2a3f5f"
            },
            "type": "carpet"
           }
          ],
          "table": [
           {
            "cells": {
             "fill": {
              "color": "#EBF0F8"
             },
             "line": {
              "color": "white"
             }
            },
            "header": {
             "fill": {
              "color": "#C8D4E3"
             },
             "line": {
              "color": "white"
             }
            },
            "type": "table"
           }
          ],
          "barpolar": [
           {
            "marker": {
             "line": {
              "color": "white",
              "width": 0.5
             },
             "pattern": {
              "fillmode": "overlay",
              "size": 10,
              "solidity": 0.2
             }
            },
            "type": "barpolar"
           }
          ],
          "pie": [
           {
            "automargin": true,
            "type": "pie"
           }
          ]
         },
         "layout": {
          "autotypenumbers": "strict",
          "colorway": [
           "#636efa",
           "#EF553B",
           "#00cc96",
           "#ab63fa",
           "#FFA15A",
           "#19d3f3",
           "#FF6692",
           "#B6E880",
           "#FF97FF",
           "#FECB52"
          ],
          "font": {
           "color": "#2a3f5f"
          },
          "hovermode": "closest",
          "hoverlabel": {
           "align": "left"
          },
          "paper_bgcolor": "white",
          "plot_bgcolor": "white",
          "polar": {
           "bgcolor": "white",
           "angularaxis": {
            "gridcolor": "#EBF0F8",
            "linecolor": "#EBF0F8",
            "ticks": ""
           },
           "radialaxis": {
            "gridcolor": "#EBF0F8",
            "linecolor": "#EBF0F8",
            "ticks": ""
           }
          },
          "ternary": {
           "bgcolor": "white",
           "aaxis": {
            "gridcolor": "#DFE8F3",
            "linecolor": "#A2B1C6",
            "ticks": ""
           },
           "baxis": {
            "gridcolor": "#DFE8F3",
            "linecolor": "#A2B1C6",
            "ticks": ""
           },
           "caxis": {
            "gridcolor": "#DFE8F3",
            "linecolor": "#A2B1C6",
            "ticks": ""
           }
          },
          "coloraxis": {
           "colorbar": {
            "outlinewidth": 0,
            "ticks": ""
           }
          },
          "colorscale": {
           "sequential": [
            [
             0.0,
             "#0d0887"
            ],
            [
             0.1111111111111111,
             "#46039f"
            ],
            [
             0.2222222222222222,
             "#7201a8"
            ],
            [
             0.3333333333333333,
             "#9c179e"
            ],
            [
             0.4444444444444444,
             "#bd3786"
            ],
            [
             0.5555555555555556,
             "#d8576b"
            ],
            [
             0.6666666666666666,
             "#ed7953"
            ],
            [
             0.7777777777777778,
             "#fb9f3a"
            ],
            [
             0.8888888888888888,
             "#fdca26"
            ],
            [
             1.0,
             "#f0f921"
            ]
           ],
           "sequentialminus": [
            [
             0.0,
             "#0d0887"
            ],
            [
             0.1111111111111111,
             "#46039f"
            ],
            [
             0.2222222222222222,
             "#7201a8"
            ],
            [
             0.3333333333333333,
             "#9c179e"
            ],
            [
             0.4444444444444444,
             "#bd3786"
            ],
            [
             0.5555555555555556,
             "#d8576b"
            ],
            [
             0.6666666666666666,
             "#ed7953"
            ],
            [
             0.7777777777777778,
             "#fb9f3a"
            ],
            [
             0.8888888888888888,
             "#fdca26"
            ],
            [
             1.0,
             "#f0f921"
            ]
           ],
           "diverging": [
            [
             0,
             "#8e0152"
            ],
            [
             0.1,
             "#c51b7d"
            ],
            [
             0.2,
             "#de77ae"
            ],
            [
             0.3,
             "#f1b6da"
            ],
            [
             0.4,
             "#fde0ef"
            ],
            [
             0.5,
             "#f7f7f7"
            ],
            [
             0.6,
             "#e6f5d0"
            ],
            [
             0.7,
             "#b8e186"
            ],
            [
             0.8,
             "#7fbc41"
            ],
            [
             0.9,
             "#4d9221"
            ],
            [
             1,
             "#276419"
            ]
           ]
          },
          "xaxis": {
           "gridcolor": "#EBF0F8",
           "linecolor": "#EBF0F8",
           "ticks": "",
           "title": {
            "standoff": 15
           },
           "zerolinecolor": "#EBF0F8",
           "automargin": true,
           "zerolinewidth": 2
          },
          "yaxis": {
           "gridcolor": "#EBF0F8",
           "linecolor": "#EBF0F8",
           "ticks": "",
           "title": {
            "standoff": 15
           },
           "zerolinecolor": "#EBF0F8",
           "automargin": true,
           "zerolinewidth": 2
          },
          "scene": {
           "xaxis": {
            "backgroundcolor": "white",
            "gridcolor": "#DFE8F3",
            "linecolor": "#EBF0F8",
            "showbackground": true,
            "ticks": "",
            "zerolinecolor": "#EBF0F8",
            "gridwidth": 2
           },
           "yaxis": {
            "backgroundcolor": "white",
            "gridcolor": "#DFE8F3",
            "linecolor": "#EBF0F8",
            "showbackground": true,
            "ticks": "",
            "zerolinecolor": "#EBF0F8",
            "gridwidth": 2
           },
           "zaxis": {
            "backgroundcolor": "white",
            "gridcolor": "#DFE8F3",
            "linecolor": "#EBF0F8",
            "showbackground": true,
            "ticks": "",
            "zerolinecolor": "#EBF0F8",
            "gridwidth": 2
           }
          },
          "shapedefaults": {
           "line": {
            "color": "#2a3f5f"
           }
          },
          "annotationdefaults": {
           "arrowcolor": "#2a3f5f",
           "arrowhead": 0,
           "arrowwidth": 1
          },
          "geo": {
           "bgcolor": "white",
           "landcolor": "white",
           "subunitcolor": "#C8D4E3",
           "showland": true,
           "showlakes": true,
           "lakecolor": "white"
          },
          "title": {
           "x": 0.05
          },
          "mapbox": {
           "style": "light"
          }
         }
        },
        "xaxis": {
         "anchor": "y",
         "domain": [
          0.0,
          0.26666666666666666
         ],
         "title": {
          "text": "FDR Threshold"
         }
        },
        "yaxis": {
         "anchor": "x",
         "domain": [
          0.6499999999999999,
          0.9999999999999999
         ],
         "title": {
          "text": "Number of Identifications"
         }
        },
        "xaxis2": {
         "anchor": "y2",
         "domain": [
          0.3666666666666667,
          0.6333333333333333
         ],
         "title": {
          "text": "FDR Threshold"
         }
        },
        "yaxis2": {
         "anchor": "x2",
         "domain": [
          0.6499999999999999,
          0.9999999999999999
         ],
         "title": {
          "text": "Number of Identifications"
         }
        },
        "xaxis3": {
         "anchor": "y3",
         "domain": [
          0.7333333333333334,
          1.0
         ],
         "title": {
          "text": "FDR Threshold"
         }
        },
        "yaxis3": {
         "anchor": "x3",
         "domain": [
          0.6499999999999999,
          0.9999999999999999
         ],
         "title": {
          "text": "Number of Identifications"
         }
        },
        "xaxis4": {
         "anchor": "y4",
         "domain": [
          0.0,
          0.26666666666666666
         ],
         "title": {
          "text": "FDR Threshold"
         }
        },
        "yaxis4": {
         "anchor": "x4",
         "domain": [
          0.0,
          0.35
         ],
         "title": {
          "text": "Number of Identifications"
         }
        },
        "xaxis5": {
         "anchor": "y5",
         "domain": [
          0.3666666666666667,
          0.6333333333333333
         ],
         "title": {
          "text": "FDR Threshold"
         }
        },
        "yaxis5": {
         "anchor": "x5",
         "domain": [
          0.0,
          0.35
         ],
         "title": {
          "text": "Number of Identifications"
         }
        },
        "xaxis6": {
         "anchor": "y6",
         "domain": [
          0.7333333333333334,
          1.0
         ],
         "title": {
          "text": "FDR Threshold"
         }
        },
        "yaxis6": {
         "anchor": "x6",
         "domain": [
          0.0,
          0.35
         ],
         "title": {
          "text": "Number of Identifications"
         }
        },
        "annotations": [
         {
          "font": {
           "size": 16
          },
          "showarrow": false,
          "text": "Andromeda<br>CTR03 BA46",
          "x": 0.13333333333333333,
          "xanchor": "center",
          "xref": "paper",
          "y": 0.9999999999999999,
          "yanchor": "bottom",
          "yref": "paper"
         },
         {
          "font": {
           "size": 16
          },
          "showarrow": false,
          "text": "Andromeda<br>CTR08 BA46",
          "x": 0.5,
          "xanchor": "center",
          "xref": "paper",
          "y": 0.9999999999999999,
          "yanchor": "bottom",
          "yref": "paper"
         },
         {
          "font": {
           "size": 16
          },
          "showarrow": false,
          "text": "Andromeda<br>CTR45 BA46",
          "x": 0.8666666666666667,
          "xanchor": "center",
          "xref": "paper",
          "y": 0.9999999999999999,
          "yanchor": "bottom",
          "yref": "paper"
         },
         {
          "font": {
           "size": 16
          },
          "showarrow": false,
          "text": "Simple Scoring<br>CTR03 BA46",
          "x": 0.13333333333333333,
          "xanchor": "center",
          "xref": "paper",
          "y": 0.35,
          "yanchor": "bottom",
          "yref": "paper"
         },
         {
          "font": {
           "size": 16
          },
          "showarrow": false,
          "text": "Simple Scoring<br>CTR08 BA46",
          "x": 0.5,
          "xanchor": "center",
          "xref": "paper",
          "y": 0.35,
          "yanchor": "bottom",
          "yref": "paper"
         },
         {
          "font": {
           "size": 16
          },
          "showarrow": false,
          "text": "Simple Scoring<br>CTR45 BA46",
          "x": 0.8666666666666667,
          "xanchor": "center",
          "xref": "paper",
          "y": 0.35,
          "yanchor": "bottom",
          "yref": "paper"
         }
        ],
        "title": {
         "font": {
          "size": 24
         },
         "text": "FDR-Calibrated Hit Counts by Experiment and Scoring Function",
         "x": 0.5
        },
        "margin": {
         "t": 150
        },
        "height": 800,
        "width": 1200,
        "showlegend": false
       },
       "config": {
        "plotlyServerURL": "https://plot.ly"
       }
      },
      "text/html": [
       "<div>                            <div id=\"b627873e-d1de-4e38-bd40-352d7217fed0\" class=\"plotly-graph-div\" style=\"height:800px; width:1200px;\"></div>            <script type=\"text/javascript\">                require([\"plotly\"], function(Plotly) {                    window.PLOTLYENV=window.PLOTLYENV || {};                                    if (document.getElementById(\"b627873e-d1de-4e38-bd40-352d7217fed0\")) {                    Plotly.newPlot(                        \"b627873e-d1de-4e38-bd40-352d7217fed0\",                        [{\"name\":\"CTR03_BA46_INSOLUBLE_01 - Andromeda\",\"text\":[\"5538\",\"8557\",\"10860\"],\"textposition\":\"auto\",\"x\":[\"1.0%\",\"10.0%\",\"25.0%\"],\"y\":[5538,8557,10860],\"type\":\"bar\",\"xaxis\":\"x\",\"yaxis\":\"y\"},{\"name\":\"CTR08_BA46_INSOLUBLE_01 - Andromeda\",\"text\":[\"6781\",\"10005\",\"12469\"],\"textposition\":\"auto\",\"x\":[\"1.0%\",\"10.0%\",\"25.0%\"],\"y\":[6781,10005,12469],\"type\":\"bar\",\"xaxis\":\"x2\",\"yaxis\":\"y2\"},{\"name\":\"CTR45_BA46_INSOLUBLE_01 - Andromeda\",\"text\":[\"4693\",\"6785\",\"8490\"],\"textposition\":\"auto\",\"x\":[\"1.0%\",\"10.0%\",\"25.0%\"],\"y\":[4693,6785,8490],\"type\":\"bar\",\"xaxis\":\"x3\",\"yaxis\":\"y3\"},{\"name\":\"CTR03_BA46_INSOLUBLE_01 - Simple Scoring\",\"text\":[\"0\",\"74\",\"76\"],\"textposition\":\"auto\",\"x\":[\"1.0%\",\"10.0%\",\"25.0%\"],\"y\":[0,74,76],\"type\":\"bar\",\"xaxis\":\"x4\",\"yaxis\":\"y4\"},{\"name\":\"CTR08_BA46_INSOLUBLE_01 - Simple Scoring\",\"text\":[\"1\",\"1\",\"3\"],\"textposition\":\"auto\",\"x\":[\"1.0%\",\"10.0%\",\"25.0%\"],\"y\":[1,1,3],\"type\":\"bar\",\"xaxis\":\"x5\",\"yaxis\":\"y5\"},{\"name\":\"CTR45_BA46_INSOLUBLE_01 - Simple Scoring\",\"text\":[\"0\",\"0\",\"0\"],\"textposition\":\"auto\",\"x\":[\"1.0%\",\"10.0%\",\"25.0%\"],\"y\":[0,0,0],\"type\":\"bar\",\"xaxis\":\"x6\",\"yaxis\":\"y6\"}],                        {\"template\":{\"data\":{\"histogram2dcontour\":[{\"type\":\"histogram2dcontour\",\"colorbar\":{\"outlinewidth\":0,\"ticks\":\"\"},\"colorscale\":[[0.0,\"#0d0887\"],[0.1111111111111111,\"#46039f\"],[0.2222222222222222,\"#7201a8\"],[0.3333333333333333,\"#9c179e\"],[0.4444444444444444,\"#bd3786\"],[0.5555555555555556,\"#d8576b\"],[0.6666666666666666,\"#ed7953\"],[0.7777777777777778,\"#fb9f3a\"],[0.8888888888888888,\"#fdca26\"],[1.0,\"#f0f921\"]]}],\"choropleth\":[{\"type\":\"choropleth\",\"colorbar\":{\"outlinewidth\":0,\"ticks\":\"\"}}],\"histogram2d\":[{\"type\":\"histogram2d\",\"colorbar\":{\"outlinewidth\":0,\"ticks\":\"\"},\"colorscale\":[[0.0,\"#0d0887\"],[0.1111111111111111,\"#46039f\"],[0.2222222222222222,\"#7201a8\"],[0.3333333333333333,\"#9c179e\"],[0.4444444444444444,\"#bd3786\"],[0.5555555555555556,\"#d8576b\"],[0.6666666666666666,\"#ed7953\"],[0.7777777777777778,\"#fb9f3a\"],[0.8888888888888888,\"#fdca26\"],[1.0,\"#f0f921\"]]}],\"heatmap\":[{\"type\":\"heatmap\",\"colorbar\":{\"outlinewidth\":0,\"ticks\":\"\"},\"colorscale\":[[0.0,\"#0d0887\"],[0.1111111111111111,\"#46039f\"],[0.2222222222222222,\"#7201a8\"],[0.3333333333333333,\"#9c179e\"],[0.4444444444444444,\"#bd3786\"],[0.5555555555555556,\"#d8576b\"],[0.6666666666666666,\"#ed7953\"],[0.7777777777777778,\"#fb9f3a\"],[0.8888888888888888,\"#fdca26\"],[1.0,\"#f0f921\"]]}],\"heatmapgl\":[{\"type\":\"heatmapgl\",\"colorbar\":{\"outlinewidth\":0,\"ticks\":\"\"},\"colorscale\":[[0.0,\"#0d0887\"],[0.1111111111111111,\"#46039f\"],[0.2222222222222222,\"#7201a8\"],[0.3333333333333333,\"#9c179e\"],[0.4444444444444444,\"#bd3786\"],[0.5555555555555556,\"#d8576b\"],[0.6666666666666666,\"#ed7953\"],[0.7777777777777778,\"#fb9f3a\"],[0.8888888888888888,\"#fdca26\"],[1.0,\"#f0f921\"]]}],\"contourcarpet\":[{\"type\":\"contourcarpet\",\"colorbar\":{\"outlinewidth\":0,\"ticks\":\"\"}}],\"contour\":[{\"type\":\"contour\",\"colorbar\":{\"outlinewidth\":0,\"ticks\":\"\"},\"colorscale\":[[0.0,\"#0d0887\"],[0.1111111111111111,\"#46039f\"],[0.2222222222222222,\"#7201a8\"],[0.3333333333333333,\"#9c179e\"],[0.4444444444444444,\"#bd3786\"],[0.5555555555555556,\"#d8576b\"],[0.6666666666666666,\"#ed7953\"],[0.7777777777777778,\"#fb9f3a\"],[0.8888888888888888,\"#fdca26\"],[1.0,\"#f0f921\"]]}],\"surface\":[{\"type\":\"surface\",\"colorbar\":{\"outlinewidth\":0,\"ticks\":\"\"},\"colorscale\":[[0.0,\"#0d0887\"],[0.1111111111111111,\"#46039f\"],[0.2222222222222222,\"#7201a8\"],[0.3333333333333333,\"#9c179e\"],[0.4444444444444444,\"#bd3786\"],[0.5555555555555556,\"#d8576b\"],[0.6666666666666666,\"#ed7953\"],[0.7777777777777778,\"#fb9f3a\"],[0.8888888888888888,\"#fdca26\"],[1.0,\"#f0f921\"]]}],\"mesh3d\":[{\"type\":\"mesh3d\",\"colorbar\":{\"outlinewidth\":0,\"ticks\":\"\"}}],\"scatter\":[{\"fillpattern\":{\"fillmode\":\"overlay\",\"size\":10,\"solidity\":0.2},\"type\":\"scatter\"}],\"parcoords\":[{\"type\":\"parcoords\",\"line\":{\"colorbar\":{\"outlinewidth\":0,\"ticks\":\"\"}}}],\"scatterpolargl\":[{\"type\":\"scatterpolargl\",\"marker\":{\"colorbar\":{\"outlinewidth\":0,\"ticks\":\"\"}}}],\"bar\":[{\"error_x\":{\"color\":\"#2a3f5f\"},\"error_y\":{\"color\":\"#2a3f5f\"},\"marker\":{\"line\":{\"color\":\"white\",\"width\":0.5},\"pattern\":{\"fillmode\":\"overlay\",\"size\":10,\"solidity\":0.2}},\"type\":\"bar\"}],\"scattergeo\":[{\"type\":\"scattergeo\",\"marker\":{\"colorbar\":{\"outlinewidth\":0,\"ticks\":\"\"}}}],\"scatterpolar\":[{\"type\":\"scatterpolar\",\"marker\":{\"colorbar\":{\"outlinewidth\":0,\"ticks\":\"\"}}}],\"histogram\":[{\"marker\":{\"pattern\":{\"fillmode\":\"overlay\",\"size\":10,\"solidity\":0.2}},\"type\":\"histogram\"}],\"scattergl\":[{\"type\":\"scattergl\",\"marker\":{\"colorbar\":{\"outlinewidth\":0,\"ticks\":\"\"}}}],\"scatter3d\":[{\"type\":\"scatter3d\",\"line\":{\"colorbar\":{\"outlinewidth\":0,\"ticks\":\"\"}},\"marker\":{\"colorbar\":{\"outlinewidth\":0,\"ticks\":\"\"}}}],\"scattermapbox\":[{\"type\":\"scattermapbox\",\"marker\":{\"colorbar\":{\"outlinewidth\":0,\"ticks\":\"\"}}}],\"scatterternary\":[{\"type\":\"scatterternary\",\"marker\":{\"colorbar\":{\"outlinewidth\":0,\"ticks\":\"\"}}}],\"scattercarpet\":[{\"type\":\"scattercarpet\",\"marker\":{\"colorbar\":{\"outlinewidth\":0,\"ticks\":\"\"}}}],\"carpet\":[{\"aaxis\":{\"endlinecolor\":\"#2a3f5f\",\"gridcolor\":\"#C8D4E3\",\"linecolor\":\"#C8D4E3\",\"minorgridcolor\":\"#C8D4E3\",\"startlinecolor\":\"#2a3f5f\"},\"baxis\":{\"endlinecolor\":\"#2a3f5f\",\"gridcolor\":\"#C8D4E3\",\"linecolor\":\"#C8D4E3\",\"minorgridcolor\":\"#C8D4E3\",\"startlinecolor\":\"#2a3f5f\"},\"type\":\"carpet\"}],\"table\":[{\"cells\":{\"fill\":{\"color\":\"#EBF0F8\"},\"line\":{\"color\":\"white\"}},\"header\":{\"fill\":{\"color\":\"#C8D4E3\"},\"line\":{\"color\":\"white\"}},\"type\":\"table\"}],\"barpolar\":[{\"marker\":{\"line\":{\"color\":\"white\",\"width\":0.5},\"pattern\":{\"fillmode\":\"overlay\",\"size\":10,\"solidity\":0.2}},\"type\":\"barpolar\"}],\"pie\":[{\"automargin\":true,\"type\":\"pie\"}]},\"layout\":{\"autotypenumbers\":\"strict\",\"colorway\":[\"#636efa\",\"#EF553B\",\"#00cc96\",\"#ab63fa\",\"#FFA15A\",\"#19d3f3\",\"#FF6692\",\"#B6E880\",\"#FF97FF\",\"#FECB52\"],\"font\":{\"color\":\"#2a3f5f\"},\"hovermode\":\"closest\",\"hoverlabel\":{\"align\":\"left\"},\"paper_bgcolor\":\"white\",\"plot_bgcolor\":\"white\",\"polar\":{\"bgcolor\":\"white\",\"angularaxis\":{\"gridcolor\":\"#EBF0F8\",\"linecolor\":\"#EBF0F8\",\"ticks\":\"\"},\"radialaxis\":{\"gridcolor\":\"#EBF0F8\",\"linecolor\":\"#EBF0F8\",\"ticks\":\"\"}},\"ternary\":{\"bgcolor\":\"white\",\"aaxis\":{\"gridcolor\":\"#DFE8F3\",\"linecolor\":\"#A2B1C6\",\"ticks\":\"\"},\"baxis\":{\"gridcolor\":\"#DFE8F3\",\"linecolor\":\"#A2B1C6\",\"ticks\":\"\"},\"caxis\":{\"gridcolor\":\"#DFE8F3\",\"linecolor\":\"#A2B1C6\",\"ticks\":\"\"}},\"coloraxis\":{\"colorbar\":{\"outlinewidth\":0,\"ticks\":\"\"}},\"colorscale\":{\"sequential\":[[0.0,\"#0d0887\"],[0.1111111111111111,\"#46039f\"],[0.2222222222222222,\"#7201a8\"],[0.3333333333333333,\"#9c179e\"],[0.4444444444444444,\"#bd3786\"],[0.5555555555555556,\"#d8576b\"],[0.6666666666666666,\"#ed7953\"],[0.7777777777777778,\"#fb9f3a\"],[0.8888888888888888,\"#fdca26\"],[1.0,\"#f0f921\"]],\"sequentialminus\":[[0.0,\"#0d0887\"],[0.1111111111111111,\"#46039f\"],[0.2222222222222222,\"#7201a8\"],[0.3333333333333333,\"#9c179e\"],[0.4444444444444444,\"#bd3786\"],[0.5555555555555556,\"#d8576b\"],[0.6666666666666666,\"#ed7953\"],[0.7777777777777778,\"#fb9f3a\"],[0.8888888888888888,\"#fdca26\"],[1.0,\"#f0f921\"]],\"diverging\":[[0,\"#8e0152\"],[0.1,\"#c51b7d\"],[0.2,\"#de77ae\"],[0.3,\"#f1b6da\"],[0.4,\"#fde0ef\"],[0.5,\"#f7f7f7\"],[0.6,\"#e6f5d0\"],[0.7,\"#b8e186\"],[0.8,\"#7fbc41\"],[0.9,\"#4d9221\"],[1,\"#276419\"]]},\"xaxis\":{\"gridcolor\":\"#EBF0F8\",\"linecolor\":\"#EBF0F8\",\"ticks\":\"\",\"title\":{\"standoff\":15},\"zerolinecolor\":\"#EBF0F8\",\"automargin\":true,\"zerolinewidth\":2},\"yaxis\":{\"gridcolor\":\"#EBF0F8\",\"linecolor\":\"#EBF0F8\",\"ticks\":\"\",\"title\":{\"standoff\":15},\"zerolinecolor\":\"#EBF0F8\",\"automargin\":true,\"zerolinewidth\":2},\"scene\":{\"xaxis\":{\"backgroundcolor\":\"white\",\"gridcolor\":\"#DFE8F3\",\"linecolor\":\"#EBF0F8\",\"showbackground\":true,\"ticks\":\"\",\"zerolinecolor\":\"#EBF0F8\",\"gridwidth\":2},\"yaxis\":{\"backgroundcolor\":\"white\",\"gridcolor\":\"#DFE8F3\",\"linecolor\":\"#EBF0F8\",\"showbackground\":true,\"ticks\":\"\",\"zerolinecolor\":\"#EBF0F8\",\"gridwidth\":2},\"zaxis\":{\"backgroundcolor\":\"white\",\"gridcolor\":\"#DFE8F3\",\"linecolor\":\"#EBF0F8\",\"showbackground\":true,\"ticks\":\"\",\"zerolinecolor\":\"#EBF0F8\",\"gridwidth\":2}},\"shapedefaults\":{\"line\":{\"color\":\"#2a3f5f\"}},\"annotationdefaults\":{\"arrowcolor\":\"#2a3f5f\",\"arrowhead\":0,\"arrowwidth\":1},\"geo\":{\"bgcolor\":\"white\",\"landcolor\":\"white\",\"subunitcolor\":\"#C8D4E3\",\"showland\":true,\"showlakes\":true,\"lakecolor\":\"white\"},\"title\":{\"x\":0.05},\"mapbox\":{\"style\":\"light\"}}},\"xaxis\":{\"anchor\":\"y\",\"domain\":[0.0,0.26666666666666666],\"title\":{\"text\":\"FDR Threshold\"}},\"yaxis\":{\"anchor\":\"x\",\"domain\":[0.6499999999999999,0.9999999999999999],\"title\":{\"text\":\"Number of Identifications\"}},\"xaxis2\":{\"anchor\":\"y2\",\"domain\":[0.3666666666666667,0.6333333333333333],\"title\":{\"text\":\"FDR Threshold\"}},\"yaxis2\":{\"anchor\":\"x2\",\"domain\":[0.6499999999999999,0.9999999999999999],\"title\":{\"text\":\"Number of Identifications\"}},\"xaxis3\":{\"anchor\":\"y3\",\"domain\":[0.7333333333333334,1.0],\"title\":{\"text\":\"FDR Threshold\"}},\"yaxis3\":{\"anchor\":\"x3\",\"domain\":[0.6499999999999999,0.9999999999999999],\"title\":{\"text\":\"Number of Identifications\"}},\"xaxis4\":{\"anchor\":\"y4\",\"domain\":[0.0,0.26666666666666666],\"title\":{\"text\":\"FDR Threshold\"}},\"yaxis4\":{\"anchor\":\"x4\",\"domain\":[0.0,0.35],\"title\":{\"text\":\"Number of Identifications\"}},\"xaxis5\":{\"anchor\":\"y5\",\"domain\":[0.3666666666666667,0.6333333333333333],\"title\":{\"text\":\"FDR Threshold\"}},\"yaxis5\":{\"anchor\":\"x5\",\"domain\":[0.0,0.35],\"title\":{\"text\":\"Number of Identifications\"}},\"xaxis6\":{\"anchor\":\"y6\",\"domain\":[0.7333333333333334,1.0],\"title\":{\"text\":\"FDR Threshold\"}},\"yaxis6\":{\"anchor\":\"x6\",\"domain\":[0.0,0.35],\"title\":{\"text\":\"Number of Identifications\"}},\"annotations\":[{\"font\":{\"size\":16},\"showarrow\":false,\"text\":\"Andromeda\\u003cbr\\u003eCTR03 BA46\",\"x\":0.13333333333333333,\"xanchor\":\"center\",\"xref\":\"paper\",\"y\":0.9999999999999999,\"yanchor\":\"bottom\",\"yref\":\"paper\"},{\"font\":{\"size\":16},\"showarrow\":false,\"text\":\"Andromeda\\u003cbr\\u003eCTR08 BA46\",\"x\":0.5,\"xanchor\":\"center\",\"xref\":\"paper\",\"y\":0.9999999999999999,\"yanchor\":\"bottom\",\"yref\":\"paper\"},{\"font\":{\"size\":16},\"showarrow\":false,\"text\":\"Andromeda\\u003cbr\\u003eCTR45 BA46\",\"x\":0.8666666666666667,\"xanchor\":\"center\",\"xref\":\"paper\",\"y\":0.9999999999999999,\"yanchor\":\"bottom\",\"yref\":\"paper\"},{\"font\":{\"size\":16},\"showarrow\":false,\"text\":\"Simple Scoring\\u003cbr\\u003eCTR03 BA46\",\"x\":0.13333333333333333,\"xanchor\":\"center\",\"xref\":\"paper\",\"y\":0.35,\"yanchor\":\"bottom\",\"yref\":\"paper\"},{\"font\":{\"size\":16},\"showarrow\":false,\"text\":\"Simple Scoring\\u003cbr\\u003eCTR08 BA46\",\"x\":0.5,\"xanchor\":\"center\",\"xref\":\"paper\",\"y\":0.35,\"yanchor\":\"bottom\",\"yref\":\"paper\"},{\"font\":{\"size\":16},\"showarrow\":false,\"text\":\"Simple Scoring\\u003cbr\\u003eCTR45 BA46\",\"x\":0.8666666666666667,\"xanchor\":\"center\",\"xref\":\"paper\",\"y\":0.35,\"yanchor\":\"bottom\",\"yref\":\"paper\"}],\"title\":{\"font\":{\"size\":24},\"text\":\"FDR-Calibrated Hit Counts by Experiment and Scoring Function\",\"x\":0.5},\"margin\":{\"t\":150},\"height\":800,\"width\":1200,\"showlegend\":false},                        {\"responsive\": true}                    ).then(function(){\n",
       "                            \n",
       "var gd = document.getElementById('b627873e-d1de-4e38-bd40-352d7217fed0');\n",
       "var x = new MutationObserver(function (mutations, observer) {{\n",
       "        var display = window.getComputedStyle(gd).display;\n",
       "        if (!display || display === 'none') {{\n",
       "            console.log([gd, 'removed!']);\n",
       "            Plotly.purge(gd);\n",
       "            observer.disconnect();\n",
       "        }}\n",
       "}});\n",
       "\n",
       "// Listen for the removal of the full notebook cells\n",
       "var notebookContainer = gd.closest('#notebook-container');\n",
       "if (notebookContainer) {{\n",
       "    x.observe(notebookContainer, {childList: true});\n",
       "}}\n",
       "\n",
       "// Listen for the clearing of the current output cell\n",
       "var outputEl = gd.closest('.output');\n",
       "if (outputEl) {{\n",
       "    x.observe(outputEl, {childList: true});\n",
       "}}\n",
       "\n",
       "                        })                };                });            </script>        </div>"
      ]
     },
     "metadata": {},
     "output_type": "display_data"
    }
   ],
   "execution_count": 29
  },
  {
   "metadata": {
    "ExecuteTime": {
     "end_time": "2025-03-12T13:58:28.783659Z",
     "start_time": "2025-03-12T13:58:28.781845Z"
    }
   },
   "cell_type": "code",
   "source": "",
   "id": "b9f3a8b3b2386b54",
   "outputs": [],
   "execution_count": null
  },
  {
   "metadata": {
    "ExecuteTime": {
     "end_time": "2025-03-12T13:58:28.788722Z",
     "start_time": "2025-03-12T13:58:28.787165Z"
    }
   },
   "cell_type": "code",
   "source": "",
   "id": "9caf248100c3b37e",
   "outputs": [],
   "execution_count": null
  }
 ],
 "metadata": {
  "kernelspec": {
   "display_name": "Python 3",
   "language": "python",
   "name": "python3"
  },
  "language_info": {
   "codemirror_mode": {
    "name": "ipython",
    "version": 2
   },
   "file_extension": ".py",
   "mimetype": "text/x-python",
   "name": "python",
   "nbconvert_exporter": "python",
   "pygments_lexer": "ipython2",
   "version": "2.7.6"
  }
 },
 "nbformat": 4,
 "nbformat_minor": 5
}
