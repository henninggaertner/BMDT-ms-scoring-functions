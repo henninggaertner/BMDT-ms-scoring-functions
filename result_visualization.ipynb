{
 "cells": [
  {
   "cell_type": "code",
   "id": "initial_id",
   "metadata": {
    "collapsed": true
   },
   "source": [
    "import pandas as pd\n",
    "import numpy as np\n",
    "import plotly.express as plt\n",
    "import seaborn as sns"
   ],
   "outputs": [],
   "execution_count": null
  },
  {
   "metadata": {},
   "cell_type": "code",
   "source": [
    "matched_spectra_df = pd.read_csv(\"results/matched_spectra_df.csv\")\n",
    "matched_spectra_df['scoring_function'] = matched_spectra_df['scoring_function'].replace('optimize_q_wrapper', 'Andromeda')\n",
    "matched_spectra_df['scoring_function'] = matched_spectra_df['scoring_function'].replace('simple_scoring_function', 'Simple Scoring')\n",
    "matched_spectra_df['experiment_name'] = matched_spectra_df['experiment_name'].str.replace('new_', '')\n",
    "matched_spectra_df.head()\n"
   ],
   "id": "175dbb81470dd86c",
   "outputs": [],
   "execution_count": null
  },
  {
   "metadata": {},
   "cell_type": "markdown",
   "source": "# FDR calculation",
   "id": "b0e92f51d9f19445"
  },
  {
   "metadata": {},
   "cell_type": "code",
   "source": [
    "from utils import calculate_fdr\n",
    "fdr_df = calculate_fdr(matched_spectra_df)\n",
    "fdr_df.head()"
   ],
   "id": "87e133f190904319",
   "outputs": [],
   "execution_count": null
  },
  {
   "metadata": {},
   "cell_type": "markdown",
   "source": "# Pie chart for target database showing dropped identifications for FDR < 0.01",
   "id": "5b90f2dfe037f45a"
  },
  {
   "metadata": {
    "ExecuteTime": {
     "end_time": "2025-03-11T15:26:58.951553Z",
     "start_time": "2025-03-11T15:26:57.915454Z"
    }
   },
   "cell_type": "code",
   "source": [
    "# across all three experiments: two pie charts comparing the simple scoring with andromeda\n",
    "# only consider the target database and use plotly\n",
    "\n",
    "import pandas as pd\n",
    "import numpy as np\n",
    "import plotly.express as px\n",
    "import plotly.graph_objects as go\n",
    "from plotly.subplots import make_subplots\n",
    "\n",
    "# Assuming fdr_df is already loaded\n",
    "# If not, uncomment the following line and provide the correct path\n",
    "# fdr_df = pd.read_csv(\"results/fdr_results.csv\")\n",
    "\n",
    "# 1. Filter for target identifications only\n",
    "target_df = fdr_df[fdr_df['is_target'] == True].copy()\n",
    "\n",
    "# 2. Create a new column for FDR threshold\n",
    "target_df['passes_fdr'] = target_df['fdr'] <= 0.01\n",
    "\n",
    "# 3. Get unique scoring functions and experiments\n",
    "scoring_functions = target_df['scoring_function'].unique()\n",
    "experiments = target_df['experiment_name'].unique()\n",
    "\n",
    "# =====================================================\n",
    "# First set of charts: Overall comparison by scoring function\n",
    "# =====================================================\n",
    "\n",
    "# Create a figure with subplots\n",
    "fig1 = make_subplots(rows=1, cols=len(scoring_functions),\n",
    "                    specs=[[{'type':'domain'} for _ in scoring_functions]],\n",
    "                    subplot_titles=[f\"Scoring Function: {func}\" for func in scoring_functions])\n",
    "\n",
    "# Add a pie chart for each scoring function\n",
    "for i, func in enumerate(scoring_functions):\n",
    "    func_data = target_df[target_df['scoring_function'] == func]\n",
    "\n",
    "    # Count passes vs. fails\n",
    "    counts = func_data['passes_fdr'].value_counts()\n",
    "    labels = [\"FDR <= 0.01\", \"FDR > 0.01\"]\n",
    "\n",
    "    # Handle case where all pass or all fail\n",
    "    if len(counts) < 2:\n",
    "        if True in counts:\n",
    "            values = [counts[True], 0]\n",
    "        else:\n",
    "            values = [0, counts[False]]\n",
    "    else:\n",
    "        values = [counts[True], counts[False]]\n",
    "\n",
    "    fig1.add_trace(\n",
    "        go.Pie(labels=labels, values=values, name=func),\n",
    "        row=1, col=i+1\n",
    "    )\n",
    "\n",
    "    # Customize pie chart appearance\n",
    "    fig1.update_traces(\n",
    "        hoverinfo='label+percent+value',\n",
    "        textinfo='value+percent',\n",
    "        textfont_size=14,\n",
    "        marker=dict(colors=['#2ca02c', '#d62728'], line=dict(color='#000000', width=2)),\n",
    "        row=1, col=i+1\n",
    "    )\n",
    "\n",
    "# Update layout with more space for titles\n",
    "fig1.update_layout(\n",
    "    title_text=\"Peptide Identifications by Scoring Function (Target Database, FDR <= 0.01)\",\n",
    "    height=500,\n",
    "    width=800 * len(scoring_functions) // 2,\n",
    "    legend=dict(\n",
    "        orientation=\"h\",\n",
    "        yanchor=\"bottom\",\n",
    "        y=-0.1,\n",
    "        xanchor=\"center\",\n",
    "        x=0.5\n",
    "    ),\n",
    "    margin=dict(t=120)  # Add top margin\n",
    ")\n",
    "\n",
    "# Adjust annotations (subplot titles) to be higher above the pies\n",
    "for annotation in fig1.layout.annotations:\n",
    "    annotation.y = annotation.y + 0.1  # Move title up\n",
    "\n",
    "\n",
    "# Display the figures\n",
    "fig1.show()\n",
    "\n",
    "fig1.write_image(\"results/target_database_fdr_pie_charts_total.png\")\n"
   ],
   "id": "6d2d446b44ab554f",
   "outputs": [
    {
     "data": {
      "application/vnd.plotly.v1+json": {
       "data": [
        {
         "labels": [
          "FDR <= 0.01",
          "FDR > 0.01"
         ],
         "name": "Andromeda",
         "values": [
          16956,
          116903
         ],
         "type": "pie",
         "domain": {
          "x": [
           0.0,
           0.45
          ],
          "y": [
           0.0,
           1.0
          ]
         },
         "textfont": {
          "size": 14
         },
         "marker": {
          "line": {
           "color": "#000000",
           "width": 2
          },
          "colors": [
           "#2ca02c",
           "#d62728"
          ]
         },
         "hoverinfo": "label+percent+value",
         "textinfo": "value+percent"
        },
        {
         "labels": [
          "FDR <= 0.01",
          "FDR > 0.01"
         ],
         "name": "Simple Scoring",
         "values": [
          1,
          47210
         ],
         "type": "pie",
         "domain": {
          "x": [
           0.55,
           1.0
          ],
          "y": [
           0.0,
           1.0
          ]
         },
         "textfont": {
          "size": 14
         },
         "marker": {
          "line": {
           "color": "#000000",
           "width": 2
          },
          "colors": [
           "#2ca02c",
           "#d62728"
          ]
         },
         "hoverinfo": "label+percent+value",
         "textinfo": "value+percent"
        }
       ],
       "layout": {
        "template": {
         "data": {
          "histogram2dcontour": [
           {
            "type": "histogram2dcontour",
            "colorbar": {
             "outlinewidth": 0,
             "ticks": ""
            },
            "colorscale": [
             [
              0.0,
              "#0d0887"
             ],
             [
              0.1111111111111111,
              "#46039f"
             ],
             [
              0.2222222222222222,
              "#7201a8"
             ],
             [
              0.3333333333333333,
              "#9c179e"
             ],
             [
              0.4444444444444444,
              "#bd3786"
             ],
             [
              0.5555555555555556,
              "#d8576b"
             ],
             [
              0.6666666666666666,
              "#ed7953"
             ],
             [
              0.7777777777777778,
              "#fb9f3a"
             ],
             [
              0.8888888888888888,
              "#fdca26"
             ],
             [
              1.0,
              "#f0f921"
             ]
            ]
           }
          ],
          "choropleth": [
           {
            "type": "choropleth",
            "colorbar": {
             "outlinewidth": 0,
             "ticks": ""
            }
           }
          ],
          "histogram2d": [
           {
            "type": "histogram2d",
            "colorbar": {
             "outlinewidth": 0,
             "ticks": ""
            },
            "colorscale": [
             [
              0.0,
              "#0d0887"
             ],
             [
              0.1111111111111111,
              "#46039f"
             ],
             [
              0.2222222222222222,
              "#7201a8"
             ],
             [
              0.3333333333333333,
              "#9c179e"
             ],
             [
              0.4444444444444444,
              "#bd3786"
             ],
             [
              0.5555555555555556,
              "#d8576b"
             ],
             [
              0.6666666666666666,
              "#ed7953"
             ],
             [
              0.7777777777777778,
              "#fb9f3a"
             ],
             [
              0.8888888888888888,
              "#fdca26"
             ],
             [
              1.0,
              "#f0f921"
             ]
            ]
           }
          ],
          "heatmap": [
           {
            "type": "heatmap",
            "colorbar": {
             "outlinewidth": 0,
             "ticks": ""
            },
            "colorscale": [
             [
              0.0,
              "#0d0887"
             ],
             [
              0.1111111111111111,
              "#46039f"
             ],
             [
              0.2222222222222222,
              "#7201a8"
             ],
             [
              0.3333333333333333,
              "#9c179e"
             ],
             [
              0.4444444444444444,
              "#bd3786"
             ],
             [
              0.5555555555555556,
              "#d8576b"
             ],
             [
              0.6666666666666666,
              "#ed7953"
             ],
             [
              0.7777777777777778,
              "#fb9f3a"
             ],
             [
              0.8888888888888888,
              "#fdca26"
             ],
             [
              1.0,
              "#f0f921"
             ]
            ]
           }
          ],
          "heatmapgl": [
           {
            "type": "heatmapgl",
            "colorbar": {
             "outlinewidth": 0,
             "ticks": ""
            },
            "colorscale": [
             [
              0.0,
              "#0d0887"
             ],
             [
              0.1111111111111111,
              "#46039f"
             ],
             [
              0.2222222222222222,
              "#7201a8"
             ],
             [
              0.3333333333333333,
              "#9c179e"
             ],
             [
              0.4444444444444444,
              "#bd3786"
             ],
             [
              0.5555555555555556,
              "#d8576b"
             ],
             [
              0.6666666666666666,
              "#ed7953"
             ],
             [
              0.7777777777777778,
              "#fb9f3a"
             ],
             [
              0.8888888888888888,
              "#fdca26"
             ],
             [
              1.0,
              "#f0f921"
             ]
            ]
           }
          ],
          "contourcarpet": [
           {
            "type": "contourcarpet",
            "colorbar": {
             "outlinewidth": 0,
             "ticks": ""
            }
           }
          ],
          "contour": [
           {
            "type": "contour",
            "colorbar": {
             "outlinewidth": 0,
             "ticks": ""
            },
            "colorscale": [
             [
              0.0,
              "#0d0887"
             ],
             [
              0.1111111111111111,
              "#46039f"
             ],
             [
              0.2222222222222222,
              "#7201a8"
             ],
             [
              0.3333333333333333,
              "#9c179e"
             ],
             [
              0.4444444444444444,
              "#bd3786"
             ],
             [
              0.5555555555555556,
              "#d8576b"
             ],
             [
              0.6666666666666666,
              "#ed7953"
             ],
             [
              0.7777777777777778,
              "#fb9f3a"
             ],
             [
              0.8888888888888888,
              "#fdca26"
             ],
             [
              1.0,
              "#f0f921"
             ]
            ]
           }
          ],
          "surface": [
           {
            "type": "surface",
            "colorbar": {
             "outlinewidth": 0,
             "ticks": ""
            },
            "colorscale": [
             [
              0.0,
              "#0d0887"
             ],
             [
              0.1111111111111111,
              "#46039f"
             ],
             [
              0.2222222222222222,
              "#7201a8"
             ],
             [
              0.3333333333333333,
              "#9c179e"
             ],
             [
              0.4444444444444444,
              "#bd3786"
             ],
             [
              0.5555555555555556,
              "#d8576b"
             ],
             [
              0.6666666666666666,
              "#ed7953"
             ],
             [
              0.7777777777777778,
              "#fb9f3a"
             ],
             [
              0.8888888888888888,
              "#fdca26"
             ],
             [
              1.0,
              "#f0f921"
             ]
            ]
           }
          ],
          "mesh3d": [
           {
            "type": "mesh3d",
            "colorbar": {
             "outlinewidth": 0,
             "ticks": ""
            }
           }
          ],
          "scatter": [
           {
            "marker": {
             "line": {
              "color": "#283442"
             }
            },
            "type": "scatter"
           }
          ],
          "parcoords": [
           {
            "type": "parcoords",
            "line": {
             "colorbar": {
              "outlinewidth": 0,
              "ticks": ""
             }
            }
           }
          ],
          "scatterpolargl": [
           {
            "type": "scatterpolargl",
            "marker": {
             "colorbar": {
              "outlinewidth": 0,
              "ticks": ""
             }
            }
           }
          ],
          "bar": [
           {
            "error_x": {
             "color": "#f2f5fa"
            },
            "error_y": {
             "color": "#f2f5fa"
            },
            "marker": {
             "line": {
              "color": "rgb(17,17,17)",
              "width": 0.5
             },
             "pattern": {
              "fillmode": "overlay",
              "size": 10,
              "solidity": 0.2
             }
            },
            "type": "bar"
           }
          ],
          "scattergeo": [
           {
            "type": "scattergeo",
            "marker": {
             "colorbar": {
              "outlinewidth": 0,
              "ticks": ""
             }
            }
           }
          ],
          "scatterpolar": [
           {
            "type": "scatterpolar",
            "marker": {
             "colorbar": {
              "outlinewidth": 0,
              "ticks": ""
             }
            }
           }
          ],
          "histogram": [
           {
            "marker": {
             "pattern": {
              "fillmode": "overlay",
              "size": 10,
              "solidity": 0.2
             }
            },
            "type": "histogram"
           }
          ],
          "scattergl": [
           {
            "marker": {
             "line": {
              "color": "#283442"
             }
            },
            "type": "scattergl"
           }
          ],
          "scatter3d": [
           {
            "type": "scatter3d",
            "line": {
             "colorbar": {
              "outlinewidth": 0,
              "ticks": ""
             }
            },
            "marker": {
             "colorbar": {
              "outlinewidth": 0,
              "ticks": ""
             }
            }
           }
          ],
          "scattermapbox": [
           {
            "type": "scattermapbox",
            "marker": {
             "colorbar": {
              "outlinewidth": 0,
              "ticks": ""
             }
            }
           }
          ],
          "scatterternary": [
           {
            "type": "scatterternary",
            "marker": {
             "colorbar": {
              "outlinewidth": 0,
              "ticks": ""
             }
            }
           }
          ],
          "scattercarpet": [
           {
            "type": "scattercarpet",
            "marker": {
             "colorbar": {
              "outlinewidth": 0,
              "ticks": ""
             }
            }
           }
          ],
          "carpet": [
           {
            "aaxis": {
             "endlinecolor": "#A2B1C6",
             "gridcolor": "#506784",
             "linecolor": "#506784",
             "minorgridcolor": "#506784",
             "startlinecolor": "#A2B1C6"
            },
            "baxis": {
             "endlinecolor": "#A2B1C6",
             "gridcolor": "#506784",
             "linecolor": "#506784",
             "minorgridcolor": "#506784",
             "startlinecolor": "#A2B1C6"
            },
            "type": "carpet"
           }
          ],
          "table": [
           {
            "cells": {
             "fill": {
              "color": "#506784"
             },
             "line": {
              "color": "rgb(17,17,17)"
             }
            },
            "header": {
             "fill": {
              "color": "#2a3f5f"
             },
             "line": {
              "color": "rgb(17,17,17)"
             }
            },
            "type": "table"
           }
          ],
          "barpolar": [
           {
            "marker": {
             "line": {
              "color": "rgb(17,17,17)",
              "width": 0.5
             },
             "pattern": {
              "fillmode": "overlay",
              "size": 10,
              "solidity": 0.2
             }
            },
            "type": "barpolar"
           }
          ],
          "pie": [
           {
            "automargin": true,
            "type": "pie"
           }
          ]
         },
         "layout": {
          "autotypenumbers": "strict",
          "colorway": [
           "#636efa",
           "#EF553B",
           "#00cc96",
           "#ab63fa",
           "#FFA15A",
           "#19d3f3",
           "#FF6692",
           "#B6E880",
           "#FF97FF",
           "#FECB52"
          ],
          "font": {
           "color": "#f2f5fa"
          },
          "hovermode": "closest",
          "hoverlabel": {
           "align": "left"
          },
          "paper_bgcolor": "rgb(17,17,17)",
          "plot_bgcolor": "rgb(17,17,17)",
          "polar": {
           "bgcolor": "rgb(17,17,17)",
           "angularaxis": {
            "gridcolor": "#506784",
            "linecolor": "#506784",
            "ticks": ""
           },
           "radialaxis": {
            "gridcolor": "#506784",
            "linecolor": "#506784",
            "ticks": ""
           }
          },
          "ternary": {
           "bgcolor": "rgb(17,17,17)",
           "aaxis": {
            "gridcolor": "#506784",
            "linecolor": "#506784",
            "ticks": ""
           },
           "baxis": {
            "gridcolor": "#506784",
            "linecolor": "#506784",
            "ticks": ""
           },
           "caxis": {
            "gridcolor": "#506784",
            "linecolor": "#506784",
            "ticks": ""
           }
          },
          "coloraxis": {
           "colorbar": {
            "outlinewidth": 0,
            "ticks": ""
           }
          },
          "colorscale": {
           "sequential": [
            [
             0.0,
             "#0d0887"
            ],
            [
             0.1111111111111111,
             "#46039f"
            ],
            [
             0.2222222222222222,
             "#7201a8"
            ],
            [
             0.3333333333333333,
             "#9c179e"
            ],
            [
             0.4444444444444444,
             "#bd3786"
            ],
            [
             0.5555555555555556,
             "#d8576b"
            ],
            [
             0.6666666666666666,
             "#ed7953"
            ],
            [
             0.7777777777777778,
             "#fb9f3a"
            ],
            [
             0.8888888888888888,
             "#fdca26"
            ],
            [
             1.0,
             "#f0f921"
            ]
           ],
           "sequentialminus": [
            [
             0.0,
             "#0d0887"
            ],
            [
             0.1111111111111111,
             "#46039f"
            ],
            [
             0.2222222222222222,
             "#7201a8"
            ],
            [
             0.3333333333333333,
             "#9c179e"
            ],
            [
             0.4444444444444444,
             "#bd3786"
            ],
            [
             0.5555555555555556,
             "#d8576b"
            ],
            [
             0.6666666666666666,
             "#ed7953"
            ],
            [
             0.7777777777777778,
             "#fb9f3a"
            ],
            [
             0.8888888888888888,
             "#fdca26"
            ],
            [
             1.0,
             "#f0f921"
            ]
           ],
           "diverging": [
            [
             0,
             "#8e0152"
            ],
            [
             0.1,
             "#c51b7d"
            ],
            [
             0.2,
             "#de77ae"
            ],
            [
             0.3,
             "#f1b6da"
            ],
            [
             0.4,
             "#fde0ef"
            ],
            [
             0.5,
             "#f7f7f7"
            ],
            [
             0.6,
             "#e6f5d0"
            ],
            [
             0.7,
             "#b8e186"
            ],
            [
             0.8,
             "#7fbc41"
            ],
            [
             0.9,
             "#4d9221"
            ],
            [
             1,
             "#276419"
            ]
           ]
          },
          "xaxis": {
           "gridcolor": "#283442",
           "linecolor": "#506784",
           "ticks": "",
           "title": {
            "standoff": 15
           },
           "zerolinecolor": "#283442",
           "automargin": true,
           "zerolinewidth": 2
          },
          "yaxis": {
           "gridcolor": "#283442",
           "linecolor": "#506784",
           "ticks": "",
           "title": {
            "standoff": 15
           },
           "zerolinecolor": "#283442",
           "automargin": true,
           "zerolinewidth": 2
          },
          "scene": {
           "xaxis": {
            "backgroundcolor": "rgb(17,17,17)",
            "gridcolor": "#506784",
            "linecolor": "#506784",
            "showbackground": true,
            "ticks": "",
            "zerolinecolor": "#C8D4E3",
            "gridwidth": 2
           },
           "yaxis": {
            "backgroundcolor": "rgb(17,17,17)",
            "gridcolor": "#506784",
            "linecolor": "#506784",
            "showbackground": true,
            "ticks": "",
            "zerolinecolor": "#C8D4E3",
            "gridwidth": 2
           },
           "zaxis": {
            "backgroundcolor": "rgb(17,17,17)",
            "gridcolor": "#506784",
            "linecolor": "#506784",
            "showbackground": true,
            "ticks": "",
            "zerolinecolor": "#C8D4E3",
            "gridwidth": 2
           }
          },
          "shapedefaults": {
           "line": {
            "color": "#f2f5fa"
           }
          },
          "annotationdefaults": {
           "arrowcolor": "#f2f5fa",
           "arrowhead": 0,
           "arrowwidth": 1
          },
          "geo": {
           "bgcolor": "rgb(17,17,17)",
           "landcolor": "rgb(17,17,17)",
           "subunitcolor": "#506784",
           "showland": true,
           "showlakes": true,
           "lakecolor": "rgb(17,17,17)"
          },
          "title": {
           "x": 0.05
          },
          "updatemenudefaults": {
           "bgcolor": "#506784",
           "borderwidth": 0
          },
          "sliderdefaults": {
           "bgcolor": "#C8D4E3",
           "borderwidth": 1,
           "bordercolor": "rgb(17,17,17)",
           "tickwidth": 0
          },
          "mapbox": {
           "style": "dark"
          }
         }
        },
        "annotations": [
         {
          "font": {
           "size": 16
          },
          "showarrow": false,
          "text": "Scoring Function: Andromeda",
          "x": 0.225,
          "xanchor": "center",
          "xref": "paper",
          "y": 1.1,
          "yanchor": "bottom",
          "yref": "paper"
         },
         {
          "font": {
           "size": 16
          },
          "showarrow": false,
          "text": "Scoring Function: Simple Scoring",
          "x": 0.775,
          "xanchor": "center",
          "xref": "paper",
          "y": 1.1,
          "yanchor": "bottom",
          "yref": "paper"
         }
        ],
        "title": {
         "text": "Peptide Identifications by Scoring Function (Target Database, FDR <= 0.01)"
        },
        "legend": {
         "orientation": "h",
         "yanchor": "bottom",
         "y": -0.1,
         "xanchor": "center",
         "x": 0.5
        },
        "margin": {
         "t": 120
        },
        "height": 500,
        "width": 800
       },
       "config": {
        "plotlyServerURL": "https://plot.ly"
       }
      },
      "text/html": [
       "<div>                            <div id=\"50b41878-a54e-4da0-b303-de6616cdc476\" class=\"plotly-graph-div\" style=\"height:500px; width:800px;\"></div>            <script type=\"text/javascript\">                require([\"plotly\"], function(Plotly) {                    window.PLOTLYENV=window.PLOTLYENV || {};                                    if (document.getElementById(\"50b41878-a54e-4da0-b303-de6616cdc476\")) {                    Plotly.newPlot(                        \"50b41878-a54e-4da0-b303-de6616cdc476\",                        [{\"labels\":[\"FDR \\u003c= 0.01\",\"FDR \\u003e 0.01\"],\"name\":\"Andromeda\",\"values\":[16956,116903],\"type\":\"pie\",\"domain\":{\"x\":[0.0,0.45],\"y\":[0.0,1.0]},\"textfont\":{\"size\":14},\"marker\":{\"line\":{\"color\":\"#000000\",\"width\":2},\"colors\":[\"#2ca02c\",\"#d62728\"]},\"hoverinfo\":\"label+percent+value\",\"textinfo\":\"value+percent\"},{\"labels\":[\"FDR \\u003c= 0.01\",\"FDR \\u003e 0.01\"],\"name\":\"Simple Scoring\",\"values\":[1,47210],\"type\":\"pie\",\"domain\":{\"x\":[0.55,1.0],\"y\":[0.0,1.0]},\"textfont\":{\"size\":14},\"marker\":{\"line\":{\"color\":\"#000000\",\"width\":2},\"colors\":[\"#2ca02c\",\"#d62728\"]},\"hoverinfo\":\"label+percent+value\",\"textinfo\":\"value+percent\"}],                        {\"template\":{\"data\":{\"histogram2dcontour\":[{\"type\":\"histogram2dcontour\",\"colorbar\":{\"outlinewidth\":0,\"ticks\":\"\"},\"colorscale\":[[0.0,\"#0d0887\"],[0.1111111111111111,\"#46039f\"],[0.2222222222222222,\"#7201a8\"],[0.3333333333333333,\"#9c179e\"],[0.4444444444444444,\"#bd3786\"],[0.5555555555555556,\"#d8576b\"],[0.6666666666666666,\"#ed7953\"],[0.7777777777777778,\"#fb9f3a\"],[0.8888888888888888,\"#fdca26\"],[1.0,\"#f0f921\"]]}],\"choropleth\":[{\"type\":\"choropleth\",\"colorbar\":{\"outlinewidth\":0,\"ticks\":\"\"}}],\"histogram2d\":[{\"type\":\"histogram2d\",\"colorbar\":{\"outlinewidth\":0,\"ticks\":\"\"},\"colorscale\":[[0.0,\"#0d0887\"],[0.1111111111111111,\"#46039f\"],[0.2222222222222222,\"#7201a8\"],[0.3333333333333333,\"#9c179e\"],[0.4444444444444444,\"#bd3786\"],[0.5555555555555556,\"#d8576b\"],[0.6666666666666666,\"#ed7953\"],[0.7777777777777778,\"#fb9f3a\"],[0.8888888888888888,\"#fdca26\"],[1.0,\"#f0f921\"]]}],\"heatmap\":[{\"type\":\"heatmap\",\"colorbar\":{\"outlinewidth\":0,\"ticks\":\"\"},\"colorscale\":[[0.0,\"#0d0887\"],[0.1111111111111111,\"#46039f\"],[0.2222222222222222,\"#7201a8\"],[0.3333333333333333,\"#9c179e\"],[0.4444444444444444,\"#bd3786\"],[0.5555555555555556,\"#d8576b\"],[0.6666666666666666,\"#ed7953\"],[0.7777777777777778,\"#fb9f3a\"],[0.8888888888888888,\"#fdca26\"],[1.0,\"#f0f921\"]]}],\"heatmapgl\":[{\"type\":\"heatmapgl\",\"colorbar\":{\"outlinewidth\":0,\"ticks\":\"\"},\"colorscale\":[[0.0,\"#0d0887\"],[0.1111111111111111,\"#46039f\"],[0.2222222222222222,\"#7201a8\"],[0.3333333333333333,\"#9c179e\"],[0.4444444444444444,\"#bd3786\"],[0.5555555555555556,\"#d8576b\"],[0.6666666666666666,\"#ed7953\"],[0.7777777777777778,\"#fb9f3a\"],[0.8888888888888888,\"#fdca26\"],[1.0,\"#f0f921\"]]}],\"contourcarpet\":[{\"type\":\"contourcarpet\",\"colorbar\":{\"outlinewidth\":0,\"ticks\":\"\"}}],\"contour\":[{\"type\":\"contour\",\"colorbar\":{\"outlinewidth\":0,\"ticks\":\"\"},\"colorscale\":[[0.0,\"#0d0887\"],[0.1111111111111111,\"#46039f\"],[0.2222222222222222,\"#7201a8\"],[0.3333333333333333,\"#9c179e\"],[0.4444444444444444,\"#bd3786\"],[0.5555555555555556,\"#d8576b\"],[0.6666666666666666,\"#ed7953\"],[0.7777777777777778,\"#fb9f3a\"],[0.8888888888888888,\"#fdca26\"],[1.0,\"#f0f921\"]]}],\"surface\":[{\"type\":\"surface\",\"colorbar\":{\"outlinewidth\":0,\"ticks\":\"\"},\"colorscale\":[[0.0,\"#0d0887\"],[0.1111111111111111,\"#46039f\"],[0.2222222222222222,\"#7201a8\"],[0.3333333333333333,\"#9c179e\"],[0.4444444444444444,\"#bd3786\"],[0.5555555555555556,\"#d8576b\"],[0.6666666666666666,\"#ed7953\"],[0.7777777777777778,\"#fb9f3a\"],[0.8888888888888888,\"#fdca26\"],[1.0,\"#f0f921\"]]}],\"mesh3d\":[{\"type\":\"mesh3d\",\"colorbar\":{\"outlinewidth\":0,\"ticks\":\"\"}}],\"scatter\":[{\"marker\":{\"line\":{\"color\":\"#283442\"}},\"type\":\"scatter\"}],\"parcoords\":[{\"type\":\"parcoords\",\"line\":{\"colorbar\":{\"outlinewidth\":0,\"ticks\":\"\"}}}],\"scatterpolargl\":[{\"type\":\"scatterpolargl\",\"marker\":{\"colorbar\":{\"outlinewidth\":0,\"ticks\":\"\"}}}],\"bar\":[{\"error_x\":{\"color\":\"#f2f5fa\"},\"error_y\":{\"color\":\"#f2f5fa\"},\"marker\":{\"line\":{\"color\":\"rgb(17,17,17)\",\"width\":0.5},\"pattern\":{\"fillmode\":\"overlay\",\"size\":10,\"solidity\":0.2}},\"type\":\"bar\"}],\"scattergeo\":[{\"type\":\"scattergeo\",\"marker\":{\"colorbar\":{\"outlinewidth\":0,\"ticks\":\"\"}}}],\"scatterpolar\":[{\"type\":\"scatterpolar\",\"marker\":{\"colorbar\":{\"outlinewidth\":0,\"ticks\":\"\"}}}],\"histogram\":[{\"marker\":{\"pattern\":{\"fillmode\":\"overlay\",\"size\":10,\"solidity\":0.2}},\"type\":\"histogram\"}],\"scattergl\":[{\"marker\":{\"line\":{\"color\":\"#283442\"}},\"type\":\"scattergl\"}],\"scatter3d\":[{\"type\":\"scatter3d\",\"line\":{\"colorbar\":{\"outlinewidth\":0,\"ticks\":\"\"}},\"marker\":{\"colorbar\":{\"outlinewidth\":0,\"ticks\":\"\"}}}],\"scattermapbox\":[{\"type\":\"scattermapbox\",\"marker\":{\"colorbar\":{\"outlinewidth\":0,\"ticks\":\"\"}}}],\"scatterternary\":[{\"type\":\"scatterternary\",\"marker\":{\"colorbar\":{\"outlinewidth\":0,\"ticks\":\"\"}}}],\"scattercarpet\":[{\"type\":\"scattercarpet\",\"marker\":{\"colorbar\":{\"outlinewidth\":0,\"ticks\":\"\"}}}],\"carpet\":[{\"aaxis\":{\"endlinecolor\":\"#A2B1C6\",\"gridcolor\":\"#506784\",\"linecolor\":\"#506784\",\"minorgridcolor\":\"#506784\",\"startlinecolor\":\"#A2B1C6\"},\"baxis\":{\"endlinecolor\":\"#A2B1C6\",\"gridcolor\":\"#506784\",\"linecolor\":\"#506784\",\"minorgridcolor\":\"#506784\",\"startlinecolor\":\"#A2B1C6\"},\"type\":\"carpet\"}],\"table\":[{\"cells\":{\"fill\":{\"color\":\"#506784\"},\"line\":{\"color\":\"rgb(17,17,17)\"}},\"header\":{\"fill\":{\"color\":\"#2a3f5f\"},\"line\":{\"color\":\"rgb(17,17,17)\"}},\"type\":\"table\"}],\"barpolar\":[{\"marker\":{\"line\":{\"color\":\"rgb(17,17,17)\",\"width\":0.5},\"pattern\":{\"fillmode\":\"overlay\",\"size\":10,\"solidity\":0.2}},\"type\":\"barpolar\"}],\"pie\":[{\"automargin\":true,\"type\":\"pie\"}]},\"layout\":{\"autotypenumbers\":\"strict\",\"colorway\":[\"#636efa\",\"#EF553B\",\"#00cc96\",\"#ab63fa\",\"#FFA15A\",\"#19d3f3\",\"#FF6692\",\"#B6E880\",\"#FF97FF\",\"#FECB52\"],\"font\":{\"color\":\"#f2f5fa\"},\"hovermode\":\"closest\",\"hoverlabel\":{\"align\":\"left\"},\"paper_bgcolor\":\"rgb(17,17,17)\",\"plot_bgcolor\":\"rgb(17,17,17)\",\"polar\":{\"bgcolor\":\"rgb(17,17,17)\",\"angularaxis\":{\"gridcolor\":\"#506784\",\"linecolor\":\"#506784\",\"ticks\":\"\"},\"radialaxis\":{\"gridcolor\":\"#506784\",\"linecolor\":\"#506784\",\"ticks\":\"\"}},\"ternary\":{\"bgcolor\":\"rgb(17,17,17)\",\"aaxis\":{\"gridcolor\":\"#506784\",\"linecolor\":\"#506784\",\"ticks\":\"\"},\"baxis\":{\"gridcolor\":\"#506784\",\"linecolor\":\"#506784\",\"ticks\":\"\"},\"caxis\":{\"gridcolor\":\"#506784\",\"linecolor\":\"#506784\",\"ticks\":\"\"}},\"coloraxis\":{\"colorbar\":{\"outlinewidth\":0,\"ticks\":\"\"}},\"colorscale\":{\"sequential\":[[0.0,\"#0d0887\"],[0.1111111111111111,\"#46039f\"],[0.2222222222222222,\"#7201a8\"],[0.3333333333333333,\"#9c179e\"],[0.4444444444444444,\"#bd3786\"],[0.5555555555555556,\"#d8576b\"],[0.6666666666666666,\"#ed7953\"],[0.7777777777777778,\"#fb9f3a\"],[0.8888888888888888,\"#fdca26\"],[1.0,\"#f0f921\"]],\"sequentialminus\":[[0.0,\"#0d0887\"],[0.1111111111111111,\"#46039f\"],[0.2222222222222222,\"#7201a8\"],[0.3333333333333333,\"#9c179e\"],[0.4444444444444444,\"#bd3786\"],[0.5555555555555556,\"#d8576b\"],[0.6666666666666666,\"#ed7953\"],[0.7777777777777778,\"#fb9f3a\"],[0.8888888888888888,\"#fdca26\"],[1.0,\"#f0f921\"]],\"diverging\":[[0,\"#8e0152\"],[0.1,\"#c51b7d\"],[0.2,\"#de77ae\"],[0.3,\"#f1b6da\"],[0.4,\"#fde0ef\"],[0.5,\"#f7f7f7\"],[0.6,\"#e6f5d0\"],[0.7,\"#b8e186\"],[0.8,\"#7fbc41\"],[0.9,\"#4d9221\"],[1,\"#276419\"]]},\"xaxis\":{\"gridcolor\":\"#283442\",\"linecolor\":\"#506784\",\"ticks\":\"\",\"title\":{\"standoff\":15},\"zerolinecolor\":\"#283442\",\"automargin\":true,\"zerolinewidth\":2},\"yaxis\":{\"gridcolor\":\"#283442\",\"linecolor\":\"#506784\",\"ticks\":\"\",\"title\":{\"standoff\":15},\"zerolinecolor\":\"#283442\",\"automargin\":true,\"zerolinewidth\":2},\"scene\":{\"xaxis\":{\"backgroundcolor\":\"rgb(17,17,17)\",\"gridcolor\":\"#506784\",\"linecolor\":\"#506784\",\"showbackground\":true,\"ticks\":\"\",\"zerolinecolor\":\"#C8D4E3\",\"gridwidth\":2},\"yaxis\":{\"backgroundcolor\":\"rgb(17,17,17)\",\"gridcolor\":\"#506784\",\"linecolor\":\"#506784\",\"showbackground\":true,\"ticks\":\"\",\"zerolinecolor\":\"#C8D4E3\",\"gridwidth\":2},\"zaxis\":{\"backgroundcolor\":\"rgb(17,17,17)\",\"gridcolor\":\"#506784\",\"linecolor\":\"#506784\",\"showbackground\":true,\"ticks\":\"\",\"zerolinecolor\":\"#C8D4E3\",\"gridwidth\":2}},\"shapedefaults\":{\"line\":{\"color\":\"#f2f5fa\"}},\"annotationdefaults\":{\"arrowcolor\":\"#f2f5fa\",\"arrowhead\":0,\"arrowwidth\":1},\"geo\":{\"bgcolor\":\"rgb(17,17,17)\",\"landcolor\":\"rgb(17,17,17)\",\"subunitcolor\":\"#506784\",\"showland\":true,\"showlakes\":true,\"lakecolor\":\"rgb(17,17,17)\"},\"title\":{\"x\":0.05},\"updatemenudefaults\":{\"bgcolor\":\"#506784\",\"borderwidth\":0},\"sliderdefaults\":{\"bgcolor\":\"#C8D4E3\",\"borderwidth\":1,\"bordercolor\":\"rgb(17,17,17)\",\"tickwidth\":0},\"mapbox\":{\"style\":\"dark\"}}},\"annotations\":[{\"font\":{\"size\":16},\"showarrow\":false,\"text\":\"Scoring Function: Andromeda\",\"x\":0.225,\"xanchor\":\"center\",\"xref\":\"paper\",\"y\":1.1,\"yanchor\":\"bottom\",\"yref\":\"paper\"},{\"font\":{\"size\":16},\"showarrow\":false,\"text\":\"Scoring Function: Simple Scoring\",\"x\":0.775,\"xanchor\":\"center\",\"xref\":\"paper\",\"y\":1.1,\"yanchor\":\"bottom\",\"yref\":\"paper\"}],\"title\":{\"text\":\"Peptide Identifications by Scoring Function (Target Database, FDR \\u003c= 0.01)\"},\"legend\":{\"orientation\":\"h\",\"yanchor\":\"bottom\",\"y\":-0.1,\"xanchor\":\"center\",\"x\":0.5},\"margin\":{\"t\":120},\"height\":500,\"width\":800},                        {\"responsive\": true}                    ).then(function(){\n",
       "                            \n",
       "var gd = document.getElementById('50b41878-a54e-4da0-b303-de6616cdc476');\n",
       "var x = new MutationObserver(function (mutations, observer) {{\n",
       "        var display = window.getComputedStyle(gd).display;\n",
       "        if (!display || display === 'none') {{\n",
       "            console.log([gd, 'removed!']);\n",
       "            Plotly.purge(gd);\n",
       "            observer.disconnect();\n",
       "        }}\n",
       "}});\n",
       "\n",
       "// Listen for the removal of the full notebook cells\n",
       "var notebookContainer = gd.closest('#notebook-container');\n",
       "if (notebookContainer) {{\n",
       "    x.observe(notebookContainer, {childList: true});\n",
       "}}\n",
       "\n",
       "// Listen for the clearing of the current output cell\n",
       "var outputEl = gd.closest('.output');\n",
       "if (outputEl) {{\n",
       "    x.observe(outputEl, {childList: true});\n",
       "}}\n",
       "\n",
       "                        })                };                });            </script>        </div>"
      ]
     },
     "metadata": {},
     "output_type": "display_data"
    }
   ],
   "execution_count": 24
  },
  {
   "metadata": {
    "ExecuteTime": {
     "end_time": "2025-03-11T15:31:42.753274Z",
     "start_time": "2025-03-11T15:31:41.556064Z"
    }
   },
   "cell_type": "code",
   "source": [
    "# =====================================================\n",
    "# Second set of charts: 2x3 grid with scoring functions as rows and experiments as columns\n",
    "# =====================================================\n",
    "\n",
    "# Prepare data for pie charts using cumulative threshold logic\n",
    "results = []\n",
    "for (experiment, scoring_func), group in fdr_df.groupby(['experiment_name', 'scoring_function']):\n",
    "    # Find the threshold where FDR <= 0.01\n",
    "    valid_fdr = group[group['fdr'] <= 0.01]\n",
    "\n",
    "    if valid_fdr.empty:\n",
    "        passing_targets = 0\n",
    "    else:\n",
    "        threshold_idx = valid_fdr.index.max()\n",
    "        passing_targets = int(group.loc[threshold_idx, 'cumulative_targets'])\n",
    "\n",
    "    total_targets = group['is_target'].sum()\n",
    "    failing_targets = total_targets - passing_targets\n",
    "\n",
    "    results.append({\n",
    "        'experiment': experiment,\n",
    "        'scoring_function': scoring_func,\n",
    "        'passing': passing_targets,\n",
    "        'failing': failing_targets\n",
    "    })\n",
    "\n",
    "pie_data = pd.DataFrame(results)\n",
    "# Create subplot grid\n",
    "scoring_functions = pie_data['scoring_function'].unique()\n",
    "experiments = pie_data['experiment'].unique()\n",
    "\n",
    "rows = len(scoring_functions)\n",
    "cols = len(experiments)\n",
    "\n",
    "fig2 = make_subplots(\n",
    "    rows=rows,\n",
    "    cols=cols,\n",
    "    specs=[[{'type':'domain'} for _ in range(cols)] for _ in range(rows)],\n",
    "    vertical_spacing=0.2,\n",
    "    horizontal_spacing=0.05\n",
    ")\n",
    "\n",
    "# Add pie charts to grid\n",
    "for i, scoring_func in enumerate(scoring_functions):\n",
    "    for j, exp in enumerate(experiments):\n",
    "        # Get data for this combination\n",
    "        data = pie_data[(pie_data['scoring_function'] == scoring_func) &\n",
    "                        (pie_data['experiment'] == exp)]\n",
    "\n",
    "        if data.empty:\n",
    "            continue\n",
    "\n",
    "        passing = data['passing'].values[0]\n",
    "        failing = data['failing'].values[0]\n",
    "\n",
    "        fig2.add_trace(\n",
    "            go.Pie(\n",
    "                labels=['Passing (FDR ≤ 0.01)', 'Failing'],\n",
    "                values=[passing, failing],\n",
    "                textinfo='value+percent',\n",
    "                marker=dict(colors=['#2ca02c', '#d62728']),\n",
    "            ),\n",
    "            row=i+1, col=j+1\n",
    "        )\n",
    "\n",
    "# Update layout with more space for titles\n",
    "fig2.update_layout(\n",
    "    title_text=\"Peptide Identifications by Scoring Function and Experiment (Target Database, FDR Threshold 0.01)\",\n",
    "    height=400 * rows,\n",
    "    width=400 * cols,\n",
    "    showlegend=True,\n",
    "    legend=dict(\n",
    "        orientation=\"h\",\n",
    "        yanchor=\"bottom\",\n",
    "        y=-0.1,\n",
    "        xanchor=\"center\",\n",
    "        x=0.5\n",
    "    ),\n",
    "    margin=dict(t=50, b=50, l=50, r=50),  # Add margins\n",
    "    grid=dict(rows=rows, columns=cols, pattern=\"independent\")  # Ensure independent subplots\n",
    ")\n",
    "\n",
    "# Add annotations for subplot titles\n",
    "annotations = []\n",
    "for i, scoring_func in enumerate(scoring_functions):\n",
    "    for j, exp in enumerate(experiments):\n",
    "        annotations.append(dict(\n",
    "            text=f\"{scoring_func}<br>{exp}\",\n",
    "            x=0.5,\n",
    "            y=1.1,\n",
    "            xref=f\"x{j+1} domain\",\n",
    "            yref=f\"y{i+1} domain\",\n",
    "            showarrow=False,\n",
    "            font=dict(size=12)\n",
    "        ))\n",
    "\n",
    "fig2.update_layout(annotations=annotations)\n",
    "\n",
    "# Display the figure\n",
    "fig2.show()"
   ],
   "id": "da7e4473266fdd13",
   "outputs": [
    {
     "ename": "ValueError",
     "evalue": "\n    Invalid value of type 'builtins.str' received for the 'xref' property of layout.annotation\n        Received value: 'x1 domain'\n\n    The 'xref' property is an enumeration that may be specified as:\n      - One of the following enumeration values:\n            ['paper']\n      - A string that matches one of the following regular expressions:\n            ['^x([2-9]|[1-9][0-9]+)?( domain)?$']",
     "output_type": "error",
     "traceback": [
      "\u001B[0;31m---------------------------------------------------------------------------\u001B[0m",
      "\u001B[0;31mValueError\u001B[0m                                Traceback (most recent call last)",
      "Cell \u001B[0;32mIn[28], line 97\u001B[0m\n\u001B[1;32m     86\u001B[0m     \u001B[38;5;28;01mfor\u001B[39;00m j, exp \u001B[38;5;129;01min\u001B[39;00m \u001B[38;5;28menumerate\u001B[39m(experiments):\n\u001B[1;32m     87\u001B[0m         annotations\u001B[38;5;241m.\u001B[39mappend(\u001B[38;5;28mdict\u001B[39m(\n\u001B[1;32m     88\u001B[0m             text\u001B[38;5;241m=\u001B[39m\u001B[38;5;124mf\u001B[39m\u001B[38;5;124m\"\u001B[39m\u001B[38;5;132;01m{\u001B[39;00mscoring_func\u001B[38;5;132;01m}\u001B[39;00m\u001B[38;5;124m<br>\u001B[39m\u001B[38;5;132;01m{\u001B[39;00mexp\u001B[38;5;132;01m}\u001B[39;00m\u001B[38;5;124m\"\u001B[39m,\n\u001B[1;32m     89\u001B[0m             x\u001B[38;5;241m=\u001B[39m\u001B[38;5;241m0.5\u001B[39m,\n\u001B[0;32m   (...)\u001B[0m\n\u001B[1;32m     94\u001B[0m             font\u001B[38;5;241m=\u001B[39m\u001B[38;5;28mdict\u001B[39m(size\u001B[38;5;241m=\u001B[39m\u001B[38;5;241m12\u001B[39m)\n\u001B[1;32m     95\u001B[0m         ))\n\u001B[0;32m---> 97\u001B[0m fig2\u001B[38;5;241m.\u001B[39mupdate_layout(annotations\u001B[38;5;241m=\u001B[39mannotations)\n\u001B[1;32m     99\u001B[0m \u001B[38;5;66;03m# Display the figure\u001B[39;00m\n\u001B[1;32m    100\u001B[0m fig2\u001B[38;5;241m.\u001B[39mshow()\n",
      "File \u001B[0;32m/opt/homebrew/Caskroom/miniconda/base/envs/bmdt_new/lib/python3.11/site-packages/plotly/graph_objs/_figure.py:792\u001B[0m, in \u001B[0;36mFigure.update_layout\u001B[0;34m(self, dict1, overwrite, **kwargs)\u001B[0m\n\u001B[1;32m    766\u001B[0m \u001B[38;5;28;01mdef\u001B[39;00m \u001B[38;5;21mupdate_layout\u001B[39m(\u001B[38;5;28mself\u001B[39m, dict1\u001B[38;5;241m=\u001B[39m\u001B[38;5;28;01mNone\u001B[39;00m, overwrite\u001B[38;5;241m=\u001B[39m\u001B[38;5;28;01mFalse\u001B[39;00m, \u001B[38;5;241m*\u001B[39m\u001B[38;5;241m*\u001B[39mkwargs) \u001B[38;5;241m-\u001B[39m\u001B[38;5;241m>\u001B[39m \u001B[38;5;124m\"\u001B[39m\u001B[38;5;124mFigure\u001B[39m\u001B[38;5;124m\"\u001B[39m:\n\u001B[1;32m    767\u001B[0m \u001B[38;5;250m    \u001B[39m\u001B[38;5;124;03m\"\"\"\u001B[39;00m\n\u001B[1;32m    768\u001B[0m \n\u001B[1;32m    769\u001B[0m \u001B[38;5;124;03m    Update the properties of the figure's layout with a dict and/or with\u001B[39;00m\n\u001B[0;32m   (...)\u001B[0m\n\u001B[1;32m    790\u001B[0m \n\u001B[1;32m    791\u001B[0m \u001B[38;5;124;03m    \"\"\"\u001B[39;00m\n\u001B[0;32m--> 792\u001B[0m     \u001B[38;5;28;01mreturn\u001B[39;00m \u001B[38;5;28msuper\u001B[39m(Figure, \u001B[38;5;28mself\u001B[39m)\u001B[38;5;241m.\u001B[39mupdate_layout(dict1, overwrite, \u001B[38;5;241m*\u001B[39m\u001B[38;5;241m*\u001B[39mkwargs)\n",
      "File \u001B[0;32m/opt/homebrew/Caskroom/miniconda/base/envs/bmdt_new/lib/python3.11/site-packages/plotly/basedatatypes.py:1391\u001B[0m, in \u001B[0;36mBaseFigure.update_layout\u001B[0;34m(self, dict1, overwrite, **kwargs)\u001B[0m\n\u001B[1;32m   1367\u001B[0m \u001B[38;5;28;01mdef\u001B[39;00m \u001B[38;5;21mupdate_layout\u001B[39m(\u001B[38;5;28mself\u001B[39m, dict1\u001B[38;5;241m=\u001B[39m\u001B[38;5;28;01mNone\u001B[39;00m, overwrite\u001B[38;5;241m=\u001B[39m\u001B[38;5;28;01mFalse\u001B[39;00m, \u001B[38;5;241m*\u001B[39m\u001B[38;5;241m*\u001B[39mkwargs):\n\u001B[1;32m   1368\u001B[0m \u001B[38;5;250m    \u001B[39m\u001B[38;5;124;03m\"\"\"\u001B[39;00m\n\u001B[1;32m   1369\u001B[0m \u001B[38;5;124;03m    Update the properties of the figure's layout with a dict and/or with\u001B[39;00m\n\u001B[1;32m   1370\u001B[0m \u001B[38;5;124;03m    keyword arguments.\u001B[39;00m\n\u001B[0;32m   (...)\u001B[0m\n\u001B[1;32m   1389\u001B[0m \u001B[38;5;124;03m        The Figure object that the update_layout method was called on\u001B[39;00m\n\u001B[1;32m   1390\u001B[0m \u001B[38;5;124;03m    \"\"\"\u001B[39;00m\n\u001B[0;32m-> 1391\u001B[0m     \u001B[38;5;28mself\u001B[39m\u001B[38;5;241m.\u001B[39mlayout\u001B[38;5;241m.\u001B[39mupdate(dict1, overwrite\u001B[38;5;241m=\u001B[39moverwrite, \u001B[38;5;241m*\u001B[39m\u001B[38;5;241m*\u001B[39mkwargs)\n\u001B[1;32m   1392\u001B[0m     \u001B[38;5;28;01mreturn\u001B[39;00m \u001B[38;5;28mself\u001B[39m\n",
      "File \u001B[0;32m/opt/homebrew/Caskroom/miniconda/base/envs/bmdt_new/lib/python3.11/site-packages/plotly/basedatatypes.py:5131\u001B[0m, in \u001B[0;36mBasePlotlyType.update\u001B[0;34m(self, dict1, overwrite, **kwargs)\u001B[0m\n\u001B[1;32m   5129\u001B[0m     \u001B[38;5;28;01mwith\u001B[39;00m \u001B[38;5;28mself\u001B[39m\u001B[38;5;241m.\u001B[39mfigure\u001B[38;5;241m.\u001B[39mbatch_update():\n\u001B[1;32m   5130\u001B[0m         BaseFigure\u001B[38;5;241m.\u001B[39m_perform_update(\u001B[38;5;28mself\u001B[39m, dict1, overwrite\u001B[38;5;241m=\u001B[39moverwrite)\n\u001B[0;32m-> 5131\u001B[0m         BaseFigure\u001B[38;5;241m.\u001B[39m_perform_update(\u001B[38;5;28mself\u001B[39m, kwargs, overwrite\u001B[38;5;241m=\u001B[39moverwrite)\n\u001B[1;32m   5132\u001B[0m \u001B[38;5;28;01melse\u001B[39;00m:\n\u001B[1;32m   5133\u001B[0m     BaseFigure\u001B[38;5;241m.\u001B[39m_perform_update(\u001B[38;5;28mself\u001B[39m, dict1, overwrite\u001B[38;5;241m=\u001B[39moverwrite)\n",
      "File \u001B[0;32m/opt/homebrew/Caskroom/miniconda/base/envs/bmdt_new/lib/python3.11/site-packages/plotly/basedatatypes.py:3931\u001B[0m, in \u001B[0;36mBaseFigure._perform_update\u001B[0;34m(plotly_obj, update_obj, overwrite)\u001B[0m\n\u001B[1;32m   3925\u001B[0m             plotly_obj[key] \u001B[38;5;241m=\u001B[39m plotly_obj[key] \u001B[38;5;241m+\u001B[39m \u001B[38;5;28mtuple\u001B[39m(\n\u001B[1;32m   3926\u001B[0m                 val[\u001B[38;5;28mlen\u001B[39m(plotly_obj[key]) :]\n\u001B[1;32m   3927\u001B[0m             )\n\u001B[1;32m   3928\u001B[0m     \u001B[38;5;28;01melse\u001B[39;00m:\n\u001B[1;32m   3929\u001B[0m         \u001B[38;5;66;03m# plotly_obj is an empty or uninitialized list for key\u001B[39;00m\n\u001B[1;32m   3930\u001B[0m         \u001B[38;5;66;03m# In this case we accept val as is\u001B[39;00m\n\u001B[0;32m-> 3931\u001B[0m         plotly_obj[key] \u001B[38;5;241m=\u001B[39m val\n\u001B[1;32m   3932\u001B[0m \u001B[38;5;28;01melse\u001B[39;00m:\n\u001B[1;32m   3933\u001B[0m     \u001B[38;5;66;03m# Assign non-compound value\u001B[39;00m\n\u001B[1;32m   3934\u001B[0m     plotly_obj[key] \u001B[38;5;241m=\u001B[39m val\n",
      "File \u001B[0;32m/opt/homebrew/Caskroom/miniconda/base/envs/bmdt_new/lib/python3.11/site-packages/plotly/basedatatypes.py:5906\u001B[0m, in \u001B[0;36mBaseLayoutType.__setitem__\u001B[0;34m(self, prop, value)\u001B[0m\n\u001B[1;32m   5903\u001B[0m match \u001B[38;5;241m=\u001B[39m \u001B[38;5;28mself\u001B[39m\u001B[38;5;241m.\u001B[39m_subplot_re_match(prop)\n\u001B[1;32m   5904\u001B[0m \u001B[38;5;28;01mif\u001B[39;00m match \u001B[38;5;129;01mis\u001B[39;00m \u001B[38;5;28;01mNone\u001B[39;00m:\n\u001B[1;32m   5905\u001B[0m     \u001B[38;5;66;03m# Set as ordinary property\u001B[39;00m\n\u001B[0;32m-> 5906\u001B[0m     \u001B[38;5;28msuper\u001B[39m(BaseLayoutHierarchyType, \u001B[38;5;28mself\u001B[39m)\u001B[38;5;241m.\u001B[39m\u001B[38;5;21m__setitem__\u001B[39m(prop, value)\n\u001B[1;32m   5907\u001B[0m \u001B[38;5;28;01melse\u001B[39;00m:\n\u001B[1;32m   5908\u001B[0m     \u001B[38;5;66;03m# Set as subplotid property\u001B[39;00m\n\u001B[1;32m   5909\u001B[0m     \u001B[38;5;28mself\u001B[39m\u001B[38;5;241m.\u001B[39m_set_subplotid_prop(prop, value)\n",
      "File \u001B[0;32m/opt/homebrew/Caskroom/miniconda/base/envs/bmdt_new/lib/python3.11/site-packages/plotly/basedatatypes.py:4864\u001B[0m, in \u001B[0;36mBasePlotlyType.__setitem__\u001B[0;34m(self, prop, value)\u001B[0m\n\u001B[1;32m   4862\u001B[0m \u001B[38;5;66;03m# ### Handle compound array property ###\u001B[39;00m\n\u001B[1;32m   4863\u001B[0m \u001B[38;5;28;01melif\u001B[39;00m \u001B[38;5;28misinstance\u001B[39m(validator, (CompoundArrayValidator, BaseDataValidator)):\n\u001B[0;32m-> 4864\u001B[0m     \u001B[38;5;28mself\u001B[39m\u001B[38;5;241m.\u001B[39m_set_array_prop(prop, value)\n\u001B[1;32m   4866\u001B[0m \u001B[38;5;66;03m# ### Handle simple property ###\u001B[39;00m\n\u001B[1;32m   4867\u001B[0m \u001B[38;5;28;01melse\u001B[39;00m:\n\u001B[1;32m   4868\u001B[0m     \u001B[38;5;28mself\u001B[39m\u001B[38;5;241m.\u001B[39m_set_prop(prop, value)\n",
      "File \u001B[0;32m/opt/homebrew/Caskroom/miniconda/base/envs/bmdt_new/lib/python3.11/site-packages/plotly/basedatatypes.py:5345\u001B[0m, in \u001B[0;36mBasePlotlyType._set_array_prop\u001B[0;34m(self, prop, val)\u001B[0m\n\u001B[1;32m   5342\u001B[0m \u001B[38;5;66;03m# Import value\u001B[39;00m\n\u001B[1;32m   5343\u001B[0m \u001B[38;5;66;03m# ------------\u001B[39;00m\n\u001B[1;32m   5344\u001B[0m validator \u001B[38;5;241m=\u001B[39m \u001B[38;5;28mself\u001B[39m\u001B[38;5;241m.\u001B[39m_get_validator(prop)\n\u001B[0;32m-> 5345\u001B[0m val \u001B[38;5;241m=\u001B[39m validator\u001B[38;5;241m.\u001B[39mvalidate_coerce(val, skip_invalid\u001B[38;5;241m=\u001B[39m\u001B[38;5;28mself\u001B[39m\u001B[38;5;241m.\u001B[39m_skip_invalid)\n\u001B[1;32m   5347\u001B[0m \u001B[38;5;66;03m# Save deep copies of current and new states\u001B[39;00m\n\u001B[1;32m   5348\u001B[0m \u001B[38;5;66;03m# ------------------------------------------\u001B[39;00m\n\u001B[1;32m   5349\u001B[0m curr_val \u001B[38;5;241m=\u001B[39m \u001B[38;5;28mself\u001B[39m\u001B[38;5;241m.\u001B[39m_compound_array_props\u001B[38;5;241m.\u001B[39mget(prop, \u001B[38;5;28;01mNone\u001B[39;00m)\n",
      "File \u001B[0;32m/opt/homebrew/Caskroom/miniconda/base/envs/bmdt_new/lib/python3.11/site-packages/_plotly_utils/basevalidators.py:2604\u001B[0m, in \u001B[0;36mCompoundArrayValidator.validate_coerce\u001B[0;34m(self, v, skip_invalid)\u001B[0m\n\u001B[1;32m   2602\u001B[0m     res\u001B[38;5;241m.\u001B[39mappend(\u001B[38;5;28mself\u001B[39m\u001B[38;5;241m.\u001B[39mdata_class(v_el))\n\u001B[1;32m   2603\u001B[0m \u001B[38;5;28;01melif\u001B[39;00m \u001B[38;5;28misinstance\u001B[39m(v_el, \u001B[38;5;28mdict\u001B[39m):\n\u001B[0;32m-> 2604\u001B[0m     res\u001B[38;5;241m.\u001B[39mappend(\u001B[38;5;28mself\u001B[39m\u001B[38;5;241m.\u001B[39mdata_class(v_el, skip_invalid\u001B[38;5;241m=\u001B[39mskip_invalid))\n\u001B[1;32m   2605\u001B[0m \u001B[38;5;28;01melse\u001B[39;00m:\n\u001B[1;32m   2606\u001B[0m     \u001B[38;5;28;01mif\u001B[39;00m skip_invalid:\n",
      "File \u001B[0;32m/opt/homebrew/Caskroom/miniconda/base/envs/bmdt_new/lib/python3.11/site-packages/plotly/graph_objs/layout/_annotation.py:2080\u001B[0m, in \u001B[0;36mAnnotation.__init__\u001B[0;34m(self, arg, align, arrowcolor, arrowhead, arrowside, arrowsize, arrowwidth, ax, axref, ay, ayref, bgcolor, bordercolor, borderpad, borderwidth, captureevents, clicktoshow, font, height, hoverlabel, hovertext, name, opacity, showarrow, standoff, startarrowhead, startarrowsize, startstandoff, templateitemname, text, textangle, valign, visible, width, x, xanchor, xclick, xref, xshift, y, yanchor, yclick, yref, yshift, **kwargs)\u001B[0m\n\u001B[1;32m   2078\u001B[0m _v \u001B[38;5;241m=\u001B[39m xref \u001B[38;5;28;01mif\u001B[39;00m xref \u001B[38;5;129;01mis\u001B[39;00m \u001B[38;5;129;01mnot\u001B[39;00m \u001B[38;5;28;01mNone\u001B[39;00m \u001B[38;5;28;01melse\u001B[39;00m _v\n\u001B[1;32m   2079\u001B[0m \u001B[38;5;28;01mif\u001B[39;00m _v \u001B[38;5;129;01mis\u001B[39;00m \u001B[38;5;129;01mnot\u001B[39;00m \u001B[38;5;28;01mNone\u001B[39;00m:\n\u001B[0;32m-> 2080\u001B[0m     \u001B[38;5;28mself\u001B[39m[\u001B[38;5;124m\"\u001B[39m\u001B[38;5;124mxref\u001B[39m\u001B[38;5;124m\"\u001B[39m] \u001B[38;5;241m=\u001B[39m _v\n\u001B[1;32m   2081\u001B[0m _v \u001B[38;5;241m=\u001B[39m arg\u001B[38;5;241m.\u001B[39mpop(\u001B[38;5;124m\"\u001B[39m\u001B[38;5;124mxshift\u001B[39m\u001B[38;5;124m\"\u001B[39m, \u001B[38;5;28;01mNone\u001B[39;00m)\n\u001B[1;32m   2082\u001B[0m _v \u001B[38;5;241m=\u001B[39m xshift \u001B[38;5;28;01mif\u001B[39;00m xshift \u001B[38;5;129;01mis\u001B[39;00m \u001B[38;5;129;01mnot\u001B[39;00m \u001B[38;5;28;01mNone\u001B[39;00m \u001B[38;5;28;01melse\u001B[39;00m _v\n",
      "File \u001B[0;32m/opt/homebrew/Caskroom/miniconda/base/envs/bmdt_new/lib/python3.11/site-packages/plotly/basedatatypes.py:4868\u001B[0m, in \u001B[0;36mBasePlotlyType.__setitem__\u001B[0;34m(self, prop, value)\u001B[0m\n\u001B[1;32m   4864\u001B[0m         \u001B[38;5;28mself\u001B[39m\u001B[38;5;241m.\u001B[39m_set_array_prop(prop, value)\n\u001B[1;32m   4866\u001B[0m     \u001B[38;5;66;03m# ### Handle simple property ###\u001B[39;00m\n\u001B[1;32m   4867\u001B[0m     \u001B[38;5;28;01melse\u001B[39;00m:\n\u001B[0;32m-> 4868\u001B[0m         \u001B[38;5;28mself\u001B[39m\u001B[38;5;241m.\u001B[39m_set_prop(prop, value)\n\u001B[1;32m   4869\u001B[0m \u001B[38;5;28;01melse\u001B[39;00m:\n\u001B[1;32m   4870\u001B[0m     \u001B[38;5;66;03m# Make sure properties dict is initialized\u001B[39;00m\n\u001B[1;32m   4871\u001B[0m     \u001B[38;5;28mself\u001B[39m\u001B[38;5;241m.\u001B[39m_init_props()\n",
      "File \u001B[0;32m/opt/homebrew/Caskroom/miniconda/base/envs/bmdt_new/lib/python3.11/site-packages/plotly/basedatatypes.py:5212\u001B[0m, in \u001B[0;36mBasePlotlyType._set_prop\u001B[0;34m(self, prop, val)\u001B[0m\n\u001B[1;32m   5210\u001B[0m         \u001B[38;5;28;01mreturn\u001B[39;00m\n\u001B[1;32m   5211\u001B[0m     \u001B[38;5;28;01melse\u001B[39;00m:\n\u001B[0;32m-> 5212\u001B[0m         \u001B[38;5;28;01mraise\u001B[39;00m err\n\u001B[1;32m   5214\u001B[0m \u001B[38;5;66;03m# val is None\u001B[39;00m\n\u001B[1;32m   5215\u001B[0m \u001B[38;5;66;03m# -----------\u001B[39;00m\n\u001B[1;32m   5216\u001B[0m \u001B[38;5;28;01mif\u001B[39;00m val \u001B[38;5;129;01mis\u001B[39;00m \u001B[38;5;28;01mNone\u001B[39;00m:\n\u001B[1;32m   5217\u001B[0m     \u001B[38;5;66;03m# Check if we should send null update\u001B[39;00m\n",
      "File \u001B[0;32m/opt/homebrew/Caskroom/miniconda/base/envs/bmdt_new/lib/python3.11/site-packages/plotly/basedatatypes.py:5207\u001B[0m, in \u001B[0;36mBasePlotlyType._set_prop\u001B[0;34m(self, prop, val)\u001B[0m\n\u001B[1;32m   5204\u001B[0m validator \u001B[38;5;241m=\u001B[39m \u001B[38;5;28mself\u001B[39m\u001B[38;5;241m.\u001B[39m_get_validator(prop)\n\u001B[1;32m   5206\u001B[0m \u001B[38;5;28;01mtry\u001B[39;00m:\n\u001B[0;32m-> 5207\u001B[0m     val \u001B[38;5;241m=\u001B[39m validator\u001B[38;5;241m.\u001B[39mvalidate_coerce(val)\n\u001B[1;32m   5208\u001B[0m \u001B[38;5;28;01mexcept\u001B[39;00m \u001B[38;5;167;01mValueError\u001B[39;00m \u001B[38;5;28;01mas\u001B[39;00m err:\n\u001B[1;32m   5209\u001B[0m     \u001B[38;5;28;01mif\u001B[39;00m \u001B[38;5;28mself\u001B[39m\u001B[38;5;241m.\u001B[39m_skip_invalid:\n",
      "File \u001B[0;32m/opt/homebrew/Caskroom/miniconda/base/envs/bmdt_new/lib/python3.11/site-packages/_plotly_utils/basevalidators.py:619\u001B[0m, in \u001B[0;36mEnumeratedValidator.validate_coerce\u001B[0;34m(self, v)\u001B[0m\n\u001B[1;32m    617\u001B[0m     v \u001B[38;5;241m=\u001B[39m \u001B[38;5;28mself\u001B[39m\u001B[38;5;241m.\u001B[39mperform_replacemenet(v)\n\u001B[1;32m    618\u001B[0m     \u001B[38;5;28;01mif\u001B[39;00m \u001B[38;5;129;01mnot\u001B[39;00m \u001B[38;5;28mself\u001B[39m\u001B[38;5;241m.\u001B[39min_values(v):\n\u001B[0;32m--> 619\u001B[0m         \u001B[38;5;28mself\u001B[39m\u001B[38;5;241m.\u001B[39mraise_invalid_val(v)\n\u001B[1;32m    620\u001B[0m \u001B[38;5;28;01mreturn\u001B[39;00m v\n",
      "File \u001B[0;32m/opt/homebrew/Caskroom/miniconda/base/envs/bmdt_new/lib/python3.11/site-packages/_plotly_utils/basevalidators.py:296\u001B[0m, in \u001B[0;36mBaseValidator.raise_invalid_val\u001B[0;34m(self, v, inds)\u001B[0m\n\u001B[1;32m    293\u001B[0m             \u001B[38;5;28;01mfor\u001B[39;00m i \u001B[38;5;129;01min\u001B[39;00m inds:\n\u001B[1;32m    294\u001B[0m                 name \u001B[38;5;241m+\u001B[39m\u001B[38;5;241m=\u001B[39m \u001B[38;5;124m\"\u001B[39m\u001B[38;5;124m[\u001B[39m\u001B[38;5;124m\"\u001B[39m \u001B[38;5;241m+\u001B[39m \u001B[38;5;28mstr\u001B[39m(i) \u001B[38;5;241m+\u001B[39m \u001B[38;5;124m\"\u001B[39m\u001B[38;5;124m]\u001B[39m\u001B[38;5;124m\"\u001B[39m\n\u001B[0;32m--> 296\u001B[0m         \u001B[38;5;28;01mraise\u001B[39;00m \u001B[38;5;167;01mValueError\u001B[39;00m(\n\u001B[1;32m    297\u001B[0m \u001B[38;5;250m            \u001B[39m\u001B[38;5;124;03m\"\"\"\u001B[39;00m\n\u001B[1;32m    298\u001B[0m \u001B[38;5;124;03m    Invalid value of type {typ} received for the '{name}' property of {pname}\u001B[39;00m\n\u001B[1;32m    299\u001B[0m \u001B[38;5;124;03m        Received value: {v}\u001B[39;00m\n\u001B[1;32m    300\u001B[0m \n\u001B[1;32m    301\u001B[0m \u001B[38;5;124;03m{valid_clr_desc}\"\"\"\u001B[39;00m\u001B[38;5;241m.\u001B[39mformat(\n\u001B[1;32m    302\u001B[0m                 name\u001B[38;5;241m=\u001B[39mname,\n\u001B[1;32m    303\u001B[0m                 pname\u001B[38;5;241m=\u001B[39m\u001B[38;5;28mself\u001B[39m\u001B[38;5;241m.\u001B[39mparent_name,\n\u001B[1;32m    304\u001B[0m                 typ\u001B[38;5;241m=\u001B[39mtype_str(v),\n\u001B[1;32m    305\u001B[0m                 v\u001B[38;5;241m=\u001B[39m\u001B[38;5;28mrepr\u001B[39m(v),\n\u001B[1;32m    306\u001B[0m                 valid_clr_desc\u001B[38;5;241m=\u001B[39m\u001B[38;5;28mself\u001B[39m\u001B[38;5;241m.\u001B[39mdescription(),\n\u001B[1;32m    307\u001B[0m             )\n\u001B[1;32m    308\u001B[0m         )\n",
      "\u001B[0;31mValueError\u001B[0m: \n    Invalid value of type 'builtins.str' received for the 'xref' property of layout.annotation\n        Received value: 'x1 domain'\n\n    The 'xref' property is an enumeration that may be specified as:\n      - One of the following enumeration values:\n            ['paper']\n      - A string that matches one of the following regular expressions:\n            ['^x([2-9]|[1-9][0-9]+)?( domain)?$']"
     ]
    }
   ],
   "execution_count": 28
  },
  {
   "metadata": {},
   "cell_type": "markdown",
   "source": "# Density plot for match scores",
   "id": "da78a95984f3b299"
  },
  {
   "metadata": {},
   "cell_type": "code",
   "source": [
    "# Density plot for match scores\n",
    "from visualization import SpectrumVisualizer\n",
    "total_sv = SpectrumVisualizer(matched_spectra_df)\n",
    "kde_plot = total_sv.plot_score_distributions(\"Match Score Score Distributions by Scoring Function and Experiment\", custom_xlims={'Andromeda': (-40, 10), 'Simple Scoring': (-5, 0.5)}, custom_ylims={'Andromeda': (0, 0.2), 'Simple Scoring': (0, 1)})"
   ],
   "id": "f4e7cbecf0f3593e",
   "outputs": [],
   "execution_count": null
  },
  {
   "metadata": {},
   "cell_type": "markdown",
   "source": "",
   "id": "1d26aa763e48d08"
  },
  {
   "metadata": {
    "ExecuteTime": {
     "end_time": "2025-03-11T15:21:45.465988Z",
     "start_time": "2025-03-11T15:21:45.146923Z"
    }
   },
   "cell_type": "code",
   "source": [
    "import pandas as pd\n",
    "import plotly.graph_objects as go\n",
    "from plotly.subplots import make_subplots\n",
    "\n",
    "\n",
    "# Define constants\n",
    "FDR_THRESHOLDS = [0.01, 0.1, 0.25]\n",
    "SCORING_FUNCTIONS = ['Andromeda', 'Simple Scoring']\n",
    "EXPERIMENTS = list(fdr_df['experiment_name'].unique())\n",
    "\n",
    "# Initialize subplot grid\n",
    "fig = make_subplots(\n",
    "    rows=2,\n",
    "    cols=3,\n",
    "    subplot_titles=[f\"{exp}<br>{sf}\" for sf in SCORING_FUNCTIONS for exp in EXPERIMENTS],\n",
    "    vertical_spacing=0.15,\n",
    "    horizontal_spacing=0.1,\n",
    "    specs=[[{\"type\": \"bar\"}, {\"type\": \"bar\"}, {\"type\": \"bar\"}],\n",
    "           [{\"type\": \"bar\"}, {\"type\": \"bar\"}, {\"type\": \"bar\"}]]\n",
    ")\n",
    "\n",
    "# Create mapping for subplot positions\n",
    "subplot_positions = {\n",
    "    (sf, exp): (row, col)\n",
    "    for row, sf in enumerate(SCORING_FUNCTIONS, 1)\n",
    "    for col, exp in enumerate(EXPERIMENTS, 1)\n",
    "}\n",
    "\n",
    "# Process data and create plots\n",
    "for (scoring_func, experiment), group_df in fdr_df[fdr_df['is_target'] == True].groupby(['scoring_function', 'experiment_name']):\n",
    "    print(len(group_df))\n",
    "    # Sort by achieved_fdr ascending (best thresholds first)\n",
    "    sorted_df = group_df.sort_values('fdr', ascending=True)\n",
    "\n",
    "    # Calculate hits at each FDR threshold\n",
    "    hit_counts = []\n",
    "    for threshold in FDR_THRESHOLDS:\n",
    "        valid = sorted_df[sorted_df['fdr'] <= threshold]\n",
    "        hit_counts.append(valid['cumulative_targets'].max() if not valid.empty else 0)\n",
    "\n",
    "    # Get subplot position\n",
    "    row, col = subplot_positions.get((scoring_func, experiment), (1, 1))\n",
    "\n",
    "    # Create bar trace\n",
    "    fig.add_trace(\n",
    "        go.Bar(\n",
    "            x=[f'{t*100}%' for t in FDR_THRESHOLDS],\n",
    "            y=hit_counts,\n",
    "            name=f'{experiment} - {scoring_func}',\n",
    "            text=hit_counts,\n",
    "            textposition='auto'\n",
    "        ),\n",
    "        row=row,\n",
    "        col=col\n",
    "    )\n",
    "\n",
    "# Update layout\n",
    "fig.update_layout(\n",
    "    height=800,\n",
    "    width=1200,\n",
    "    title_text=\"FDR-Calibrated Hit Counts by Experiment and Scoring Function\",\n",
    "    showlegend=False,\n",
    "    margin=dict(t=100)\n",
    ")\n",
    "\n",
    "# Add axis labels\n",
    "for row in [1, 2]:\n",
    "    for col in [1, 2, 3]:\n",
    "        fig.update_xaxes(title_text=\"FDR Threshold\", row=row, col=col)\n",
    "        fig.update_yaxes(title_text=\"Number of Identifications\", row=row, col=col)\n",
    "\n",
    "fig.show()"
   ],
   "id": "4490b7af6782b926",
   "outputs": [
    {
     "name": "stdout",
     "output_type": "stream",
     "text": [
      "40217\n",
      "47211\n",
      "46431\n",
      "47211\n"
     ]
    },
    {
     "data": {
      "application/vnd.plotly.v1+json": {
       "data": [
        {
         "name": "CTR03_BA46_INSOLUBLE_01 - Andromeda",
         "text": [
          "5538",
          "8557",
          "10860"
         ],
         "textposition": "auto",
         "x": [
          "1.0%",
          "10.0%",
          "25.0%"
         ],
         "y": [
          5538,
          8557,
          10860
         ],
         "type": "bar",
         "xaxis": "x",
         "yaxis": "y"
        },
        {
         "name": "CTR08_BA46_INSOLUBLE_01 - Andromeda",
         "text": [
          "6781",
          "10005",
          "12469"
         ],
         "textposition": "auto",
         "x": [
          "1.0%",
          "10.0%",
          "25.0%"
         ],
         "y": [
          6781,
          10005,
          12469
         ],
         "type": "bar",
         "xaxis": "x2",
         "yaxis": "y2"
        },
        {
         "name": "CTR45_BA46_INSOLUBLE_01 - Andromeda",
         "text": [
          "4693",
          "6785",
          "8490"
         ],
         "textposition": "auto",
         "x": [
          "1.0%",
          "10.0%",
          "25.0%"
         ],
         "y": [
          4693,
          6785,
          8490
         ],
         "type": "bar",
         "xaxis": "x3",
         "yaxis": "y3"
        },
        {
         "name": "CTR08_BA46_INSOLUBLE_01 - Simple Scoring",
         "text": [
          "1",
          "1",
          "3"
         ],
         "textposition": "auto",
         "x": [
          "1.0%",
          "10.0%",
          "25.0%"
         ],
         "y": [
          1,
          1,
          3
         ],
         "type": "bar",
         "xaxis": "x5",
         "yaxis": "y5"
        }
       ],
       "layout": {
        "template": {
         "data": {
          "histogram2dcontour": [
           {
            "type": "histogram2dcontour",
            "colorbar": {
             "outlinewidth": 0,
             "ticks": ""
            },
            "colorscale": [
             [
              0.0,
              "#0d0887"
             ],
             [
              0.1111111111111111,
              "#46039f"
             ],
             [
              0.2222222222222222,
              "#7201a8"
             ],
             [
              0.3333333333333333,
              "#9c179e"
             ],
             [
              0.4444444444444444,
              "#bd3786"
             ],
             [
              0.5555555555555556,
              "#d8576b"
             ],
             [
              0.6666666666666666,
              "#ed7953"
             ],
             [
              0.7777777777777778,
              "#fb9f3a"
             ],
             [
              0.8888888888888888,
              "#fdca26"
             ],
             [
              1.0,
              "#f0f921"
             ]
            ]
           }
          ],
          "choropleth": [
           {
            "type": "choropleth",
            "colorbar": {
             "outlinewidth": 0,
             "ticks": ""
            }
           }
          ],
          "histogram2d": [
           {
            "type": "histogram2d",
            "colorbar": {
             "outlinewidth": 0,
             "ticks": ""
            },
            "colorscale": [
             [
              0.0,
              "#0d0887"
             ],
             [
              0.1111111111111111,
              "#46039f"
             ],
             [
              0.2222222222222222,
              "#7201a8"
             ],
             [
              0.3333333333333333,
              "#9c179e"
             ],
             [
              0.4444444444444444,
              "#bd3786"
             ],
             [
              0.5555555555555556,
              "#d8576b"
             ],
             [
              0.6666666666666666,
              "#ed7953"
             ],
             [
              0.7777777777777778,
              "#fb9f3a"
             ],
             [
              0.8888888888888888,
              "#fdca26"
             ],
             [
              1.0,
              "#f0f921"
             ]
            ]
           }
          ],
          "heatmap": [
           {
            "type": "heatmap",
            "colorbar": {
             "outlinewidth": 0,
             "ticks": ""
            },
            "colorscale": [
             [
              0.0,
              "#0d0887"
             ],
             [
              0.1111111111111111,
              "#46039f"
             ],
             [
              0.2222222222222222,
              "#7201a8"
             ],
             [
              0.3333333333333333,
              "#9c179e"
             ],
             [
              0.4444444444444444,
              "#bd3786"
             ],
             [
              0.5555555555555556,
              "#d8576b"
             ],
             [
              0.6666666666666666,
              "#ed7953"
             ],
             [
              0.7777777777777778,
              "#fb9f3a"
             ],
             [
              0.8888888888888888,
              "#fdca26"
             ],
             [
              1.0,
              "#f0f921"
             ]
            ]
           }
          ],
          "heatmapgl": [
           {
            "type": "heatmapgl",
            "colorbar": {
             "outlinewidth": 0,
             "ticks": ""
            },
            "colorscale": [
             [
              0.0,
              "#0d0887"
             ],
             [
              0.1111111111111111,
              "#46039f"
             ],
             [
              0.2222222222222222,
              "#7201a8"
             ],
             [
              0.3333333333333333,
              "#9c179e"
             ],
             [
              0.4444444444444444,
              "#bd3786"
             ],
             [
              0.5555555555555556,
              "#d8576b"
             ],
             [
              0.6666666666666666,
              "#ed7953"
             ],
             [
              0.7777777777777778,
              "#fb9f3a"
             ],
             [
              0.8888888888888888,
              "#fdca26"
             ],
             [
              1.0,
              "#f0f921"
             ]
            ]
           }
          ],
          "contourcarpet": [
           {
            "type": "contourcarpet",
            "colorbar": {
             "outlinewidth": 0,
             "ticks": ""
            }
           }
          ],
          "contour": [
           {
            "type": "contour",
            "colorbar": {
             "outlinewidth": 0,
             "ticks": ""
            },
            "colorscale": [
             [
              0.0,
              "#0d0887"
             ],
             [
              0.1111111111111111,
              "#46039f"
             ],
             [
              0.2222222222222222,
              "#7201a8"
             ],
             [
              0.3333333333333333,
              "#9c179e"
             ],
             [
              0.4444444444444444,
              "#bd3786"
             ],
             [
              0.5555555555555556,
              "#d8576b"
             ],
             [
              0.6666666666666666,
              "#ed7953"
             ],
             [
              0.7777777777777778,
              "#fb9f3a"
             ],
             [
              0.8888888888888888,
              "#fdca26"
             ],
             [
              1.0,
              "#f0f921"
             ]
            ]
           }
          ],
          "surface": [
           {
            "type": "surface",
            "colorbar": {
             "outlinewidth": 0,
             "ticks": ""
            },
            "colorscale": [
             [
              0.0,
              "#0d0887"
             ],
             [
              0.1111111111111111,
              "#46039f"
             ],
             [
              0.2222222222222222,
              "#7201a8"
             ],
             [
              0.3333333333333333,
              "#9c179e"
             ],
             [
              0.4444444444444444,
              "#bd3786"
             ],
             [
              0.5555555555555556,
              "#d8576b"
             ],
             [
              0.6666666666666666,
              "#ed7953"
             ],
             [
              0.7777777777777778,
              "#fb9f3a"
             ],
             [
              0.8888888888888888,
              "#fdca26"
             ],
             [
              1.0,
              "#f0f921"
             ]
            ]
           }
          ],
          "mesh3d": [
           {
            "type": "mesh3d",
            "colorbar": {
             "outlinewidth": 0,
             "ticks": ""
            }
           }
          ],
          "scatter": [
           {
            "marker": {
             "line": {
              "color": "#283442"
             }
            },
            "type": "scatter"
           }
          ],
          "parcoords": [
           {
            "type": "parcoords",
            "line": {
             "colorbar": {
              "outlinewidth": 0,
              "ticks": ""
             }
            }
           }
          ],
          "scatterpolargl": [
           {
            "type": "scatterpolargl",
            "marker": {
             "colorbar": {
              "outlinewidth": 0,
              "ticks": ""
             }
            }
           }
          ],
          "bar": [
           {
            "error_x": {
             "color": "#f2f5fa"
            },
            "error_y": {
             "color": "#f2f5fa"
            },
            "marker": {
             "line": {
              "color": "rgb(17,17,17)",
              "width": 0.5
             },
             "pattern": {
              "fillmode": "overlay",
              "size": 10,
              "solidity": 0.2
             }
            },
            "type": "bar"
           }
          ],
          "scattergeo": [
           {
            "type": "scattergeo",
            "marker": {
             "colorbar": {
              "outlinewidth": 0,
              "ticks": ""
             }
            }
           }
          ],
          "scatterpolar": [
           {
            "type": "scatterpolar",
            "marker": {
             "colorbar": {
              "outlinewidth": 0,
              "ticks": ""
             }
            }
           }
          ],
          "histogram": [
           {
            "marker": {
             "pattern": {
              "fillmode": "overlay",
              "size": 10,
              "solidity": 0.2
             }
            },
            "type": "histogram"
           }
          ],
          "scattergl": [
           {
            "marker": {
             "line": {
              "color": "#283442"
             }
            },
            "type": "scattergl"
           }
          ],
          "scatter3d": [
           {
            "type": "scatter3d",
            "line": {
             "colorbar": {
              "outlinewidth": 0,
              "ticks": ""
             }
            },
            "marker": {
             "colorbar": {
              "outlinewidth": 0,
              "ticks": ""
             }
            }
           }
          ],
          "scattermapbox": [
           {
            "type": "scattermapbox",
            "marker": {
             "colorbar": {
              "outlinewidth": 0,
              "ticks": ""
             }
            }
           }
          ],
          "scatterternary": [
           {
            "type": "scatterternary",
            "marker": {
             "colorbar": {
              "outlinewidth": 0,
              "ticks": ""
             }
            }
           }
          ],
          "scattercarpet": [
           {
            "type": "scattercarpet",
            "marker": {
             "colorbar": {
              "outlinewidth": 0,
              "ticks": ""
             }
            }
           }
          ],
          "carpet": [
           {
            "aaxis": {
             "endlinecolor": "#A2B1C6",
             "gridcolor": "#506784",
             "linecolor": "#506784",
             "minorgridcolor": "#506784",
             "startlinecolor": "#A2B1C6"
            },
            "baxis": {
             "endlinecolor": "#A2B1C6",
             "gridcolor": "#506784",
             "linecolor": "#506784",
             "minorgridcolor": "#506784",
             "startlinecolor": "#A2B1C6"
            },
            "type": "carpet"
           }
          ],
          "table": [
           {
            "cells": {
             "fill": {
              "color": "#506784"
             },
             "line": {
              "color": "rgb(17,17,17)"
             }
            },
            "header": {
             "fill": {
              "color": "#2a3f5f"
             },
             "line": {
              "color": "rgb(17,17,17)"
             }
            },
            "type": "table"
           }
          ],
          "barpolar": [
           {
            "marker": {
             "line": {
              "color": "rgb(17,17,17)",
              "width": 0.5
             },
             "pattern": {
              "fillmode": "overlay",
              "size": 10,
              "solidity": 0.2
             }
            },
            "type": "barpolar"
           }
          ],
          "pie": [
           {
            "automargin": true,
            "type": "pie"
           }
          ]
         },
         "layout": {
          "autotypenumbers": "strict",
          "colorway": [
           "#636efa",
           "#EF553B",
           "#00cc96",
           "#ab63fa",
           "#FFA15A",
           "#19d3f3",
           "#FF6692",
           "#B6E880",
           "#FF97FF",
           "#FECB52"
          ],
          "font": {
           "color": "#f2f5fa"
          },
          "hovermode": "closest",
          "hoverlabel": {
           "align": "left"
          },
          "paper_bgcolor": "rgb(17,17,17)",
          "plot_bgcolor": "rgb(17,17,17)",
          "polar": {
           "bgcolor": "rgb(17,17,17)",
           "angularaxis": {
            "gridcolor": "#506784",
            "linecolor": "#506784",
            "ticks": ""
           },
           "radialaxis": {
            "gridcolor": "#506784",
            "linecolor": "#506784",
            "ticks": ""
           }
          },
          "ternary": {
           "bgcolor": "rgb(17,17,17)",
           "aaxis": {
            "gridcolor": "#506784",
            "linecolor": "#506784",
            "ticks": ""
           },
           "baxis": {
            "gridcolor": "#506784",
            "linecolor": "#506784",
            "ticks": ""
           },
           "caxis": {
            "gridcolor": "#506784",
            "linecolor": "#506784",
            "ticks": ""
           }
          },
          "coloraxis": {
           "colorbar": {
            "outlinewidth": 0,
            "ticks": ""
           }
          },
          "colorscale": {
           "sequential": [
            [
             0.0,
             "#0d0887"
            ],
            [
             0.1111111111111111,
             "#46039f"
            ],
            [
             0.2222222222222222,
             "#7201a8"
            ],
            [
             0.3333333333333333,
             "#9c179e"
            ],
            [
             0.4444444444444444,
             "#bd3786"
            ],
            [
             0.5555555555555556,
             "#d8576b"
            ],
            [
             0.6666666666666666,
             "#ed7953"
            ],
            [
             0.7777777777777778,
             "#fb9f3a"
            ],
            [
             0.8888888888888888,
             "#fdca26"
            ],
            [
             1.0,
             "#f0f921"
            ]
           ],
           "sequentialminus": [
            [
             0.0,
             "#0d0887"
            ],
            [
             0.1111111111111111,
             "#46039f"
            ],
            [
             0.2222222222222222,
             "#7201a8"
            ],
            [
             0.3333333333333333,
             "#9c179e"
            ],
            [
             0.4444444444444444,
             "#bd3786"
            ],
            [
             0.5555555555555556,
             "#d8576b"
            ],
            [
             0.6666666666666666,
             "#ed7953"
            ],
            [
             0.7777777777777778,
             "#fb9f3a"
            ],
            [
             0.8888888888888888,
             "#fdca26"
            ],
            [
             1.0,
             "#f0f921"
            ]
           ],
           "diverging": [
            [
             0,
             "#8e0152"
            ],
            [
             0.1,
             "#c51b7d"
            ],
            [
             0.2,
             "#de77ae"
            ],
            [
             0.3,
             "#f1b6da"
            ],
            [
             0.4,
             "#fde0ef"
            ],
            [
             0.5,
             "#f7f7f7"
            ],
            [
             0.6,
             "#e6f5d0"
            ],
            [
             0.7,
             "#b8e186"
            ],
            [
             0.8,
             "#7fbc41"
            ],
            [
             0.9,
             "#4d9221"
            ],
            [
             1,
             "#276419"
            ]
           ]
          },
          "xaxis": {
           "gridcolor": "#283442",
           "linecolor": "#506784",
           "ticks": "",
           "title": {
            "standoff": 15
           },
           "zerolinecolor": "#283442",
           "automargin": true,
           "zerolinewidth": 2
          },
          "yaxis": {
           "gridcolor": "#283442",
           "linecolor": "#506784",
           "ticks": "",
           "title": {
            "standoff": 15
           },
           "zerolinecolor": "#283442",
           "automargin": true,
           "zerolinewidth": 2
          },
          "scene": {
           "xaxis": {
            "backgroundcolor": "rgb(17,17,17)",
            "gridcolor": "#506784",
            "linecolor": "#506784",
            "showbackground": true,
            "ticks": "",
            "zerolinecolor": "#C8D4E3",
            "gridwidth": 2
           },
           "yaxis": {
            "backgroundcolor": "rgb(17,17,17)",
            "gridcolor": "#506784",
            "linecolor": "#506784",
            "showbackground": true,
            "ticks": "",
            "zerolinecolor": "#C8D4E3",
            "gridwidth": 2
           },
           "zaxis": {
            "backgroundcolor": "rgb(17,17,17)",
            "gridcolor": "#506784",
            "linecolor": "#506784",
            "showbackground": true,
            "ticks": "",
            "zerolinecolor": "#C8D4E3",
            "gridwidth": 2
           }
          },
          "shapedefaults": {
           "line": {
            "color": "#f2f5fa"
           }
          },
          "annotationdefaults": {
           "arrowcolor": "#f2f5fa",
           "arrowhead": 0,
           "arrowwidth": 1
          },
          "geo": {
           "bgcolor": "rgb(17,17,17)",
           "landcolor": "rgb(17,17,17)",
           "subunitcolor": "#506784",
           "showland": true,
           "showlakes": true,
           "lakecolor": "rgb(17,17,17)"
          },
          "title": {
           "x": 0.05
          },
          "updatemenudefaults": {
           "bgcolor": "#506784",
           "borderwidth": 0
          },
          "sliderdefaults": {
           "bgcolor": "#C8D4E3",
           "borderwidth": 1,
           "bordercolor": "rgb(17,17,17)",
           "tickwidth": 0
          },
          "mapbox": {
           "style": "dark"
          }
         }
        },
        "xaxis": {
         "anchor": "y",
         "domain": [
          0.0,
          0.26666666666666666
         ],
         "title": {
          "text": "FDR Threshold"
         }
        },
        "yaxis": {
         "anchor": "x",
         "domain": [
          0.575,
          1.0
         ],
         "title": {
          "text": "Number of Identifications"
         }
        },
        "xaxis2": {
         "anchor": "y2",
         "domain": [
          0.3666666666666667,
          0.6333333333333333
         ],
         "title": {
          "text": "FDR Threshold"
         }
        },
        "yaxis2": {
         "anchor": "x2",
         "domain": [
          0.575,
          1.0
         ],
         "title": {
          "text": "Number of Identifications"
         }
        },
        "xaxis3": {
         "anchor": "y3",
         "domain": [
          0.7333333333333334,
          1.0
         ],
         "title": {
          "text": "FDR Threshold"
         }
        },
        "yaxis3": {
         "anchor": "x3",
         "domain": [
          0.575,
          1.0
         ],
         "title": {
          "text": "Number of Identifications"
         }
        },
        "xaxis4": {
         "anchor": "y4",
         "domain": [
          0.0,
          0.26666666666666666
         ],
         "title": {
          "text": "FDR Threshold"
         }
        },
        "yaxis4": {
         "anchor": "x4",
         "domain": [
          0.0,
          0.425
         ],
         "title": {
          "text": "Number of Identifications"
         }
        },
        "xaxis5": {
         "anchor": "y5",
         "domain": [
          0.3666666666666667,
          0.6333333333333333
         ],
         "title": {
          "text": "FDR Threshold"
         }
        },
        "yaxis5": {
         "anchor": "x5",
         "domain": [
          0.0,
          0.425
         ],
         "title": {
          "text": "Number of Identifications"
         }
        },
        "xaxis6": {
         "anchor": "y6",
         "domain": [
          0.7333333333333334,
          1.0
         ],
         "title": {
          "text": "FDR Threshold"
         }
        },
        "yaxis6": {
         "anchor": "x6",
         "domain": [
          0.0,
          0.425
         ],
         "title": {
          "text": "Number of Identifications"
         }
        },
        "annotations": [
         {
          "font": {
           "size": 16
          },
          "showarrow": false,
          "text": "CTR03_BA46_INSOLUBLE_01<br>Andromeda",
          "x": 0.13333333333333333,
          "xanchor": "center",
          "xref": "paper",
          "y": 1.0,
          "yanchor": "bottom",
          "yref": "paper"
         },
         {
          "font": {
           "size": 16
          },
          "showarrow": false,
          "text": "CTR08_BA46_INSOLUBLE_01<br>Andromeda",
          "x": 0.5,
          "xanchor": "center",
          "xref": "paper",
          "y": 1.0,
          "yanchor": "bottom",
          "yref": "paper"
         },
         {
          "font": {
           "size": 16
          },
          "showarrow": false,
          "text": "CTR45_BA46_INSOLUBLE_01<br>Andromeda",
          "x": 0.8666666666666667,
          "xanchor": "center",
          "xref": "paper",
          "y": 1.0,
          "yanchor": "bottom",
          "yref": "paper"
         },
         {
          "font": {
           "size": 16
          },
          "showarrow": false,
          "text": "CTR03_BA46_INSOLUBLE_01<br>Simple Scoring",
          "x": 0.13333333333333333,
          "xanchor": "center",
          "xref": "paper",
          "y": 0.425,
          "yanchor": "bottom",
          "yref": "paper"
         },
         {
          "font": {
           "size": 16
          },
          "showarrow": false,
          "text": "CTR08_BA46_INSOLUBLE_01<br>Simple Scoring",
          "x": 0.5,
          "xanchor": "center",
          "xref": "paper",
          "y": 0.425,
          "yanchor": "bottom",
          "yref": "paper"
         },
         {
          "font": {
           "size": 16
          },
          "showarrow": false,
          "text": "CTR45_BA46_INSOLUBLE_01<br>Simple Scoring",
          "x": 0.8666666666666667,
          "xanchor": "center",
          "xref": "paper",
          "y": 0.425,
          "yanchor": "bottom",
          "yref": "paper"
         }
        ],
        "title": {
         "text": "FDR-Calibrated Hit Counts by Experiment and Scoring Function"
        },
        "margin": {
         "t": 100
        },
        "height": 800,
        "width": 1200,
        "showlegend": false
       },
       "config": {
        "plotlyServerURL": "https://plot.ly"
       }
      },
      "text/html": [
       "<div>                            <div id=\"39cde598-2b8c-4c6a-b00f-5cf1fe48139d\" class=\"plotly-graph-div\" style=\"height:800px; width:1200px;\"></div>            <script type=\"text/javascript\">                require([\"plotly\"], function(Plotly) {                    window.PLOTLYENV=window.PLOTLYENV || {};                                    if (document.getElementById(\"39cde598-2b8c-4c6a-b00f-5cf1fe48139d\")) {                    Plotly.newPlot(                        \"39cde598-2b8c-4c6a-b00f-5cf1fe48139d\",                        [{\"name\":\"CTR03_BA46_INSOLUBLE_01 - Andromeda\",\"text\":[\"5538\",\"8557\",\"10860\"],\"textposition\":\"auto\",\"x\":[\"1.0%\",\"10.0%\",\"25.0%\"],\"y\":[5538,8557,10860],\"type\":\"bar\",\"xaxis\":\"x\",\"yaxis\":\"y\"},{\"name\":\"CTR08_BA46_INSOLUBLE_01 - Andromeda\",\"text\":[\"6781\",\"10005\",\"12469\"],\"textposition\":\"auto\",\"x\":[\"1.0%\",\"10.0%\",\"25.0%\"],\"y\":[6781,10005,12469],\"type\":\"bar\",\"xaxis\":\"x2\",\"yaxis\":\"y2\"},{\"name\":\"CTR45_BA46_INSOLUBLE_01 - Andromeda\",\"text\":[\"4693\",\"6785\",\"8490\"],\"textposition\":\"auto\",\"x\":[\"1.0%\",\"10.0%\",\"25.0%\"],\"y\":[4693,6785,8490],\"type\":\"bar\",\"xaxis\":\"x3\",\"yaxis\":\"y3\"},{\"name\":\"CTR08_BA46_INSOLUBLE_01 - Simple Scoring\",\"text\":[\"1\",\"1\",\"3\"],\"textposition\":\"auto\",\"x\":[\"1.0%\",\"10.0%\",\"25.0%\"],\"y\":[1,1,3],\"type\":\"bar\",\"xaxis\":\"x5\",\"yaxis\":\"y5\"}],                        {\"template\":{\"data\":{\"histogram2dcontour\":[{\"type\":\"histogram2dcontour\",\"colorbar\":{\"outlinewidth\":0,\"ticks\":\"\"},\"colorscale\":[[0.0,\"#0d0887\"],[0.1111111111111111,\"#46039f\"],[0.2222222222222222,\"#7201a8\"],[0.3333333333333333,\"#9c179e\"],[0.4444444444444444,\"#bd3786\"],[0.5555555555555556,\"#d8576b\"],[0.6666666666666666,\"#ed7953\"],[0.7777777777777778,\"#fb9f3a\"],[0.8888888888888888,\"#fdca26\"],[1.0,\"#f0f921\"]]}],\"choropleth\":[{\"type\":\"choropleth\",\"colorbar\":{\"outlinewidth\":0,\"ticks\":\"\"}}],\"histogram2d\":[{\"type\":\"histogram2d\",\"colorbar\":{\"outlinewidth\":0,\"ticks\":\"\"},\"colorscale\":[[0.0,\"#0d0887\"],[0.1111111111111111,\"#46039f\"],[0.2222222222222222,\"#7201a8\"],[0.3333333333333333,\"#9c179e\"],[0.4444444444444444,\"#bd3786\"],[0.5555555555555556,\"#d8576b\"],[0.6666666666666666,\"#ed7953\"],[0.7777777777777778,\"#fb9f3a\"],[0.8888888888888888,\"#fdca26\"],[1.0,\"#f0f921\"]]}],\"heatmap\":[{\"type\":\"heatmap\",\"colorbar\":{\"outlinewidth\":0,\"ticks\":\"\"},\"colorscale\":[[0.0,\"#0d0887\"],[0.1111111111111111,\"#46039f\"],[0.2222222222222222,\"#7201a8\"],[0.3333333333333333,\"#9c179e\"],[0.4444444444444444,\"#bd3786\"],[0.5555555555555556,\"#d8576b\"],[0.6666666666666666,\"#ed7953\"],[0.7777777777777778,\"#fb9f3a\"],[0.8888888888888888,\"#fdca26\"],[1.0,\"#f0f921\"]]}],\"heatmapgl\":[{\"type\":\"heatmapgl\",\"colorbar\":{\"outlinewidth\":0,\"ticks\":\"\"},\"colorscale\":[[0.0,\"#0d0887\"],[0.1111111111111111,\"#46039f\"],[0.2222222222222222,\"#7201a8\"],[0.3333333333333333,\"#9c179e\"],[0.4444444444444444,\"#bd3786\"],[0.5555555555555556,\"#d8576b\"],[0.6666666666666666,\"#ed7953\"],[0.7777777777777778,\"#fb9f3a\"],[0.8888888888888888,\"#fdca26\"],[1.0,\"#f0f921\"]]}],\"contourcarpet\":[{\"type\":\"contourcarpet\",\"colorbar\":{\"outlinewidth\":0,\"ticks\":\"\"}}],\"contour\":[{\"type\":\"contour\",\"colorbar\":{\"outlinewidth\":0,\"ticks\":\"\"},\"colorscale\":[[0.0,\"#0d0887\"],[0.1111111111111111,\"#46039f\"],[0.2222222222222222,\"#7201a8\"],[0.3333333333333333,\"#9c179e\"],[0.4444444444444444,\"#bd3786\"],[0.5555555555555556,\"#d8576b\"],[0.6666666666666666,\"#ed7953\"],[0.7777777777777778,\"#fb9f3a\"],[0.8888888888888888,\"#fdca26\"],[1.0,\"#f0f921\"]]}],\"surface\":[{\"type\":\"surface\",\"colorbar\":{\"outlinewidth\":0,\"ticks\":\"\"},\"colorscale\":[[0.0,\"#0d0887\"],[0.1111111111111111,\"#46039f\"],[0.2222222222222222,\"#7201a8\"],[0.3333333333333333,\"#9c179e\"],[0.4444444444444444,\"#bd3786\"],[0.5555555555555556,\"#d8576b\"],[0.6666666666666666,\"#ed7953\"],[0.7777777777777778,\"#fb9f3a\"],[0.8888888888888888,\"#fdca26\"],[1.0,\"#f0f921\"]]}],\"mesh3d\":[{\"type\":\"mesh3d\",\"colorbar\":{\"outlinewidth\":0,\"ticks\":\"\"}}],\"scatter\":[{\"marker\":{\"line\":{\"color\":\"#283442\"}},\"type\":\"scatter\"}],\"parcoords\":[{\"type\":\"parcoords\",\"line\":{\"colorbar\":{\"outlinewidth\":0,\"ticks\":\"\"}}}],\"scatterpolargl\":[{\"type\":\"scatterpolargl\",\"marker\":{\"colorbar\":{\"outlinewidth\":0,\"ticks\":\"\"}}}],\"bar\":[{\"error_x\":{\"color\":\"#f2f5fa\"},\"error_y\":{\"color\":\"#f2f5fa\"},\"marker\":{\"line\":{\"color\":\"rgb(17,17,17)\",\"width\":0.5},\"pattern\":{\"fillmode\":\"overlay\",\"size\":10,\"solidity\":0.2}},\"type\":\"bar\"}],\"scattergeo\":[{\"type\":\"scattergeo\",\"marker\":{\"colorbar\":{\"outlinewidth\":0,\"ticks\":\"\"}}}],\"scatterpolar\":[{\"type\":\"scatterpolar\",\"marker\":{\"colorbar\":{\"outlinewidth\":0,\"ticks\":\"\"}}}],\"histogram\":[{\"marker\":{\"pattern\":{\"fillmode\":\"overlay\",\"size\":10,\"solidity\":0.2}},\"type\":\"histogram\"}],\"scattergl\":[{\"marker\":{\"line\":{\"color\":\"#283442\"}},\"type\":\"scattergl\"}],\"scatter3d\":[{\"type\":\"scatter3d\",\"line\":{\"colorbar\":{\"outlinewidth\":0,\"ticks\":\"\"}},\"marker\":{\"colorbar\":{\"outlinewidth\":0,\"ticks\":\"\"}}}],\"scattermapbox\":[{\"type\":\"scattermapbox\",\"marker\":{\"colorbar\":{\"outlinewidth\":0,\"ticks\":\"\"}}}],\"scatterternary\":[{\"type\":\"scatterternary\",\"marker\":{\"colorbar\":{\"outlinewidth\":0,\"ticks\":\"\"}}}],\"scattercarpet\":[{\"type\":\"scattercarpet\",\"marker\":{\"colorbar\":{\"outlinewidth\":0,\"ticks\":\"\"}}}],\"carpet\":[{\"aaxis\":{\"endlinecolor\":\"#A2B1C6\",\"gridcolor\":\"#506784\",\"linecolor\":\"#506784\",\"minorgridcolor\":\"#506784\",\"startlinecolor\":\"#A2B1C6\"},\"baxis\":{\"endlinecolor\":\"#A2B1C6\",\"gridcolor\":\"#506784\",\"linecolor\":\"#506784\",\"minorgridcolor\":\"#506784\",\"startlinecolor\":\"#A2B1C6\"},\"type\":\"carpet\"}],\"table\":[{\"cells\":{\"fill\":{\"color\":\"#506784\"},\"line\":{\"color\":\"rgb(17,17,17)\"}},\"header\":{\"fill\":{\"color\":\"#2a3f5f\"},\"line\":{\"color\":\"rgb(17,17,17)\"}},\"type\":\"table\"}],\"barpolar\":[{\"marker\":{\"line\":{\"color\":\"rgb(17,17,17)\",\"width\":0.5},\"pattern\":{\"fillmode\":\"overlay\",\"size\":10,\"solidity\":0.2}},\"type\":\"barpolar\"}],\"pie\":[{\"automargin\":true,\"type\":\"pie\"}]},\"layout\":{\"autotypenumbers\":\"strict\",\"colorway\":[\"#636efa\",\"#EF553B\",\"#00cc96\",\"#ab63fa\",\"#FFA15A\",\"#19d3f3\",\"#FF6692\",\"#B6E880\",\"#FF97FF\",\"#FECB52\"],\"font\":{\"color\":\"#f2f5fa\"},\"hovermode\":\"closest\",\"hoverlabel\":{\"align\":\"left\"},\"paper_bgcolor\":\"rgb(17,17,17)\",\"plot_bgcolor\":\"rgb(17,17,17)\",\"polar\":{\"bgcolor\":\"rgb(17,17,17)\",\"angularaxis\":{\"gridcolor\":\"#506784\",\"linecolor\":\"#506784\",\"ticks\":\"\"},\"radialaxis\":{\"gridcolor\":\"#506784\",\"linecolor\":\"#506784\",\"ticks\":\"\"}},\"ternary\":{\"bgcolor\":\"rgb(17,17,17)\",\"aaxis\":{\"gridcolor\":\"#506784\",\"linecolor\":\"#506784\",\"ticks\":\"\"},\"baxis\":{\"gridcolor\":\"#506784\",\"linecolor\":\"#506784\",\"ticks\":\"\"},\"caxis\":{\"gridcolor\":\"#506784\",\"linecolor\":\"#506784\",\"ticks\":\"\"}},\"coloraxis\":{\"colorbar\":{\"outlinewidth\":0,\"ticks\":\"\"}},\"colorscale\":{\"sequential\":[[0.0,\"#0d0887\"],[0.1111111111111111,\"#46039f\"],[0.2222222222222222,\"#7201a8\"],[0.3333333333333333,\"#9c179e\"],[0.4444444444444444,\"#bd3786\"],[0.5555555555555556,\"#d8576b\"],[0.6666666666666666,\"#ed7953\"],[0.7777777777777778,\"#fb9f3a\"],[0.8888888888888888,\"#fdca26\"],[1.0,\"#f0f921\"]],\"sequentialminus\":[[0.0,\"#0d0887\"],[0.1111111111111111,\"#46039f\"],[0.2222222222222222,\"#7201a8\"],[0.3333333333333333,\"#9c179e\"],[0.4444444444444444,\"#bd3786\"],[0.5555555555555556,\"#d8576b\"],[0.6666666666666666,\"#ed7953\"],[0.7777777777777778,\"#fb9f3a\"],[0.8888888888888888,\"#fdca26\"],[1.0,\"#f0f921\"]],\"diverging\":[[0,\"#8e0152\"],[0.1,\"#c51b7d\"],[0.2,\"#de77ae\"],[0.3,\"#f1b6da\"],[0.4,\"#fde0ef\"],[0.5,\"#f7f7f7\"],[0.6,\"#e6f5d0\"],[0.7,\"#b8e186\"],[0.8,\"#7fbc41\"],[0.9,\"#4d9221\"],[1,\"#276419\"]]},\"xaxis\":{\"gridcolor\":\"#283442\",\"linecolor\":\"#506784\",\"ticks\":\"\",\"title\":{\"standoff\":15},\"zerolinecolor\":\"#283442\",\"automargin\":true,\"zerolinewidth\":2},\"yaxis\":{\"gridcolor\":\"#283442\",\"linecolor\":\"#506784\",\"ticks\":\"\",\"title\":{\"standoff\":15},\"zerolinecolor\":\"#283442\",\"automargin\":true,\"zerolinewidth\":2},\"scene\":{\"xaxis\":{\"backgroundcolor\":\"rgb(17,17,17)\",\"gridcolor\":\"#506784\",\"linecolor\":\"#506784\",\"showbackground\":true,\"ticks\":\"\",\"zerolinecolor\":\"#C8D4E3\",\"gridwidth\":2},\"yaxis\":{\"backgroundcolor\":\"rgb(17,17,17)\",\"gridcolor\":\"#506784\",\"linecolor\":\"#506784\",\"showbackground\":true,\"ticks\":\"\",\"zerolinecolor\":\"#C8D4E3\",\"gridwidth\":2},\"zaxis\":{\"backgroundcolor\":\"rgb(17,17,17)\",\"gridcolor\":\"#506784\",\"linecolor\":\"#506784\",\"showbackground\":true,\"ticks\":\"\",\"zerolinecolor\":\"#C8D4E3\",\"gridwidth\":2}},\"shapedefaults\":{\"line\":{\"color\":\"#f2f5fa\"}},\"annotationdefaults\":{\"arrowcolor\":\"#f2f5fa\",\"arrowhead\":0,\"arrowwidth\":1},\"geo\":{\"bgcolor\":\"rgb(17,17,17)\",\"landcolor\":\"rgb(17,17,17)\",\"subunitcolor\":\"#506784\",\"showland\":true,\"showlakes\":true,\"lakecolor\":\"rgb(17,17,17)\"},\"title\":{\"x\":0.05},\"updatemenudefaults\":{\"bgcolor\":\"#506784\",\"borderwidth\":0},\"sliderdefaults\":{\"bgcolor\":\"#C8D4E3\",\"borderwidth\":1,\"bordercolor\":\"rgb(17,17,17)\",\"tickwidth\":0},\"mapbox\":{\"style\":\"dark\"}}},\"xaxis\":{\"anchor\":\"y\",\"domain\":[0.0,0.26666666666666666],\"title\":{\"text\":\"FDR Threshold\"}},\"yaxis\":{\"anchor\":\"x\",\"domain\":[0.575,1.0],\"title\":{\"text\":\"Number of Identifications\"}},\"xaxis2\":{\"anchor\":\"y2\",\"domain\":[0.3666666666666667,0.6333333333333333],\"title\":{\"text\":\"FDR Threshold\"}},\"yaxis2\":{\"anchor\":\"x2\",\"domain\":[0.575,1.0],\"title\":{\"text\":\"Number of Identifications\"}},\"xaxis3\":{\"anchor\":\"y3\",\"domain\":[0.7333333333333334,1.0],\"title\":{\"text\":\"FDR Threshold\"}},\"yaxis3\":{\"anchor\":\"x3\",\"domain\":[0.575,1.0],\"title\":{\"text\":\"Number of Identifications\"}},\"xaxis4\":{\"anchor\":\"y4\",\"domain\":[0.0,0.26666666666666666],\"title\":{\"text\":\"FDR Threshold\"}},\"yaxis4\":{\"anchor\":\"x4\",\"domain\":[0.0,0.425],\"title\":{\"text\":\"Number of Identifications\"}},\"xaxis5\":{\"anchor\":\"y5\",\"domain\":[0.3666666666666667,0.6333333333333333],\"title\":{\"text\":\"FDR Threshold\"}},\"yaxis5\":{\"anchor\":\"x5\",\"domain\":[0.0,0.425],\"title\":{\"text\":\"Number of Identifications\"}},\"xaxis6\":{\"anchor\":\"y6\",\"domain\":[0.7333333333333334,1.0],\"title\":{\"text\":\"FDR Threshold\"}},\"yaxis6\":{\"anchor\":\"x6\",\"domain\":[0.0,0.425],\"title\":{\"text\":\"Number of Identifications\"}},\"annotations\":[{\"font\":{\"size\":16},\"showarrow\":false,\"text\":\"CTR03_BA46_INSOLUBLE_01\\u003cbr\\u003eAndromeda\",\"x\":0.13333333333333333,\"xanchor\":\"center\",\"xref\":\"paper\",\"y\":1.0,\"yanchor\":\"bottom\",\"yref\":\"paper\"},{\"font\":{\"size\":16},\"showarrow\":false,\"text\":\"CTR08_BA46_INSOLUBLE_01\\u003cbr\\u003eAndromeda\",\"x\":0.5,\"xanchor\":\"center\",\"xref\":\"paper\",\"y\":1.0,\"yanchor\":\"bottom\",\"yref\":\"paper\"},{\"font\":{\"size\":16},\"showarrow\":false,\"text\":\"CTR45_BA46_INSOLUBLE_01\\u003cbr\\u003eAndromeda\",\"x\":0.8666666666666667,\"xanchor\":\"center\",\"xref\":\"paper\",\"y\":1.0,\"yanchor\":\"bottom\",\"yref\":\"paper\"},{\"font\":{\"size\":16},\"showarrow\":false,\"text\":\"CTR03_BA46_INSOLUBLE_01\\u003cbr\\u003eSimple Scoring\",\"x\":0.13333333333333333,\"xanchor\":\"center\",\"xref\":\"paper\",\"y\":0.425,\"yanchor\":\"bottom\",\"yref\":\"paper\"},{\"font\":{\"size\":16},\"showarrow\":false,\"text\":\"CTR08_BA46_INSOLUBLE_01\\u003cbr\\u003eSimple Scoring\",\"x\":0.5,\"xanchor\":\"center\",\"xref\":\"paper\",\"y\":0.425,\"yanchor\":\"bottom\",\"yref\":\"paper\"},{\"font\":{\"size\":16},\"showarrow\":false,\"text\":\"CTR45_BA46_INSOLUBLE_01\\u003cbr\\u003eSimple Scoring\",\"x\":0.8666666666666667,\"xanchor\":\"center\",\"xref\":\"paper\",\"y\":0.425,\"yanchor\":\"bottom\",\"yref\":\"paper\"}],\"title\":{\"text\":\"FDR-Calibrated Hit Counts by Experiment and Scoring Function\"},\"margin\":{\"t\":100},\"height\":800,\"width\":1200,\"showlegend\":false},                        {\"responsive\": true}                    ).then(function(){\n",
       "                            \n",
       "var gd = document.getElementById('39cde598-2b8c-4c6a-b00f-5cf1fe48139d');\n",
       "var x = new MutationObserver(function (mutations, observer) {{\n",
       "        var display = window.getComputedStyle(gd).display;\n",
       "        if (!display || display === 'none') {{\n",
       "            console.log([gd, 'removed!']);\n",
       "            Plotly.purge(gd);\n",
       "            observer.disconnect();\n",
       "        }}\n",
       "}});\n",
       "\n",
       "// Listen for the removal of the full notebook cells\n",
       "var notebookContainer = gd.closest('#notebook-container');\n",
       "if (notebookContainer) {{\n",
       "    x.observe(notebookContainer, {childList: true});\n",
       "}}\n",
       "\n",
       "// Listen for the clearing of the current output cell\n",
       "var outputEl = gd.closest('.output');\n",
       "if (outputEl) {{\n",
       "    x.observe(outputEl, {childList: true});\n",
       "}}\n",
       "\n",
       "                        })                };                });            </script>        </div>"
      ]
     },
     "metadata": {},
     "output_type": "display_data"
    }
   ],
   "execution_count": 20
  },
  {
   "metadata": {},
   "cell_type": "code",
   "source": "",
   "id": "cbc76f33ef8d0e37",
   "outputs": [],
   "execution_count": null
  }
 ],
 "metadata": {
  "kernelspec": {
   "display_name": "Python 3",
   "language": "python",
   "name": "python3"
  },
  "language_info": {
   "codemirror_mode": {
    "name": "ipython",
    "version": 2
   },
   "file_extension": ".py",
   "mimetype": "text/x-python",
   "name": "python",
   "nbconvert_exporter": "python",
   "pygments_lexer": "ipython2",
   "version": "2.7.6"
  }
 },
 "nbformat": 4,
 "nbformat_minor": 5
}
